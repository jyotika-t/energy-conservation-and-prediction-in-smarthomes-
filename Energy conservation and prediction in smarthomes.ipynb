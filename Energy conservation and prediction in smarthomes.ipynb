{
 "cells": [
  {
   "cell_type": "code",
   "execution_count": 96,
   "metadata": {
    "colab": {
     "base_uri": "https://localhost:8080/"
    },
    "id": "NxBZ4oWoIfRI",
    "outputId": "c2918bbe-23df-4fef-cda6-05a88fff5a23"
   },
   "outputs": [
    {
     "name": "stdout",
     "output_type": "stream",
     "text": [
      "Requirement already satisfied: ipywidgets in c:\\users\\tjyot\\anaconda3\\lib\\site-packages (7.8.1)\n",
      "Requirement already satisfied: comm>=0.1.3 in c:\\users\\tjyot\\anaconda3\\lib\\site-packages (from ipywidgets) (0.2.1)\n",
      "Requirement already satisfied: ipython-genutils~=0.2.0 in c:\\users\\tjyot\\anaconda3\\lib\\site-packages (from ipywidgets) (0.2.0)\n",
      "Requirement already satisfied: traitlets>=4.3.1 in c:\\users\\tjyot\\anaconda3\\lib\\site-packages (from ipywidgets) (5.14.3)\n",
      "Requirement already satisfied: widgetsnbextension~=3.6.6 in c:\\users\\tjyot\\anaconda3\\lib\\site-packages (from ipywidgets) (3.6.6)\n",
      "Requirement already satisfied: ipython>=4.0.0 in c:\\users\\tjyot\\anaconda3\\lib\\site-packages (from ipywidgets) (8.25.0)\n",
      "Requirement already satisfied: jupyterlab-widgets<3,>=1.0.0 in c:\\users\\tjyot\\anaconda3\\lib\\site-packages (from ipywidgets) (1.0.0)\n",
      "Requirement already satisfied: decorator in c:\\users\\tjyot\\anaconda3\\lib\\site-packages (from ipython>=4.0.0->ipywidgets) (5.1.1)\n",
      "Requirement already satisfied: jedi>=0.16 in c:\\users\\tjyot\\anaconda3\\lib\\site-packages (from ipython>=4.0.0->ipywidgets) (0.18.1)\n",
      "Requirement already satisfied: matplotlib-inline in c:\\users\\tjyot\\anaconda3\\lib\\site-packages (from ipython>=4.0.0->ipywidgets) (0.1.6)\n",
      "Requirement already satisfied: prompt-toolkit<3.1.0,>=3.0.41 in c:\\users\\tjyot\\anaconda3\\lib\\site-packages (from ipython>=4.0.0->ipywidgets) (3.0.43)\n",
      "Requirement already satisfied: pygments>=2.4.0 in c:\\users\\tjyot\\anaconda3\\lib\\site-packages (from ipython>=4.0.0->ipywidgets) (2.15.1)\n",
      "Requirement already satisfied: stack-data in c:\\users\\tjyot\\anaconda3\\lib\\site-packages (from ipython>=4.0.0->ipywidgets) (0.2.0)\n",
      "Requirement already satisfied: colorama in c:\\users\\tjyot\\anaconda3\\lib\\site-packages (from ipython>=4.0.0->ipywidgets) (0.4.6)\n",
      "Requirement already satisfied: notebook>=4.4.1 in c:\\users\\tjyot\\anaconda3\\lib\\site-packages (from widgetsnbextension~=3.6.6->ipywidgets) (7.0.8)\n",
      "Requirement already satisfied: parso<0.9.0,>=0.8.0 in c:\\users\\tjyot\\anaconda3\\lib\\site-packages (from jedi>=0.16->ipython>=4.0.0->ipywidgets) (0.8.3)\n",
      "Requirement already satisfied: jupyter-server<3,>=2.4.0 in c:\\users\\tjyot\\anaconda3\\lib\\site-packages (from notebook>=4.4.1->widgetsnbextension~=3.6.6->ipywidgets) (2.14.1)\n",
      "Requirement already satisfied: jupyterlab-server<3,>=2.22.1 in c:\\users\\tjyot\\anaconda3\\lib\\site-packages (from notebook>=4.4.1->widgetsnbextension~=3.6.6->ipywidgets) (2.25.1)\n",
      "Requirement already satisfied: jupyterlab<4.1,>=4.0.2 in c:\\users\\tjyot\\anaconda3\\lib\\site-packages (from notebook>=4.4.1->widgetsnbextension~=3.6.6->ipywidgets) (4.0.11)\n",
      "Requirement already satisfied: notebook-shim<0.3,>=0.2 in c:\\users\\tjyot\\anaconda3\\lib\\site-packages (from notebook>=4.4.1->widgetsnbextension~=3.6.6->ipywidgets) (0.2.3)\n",
      "Requirement already satisfied: tornado>=6.2.0 in c:\\users\\tjyot\\anaconda3\\lib\\site-packages (from notebook>=4.4.1->widgetsnbextension~=3.6.6->ipywidgets) (6.4.1)\n",
      "Requirement already satisfied: wcwidth in c:\\users\\tjyot\\anaconda3\\lib\\site-packages (from prompt-toolkit<3.1.0,>=3.0.41->ipython>=4.0.0->ipywidgets) (0.2.5)\n",
      "Requirement already satisfied: executing in c:\\users\\tjyot\\anaconda3\\lib\\site-packages (from stack-data->ipython>=4.0.0->ipywidgets) (0.8.3)\n",
      "Requirement already satisfied: asttokens in c:\\users\\tjyot\\anaconda3\\lib\\site-packages (from stack-data->ipython>=4.0.0->ipywidgets) (2.0.5)\n",
      "Requirement already satisfied: pure-eval in c:\\users\\tjyot\\anaconda3\\lib\\site-packages (from stack-data->ipython>=4.0.0->ipywidgets) (0.2.2)\n",
      "Requirement already satisfied: anyio>=3.1.0 in c:\\users\\tjyot\\anaconda3\\lib\\site-packages (from jupyter-server<3,>=2.4.0->notebook>=4.4.1->widgetsnbextension~=3.6.6->ipywidgets) (4.2.0)\n",
      "Requirement already satisfied: argon2-cffi>=21.1 in c:\\users\\tjyot\\anaconda3\\lib\\site-packages (from jupyter-server<3,>=2.4.0->notebook>=4.4.1->widgetsnbextension~=3.6.6->ipywidgets) (21.3.0)\n",
      "Requirement already satisfied: jinja2>=3.0.3 in c:\\users\\tjyot\\anaconda3\\lib\\site-packages (from jupyter-server<3,>=2.4.0->notebook>=4.4.1->widgetsnbextension~=3.6.6->ipywidgets) (3.1.4)\n",
      "Requirement already satisfied: jupyter-client>=7.4.4 in c:\\users\\tjyot\\anaconda3\\lib\\site-packages (from jupyter-server<3,>=2.4.0->notebook>=4.4.1->widgetsnbextension~=3.6.6->ipywidgets) (8.6.0)\n",
      "Requirement already satisfied: jupyter-core!=5.0.*,>=4.12 in c:\\users\\tjyot\\anaconda3\\lib\\site-packages (from jupyter-server<3,>=2.4.0->notebook>=4.4.1->widgetsnbextension~=3.6.6->ipywidgets) (5.7.2)\n",
      "Requirement already satisfied: jupyter-events>=0.9.0 in c:\\users\\tjyot\\anaconda3\\lib\\site-packages (from jupyter-server<3,>=2.4.0->notebook>=4.4.1->widgetsnbextension~=3.6.6->ipywidgets) (0.10.0)\n",
      "Requirement already satisfied: jupyter-server-terminals>=0.4.4 in c:\\users\\tjyot\\anaconda3\\lib\\site-packages (from jupyter-server<3,>=2.4.0->notebook>=4.4.1->widgetsnbextension~=3.6.6->ipywidgets) (0.4.4)\n",
      "Requirement already satisfied: nbconvert>=6.4.4 in c:\\users\\tjyot\\anaconda3\\lib\\site-packages (from jupyter-server<3,>=2.4.0->notebook>=4.4.1->widgetsnbextension~=3.6.6->ipywidgets) (7.10.0)\n",
      "Requirement already satisfied: nbformat>=5.3.0 in c:\\users\\tjyot\\anaconda3\\lib\\site-packages (from jupyter-server<3,>=2.4.0->notebook>=4.4.1->widgetsnbextension~=3.6.6->ipywidgets) (5.9.2)\n",
      "Requirement already satisfied: overrides>=5.0 in c:\\users\\tjyot\\anaconda3\\lib\\site-packages (from jupyter-server<3,>=2.4.0->notebook>=4.4.1->widgetsnbextension~=3.6.6->ipywidgets) (7.4.0)\n",
      "Requirement already satisfied: packaging>=22.0 in c:\\users\\tjyot\\anaconda3\\lib\\site-packages (from jupyter-server<3,>=2.4.0->notebook>=4.4.1->widgetsnbextension~=3.6.6->ipywidgets) (23.2)\n",
      "Requirement already satisfied: prometheus-client>=0.9 in c:\\users\\tjyot\\anaconda3\\lib\\site-packages (from jupyter-server<3,>=2.4.0->notebook>=4.4.1->widgetsnbextension~=3.6.6->ipywidgets) (0.14.1)\n",
      "Requirement already satisfied: pywinpty>=2.0.1 in c:\\users\\tjyot\\anaconda3\\lib\\site-packages (from jupyter-server<3,>=2.4.0->notebook>=4.4.1->widgetsnbextension~=3.6.6->ipywidgets) (2.0.10)\n",
      "Requirement already satisfied: pyzmq>=24 in c:\\users\\tjyot\\anaconda3\\lib\\site-packages (from jupyter-server<3,>=2.4.0->notebook>=4.4.1->widgetsnbextension~=3.6.6->ipywidgets) (25.1.2)\n",
      "Requirement already satisfied: send2trash>=1.8.2 in c:\\users\\tjyot\\anaconda3\\lib\\site-packages (from jupyter-server<3,>=2.4.0->notebook>=4.4.1->widgetsnbextension~=3.6.6->ipywidgets) (1.8.2)\n",
      "Requirement already satisfied: terminado>=0.8.3 in c:\\users\\tjyot\\anaconda3\\lib\\site-packages (from jupyter-server<3,>=2.4.0->notebook>=4.4.1->widgetsnbextension~=3.6.6->ipywidgets) (0.17.1)\n",
      "Requirement already satisfied: websocket-client>=1.7 in c:\\users\\tjyot\\anaconda3\\lib\\site-packages (from jupyter-server<3,>=2.4.0->notebook>=4.4.1->widgetsnbextension~=3.6.6->ipywidgets) (1.8.0)\n",
      "Requirement already satisfied: async-lru>=1.0.0 in c:\\users\\tjyot\\anaconda3\\lib\\site-packages (from jupyterlab<4.1,>=4.0.2->notebook>=4.4.1->widgetsnbextension~=3.6.6->ipywidgets) (2.0.4)\n",
      "Requirement already satisfied: ipykernel in c:\\users\\tjyot\\anaconda3\\lib\\site-packages (from jupyterlab<4.1,>=4.0.2->notebook>=4.4.1->widgetsnbextension~=3.6.6->ipywidgets) (6.28.0)\n",
      "Requirement already satisfied: jupyter-lsp>=2.0.0 in c:\\users\\tjyot\\anaconda3\\lib\\site-packages (from jupyterlab<4.1,>=4.0.2->notebook>=4.4.1->widgetsnbextension~=3.6.6->ipywidgets) (2.2.0)\n",
      "Requirement already satisfied: babel>=2.10 in c:\\users\\tjyot\\anaconda3\\lib\\site-packages (from jupyterlab-server<3,>=2.22.1->notebook>=4.4.1->widgetsnbextension~=3.6.6->ipywidgets) (2.11.0)\n",
      "Requirement already satisfied: json5>=0.9.0 in c:\\users\\tjyot\\anaconda3\\lib\\site-packages (from jupyterlab-server<3,>=2.22.1->notebook>=4.4.1->widgetsnbextension~=3.6.6->ipywidgets) (0.9.6)\n",
      "Requirement already satisfied: jsonschema>=4.18.0 in c:\\users\\tjyot\\anaconda3\\lib\\site-packages (from jupyterlab-server<3,>=2.22.1->notebook>=4.4.1->widgetsnbextension~=3.6.6->ipywidgets) (4.19.2)\n",
      "Requirement already satisfied: requests>=2.31 in c:\\users\\tjyot\\anaconda3\\lib\\site-packages (from jupyterlab-server<3,>=2.22.1->notebook>=4.4.1->widgetsnbextension~=3.6.6->ipywidgets) (2.32.2)\n",
      "Requirement already satisfied: six in c:\\users\\tjyot\\anaconda3\\lib\\site-packages (from asttokens->stack-data->ipython>=4.0.0->ipywidgets) (1.16.0)\n",
      "Requirement already satisfied: idna>=2.8 in c:\\users\\tjyot\\anaconda3\\lib\\site-packages (from anyio>=3.1.0->jupyter-server<3,>=2.4.0->notebook>=4.4.1->widgetsnbextension~=3.6.6->ipywidgets) (3.7)\n",
      "Requirement already satisfied: sniffio>=1.1 in c:\\users\\tjyot\\anaconda3\\lib\\site-packages (from anyio>=3.1.0->jupyter-server<3,>=2.4.0->notebook>=4.4.1->widgetsnbextension~=3.6.6->ipywidgets) (1.3.0)\n",
      "Requirement already satisfied: argon2-cffi-bindings in c:\\users\\tjyot\\anaconda3\\lib\\site-packages (from argon2-cffi>=21.1->jupyter-server<3,>=2.4.0->notebook>=4.4.1->widgetsnbextension~=3.6.6->ipywidgets) (21.2.0)\n",
      "Requirement already satisfied: pytz>=2015.7 in c:\\users\\tjyot\\anaconda3\\lib\\site-packages (from babel>=2.10->jupyterlab-server<3,>=2.22.1->notebook>=4.4.1->widgetsnbextension~=3.6.6->ipywidgets) (2024.1)\n",
      "Requirement already satisfied: MarkupSafe>=2.0 in c:\\users\\tjyot\\anaconda3\\lib\\site-packages (from jinja2>=3.0.3->jupyter-server<3,>=2.4.0->notebook>=4.4.1->widgetsnbextension~=3.6.6->ipywidgets) (2.1.3)\n",
      "Requirement already satisfied: attrs>=22.2.0 in c:\\users\\tjyot\\anaconda3\\lib\\site-packages (from jsonschema>=4.18.0->jupyterlab-server<3,>=2.22.1->notebook>=4.4.1->widgetsnbextension~=3.6.6->ipywidgets) (23.1.0)\n",
      "Requirement already satisfied: jsonschema-specifications>=2023.03.6 in c:\\users\\tjyot\\anaconda3\\lib\\site-packages (from jsonschema>=4.18.0->jupyterlab-server<3,>=2.22.1->notebook>=4.4.1->widgetsnbextension~=3.6.6->ipywidgets) (2023.7.1)\n",
      "Requirement already satisfied: referencing>=0.28.4 in c:\\users\\tjyot\\anaconda3\\lib\\site-packages (from jsonschema>=4.18.0->jupyterlab-server<3,>=2.22.1->notebook>=4.4.1->widgetsnbextension~=3.6.6->ipywidgets) (0.30.2)\n",
      "Requirement already satisfied: rpds-py>=0.7.1 in c:\\users\\tjyot\\anaconda3\\lib\\site-packages (from jsonschema>=4.18.0->jupyterlab-server<3,>=2.22.1->notebook>=4.4.1->widgetsnbextension~=3.6.6->ipywidgets) (0.10.6)\n",
      "Requirement already satisfied: python-dateutil>=2.8.2 in c:\\users\\tjyot\\anaconda3\\lib\\site-packages (from jupyter-client>=7.4.4->jupyter-server<3,>=2.4.0->notebook>=4.4.1->widgetsnbextension~=3.6.6->ipywidgets) (2.9.0.post0)\n",
      "Requirement already satisfied: platformdirs>=2.5 in c:\\users\\tjyot\\anaconda3\\lib\\site-packages (from jupyter-core!=5.0.*,>=4.12->jupyter-server<3,>=2.4.0->notebook>=4.4.1->widgetsnbextension~=3.6.6->ipywidgets) (3.10.0)\n",
      "Requirement already satisfied: pywin32>=300 in c:\\users\\tjyot\\anaconda3\\lib\\site-packages (from jupyter-core!=5.0.*,>=4.12->jupyter-server<3,>=2.4.0->notebook>=4.4.1->widgetsnbextension~=3.6.6->ipywidgets) (305.1)\n",
      "Requirement already satisfied: python-json-logger>=2.0.4 in c:\\users\\tjyot\\anaconda3\\lib\\site-packages (from jupyter-events>=0.9.0->jupyter-server<3,>=2.4.0->notebook>=4.4.1->widgetsnbextension~=3.6.6->ipywidgets) (2.0.7)\n",
      "Requirement already satisfied: pyyaml>=5.3 in c:\\users\\tjyot\\anaconda3\\lib\\site-packages (from jupyter-events>=0.9.0->jupyter-server<3,>=2.4.0->notebook>=4.4.1->widgetsnbextension~=3.6.6->ipywidgets) (6.0.1)\n",
      "Requirement already satisfied: rfc3339-validator in c:\\users\\tjyot\\anaconda3\\lib\\site-packages (from jupyter-events>=0.9.0->jupyter-server<3,>=2.4.0->notebook>=4.4.1->widgetsnbextension~=3.6.6->ipywidgets) (0.1.4)\n",
      "Requirement already satisfied: rfc3986-validator>=0.1.1 in c:\\users\\tjyot\\anaconda3\\lib\\site-packages (from jupyter-events>=0.9.0->jupyter-server<3,>=2.4.0->notebook>=4.4.1->widgetsnbextension~=3.6.6->ipywidgets) (0.1.1)\n",
      "Requirement already satisfied: beautifulsoup4 in c:\\users\\tjyot\\anaconda3\\lib\\site-packages (from nbconvert>=6.4.4->jupyter-server<3,>=2.4.0->notebook>=4.4.1->widgetsnbextension~=3.6.6->ipywidgets) (4.12.3)\n",
      "Requirement already satisfied: bleach!=5.0.0 in c:\\users\\tjyot\\anaconda3\\lib\\site-packages (from nbconvert>=6.4.4->jupyter-server<3,>=2.4.0->notebook>=4.4.1->widgetsnbextension~=3.6.6->ipywidgets) (4.1.0)\n",
      "Requirement already satisfied: defusedxml in c:\\users\\tjyot\\anaconda3\\lib\\site-packages (from nbconvert>=6.4.4->jupyter-server<3,>=2.4.0->notebook>=4.4.1->widgetsnbextension~=3.6.6->ipywidgets) (0.7.1)\n",
      "Requirement already satisfied: jupyterlab-pygments in c:\\users\\tjyot\\anaconda3\\lib\\site-packages (from nbconvert>=6.4.4->jupyter-server<3,>=2.4.0->notebook>=4.4.1->widgetsnbextension~=3.6.6->ipywidgets) (0.1.2)\n",
      "Requirement already satisfied: mistune<4,>=2.0.3 in c:\\users\\tjyot\\anaconda3\\lib\\site-packages (from nbconvert>=6.4.4->jupyter-server<3,>=2.4.0->notebook>=4.4.1->widgetsnbextension~=3.6.6->ipywidgets) (2.0.4)\n",
      "Requirement already satisfied: nbclient>=0.5.0 in c:\\users\\tjyot\\anaconda3\\lib\\site-packages (from nbconvert>=6.4.4->jupyter-server<3,>=2.4.0->notebook>=4.4.1->widgetsnbextension~=3.6.6->ipywidgets) (0.8.0)\n",
      "Requirement already satisfied: pandocfilters>=1.4.1 in c:\\users\\tjyot\\anaconda3\\lib\\site-packages (from nbconvert>=6.4.4->jupyter-server<3,>=2.4.0->notebook>=4.4.1->widgetsnbextension~=3.6.6->ipywidgets) (1.5.0)\n",
      "Requirement already satisfied: tinycss2 in c:\\users\\tjyot\\anaconda3\\lib\\site-packages (from nbconvert>=6.4.4->jupyter-server<3,>=2.4.0->notebook>=4.4.1->widgetsnbextension~=3.6.6->ipywidgets) (1.2.1)\n",
      "Requirement already satisfied: fastjsonschema in c:\\users\\tjyot\\anaconda3\\lib\\site-packages (from nbformat>=5.3.0->jupyter-server<3,>=2.4.0->notebook>=4.4.1->widgetsnbextension~=3.6.6->ipywidgets) (2.16.2)\n",
      "Requirement already satisfied: charset-normalizer<4,>=2 in c:\\users\\tjyot\\anaconda3\\lib\\site-packages (from requests>=2.31->jupyterlab-server<3,>=2.22.1->notebook>=4.4.1->widgetsnbextension~=3.6.6->ipywidgets) (2.0.4)\n",
      "Requirement already satisfied: urllib3<3,>=1.21.1 in c:\\users\\tjyot\\anaconda3\\lib\\site-packages (from requests>=2.31->jupyterlab-server<3,>=2.22.1->notebook>=4.4.1->widgetsnbextension~=3.6.6->ipywidgets) (2.2.2)\n",
      "Requirement already satisfied: certifi>=2017.4.17 in c:\\users\\tjyot\\anaconda3\\lib\\site-packages (from requests>=2.31->jupyterlab-server<3,>=2.22.1->notebook>=4.4.1->widgetsnbextension~=3.6.6->ipywidgets) (2024.7.4)\n",
      "Requirement already satisfied: debugpy>=1.6.5 in c:\\users\\tjyot\\anaconda3\\lib\\site-packages (from ipykernel->jupyterlab<4.1,>=4.0.2->notebook>=4.4.1->widgetsnbextension~=3.6.6->ipywidgets) (1.6.7)\n",
      "Requirement already satisfied: nest-asyncio in c:\\users\\tjyot\\anaconda3\\lib\\site-packages (from ipykernel->jupyterlab<4.1,>=4.0.2->notebook>=4.4.1->widgetsnbextension~=3.6.6->ipywidgets) (1.6.0)\n",
      "Requirement already satisfied: psutil in c:\\users\\tjyot\\anaconda3\\lib\\site-packages (from ipykernel->jupyterlab<4.1,>=4.0.2->notebook>=4.4.1->widgetsnbextension~=3.6.6->ipywidgets) (5.9.0)\n",
      "Requirement already satisfied: webencodings in c:\\users\\tjyot\\anaconda3\\lib\\site-packages (from bleach!=5.0.0->nbconvert>=6.4.4->jupyter-server<3,>=2.4.0->notebook>=4.4.1->widgetsnbextension~=3.6.6->ipywidgets) (0.5.1)\n",
      "Requirement already satisfied: fqdn in c:\\users\\tjyot\\anaconda3\\lib\\site-packages (from jsonschema[format-nongpl]>=4.18.0->jupyter-events>=0.9.0->jupyter-server<3,>=2.4.0->notebook>=4.4.1->widgetsnbextension~=3.6.6->ipywidgets) (1.5.1)\n",
      "Requirement already satisfied: isoduration in c:\\users\\tjyot\\anaconda3\\lib\\site-packages (from jsonschema[format-nongpl]>=4.18.0->jupyter-events>=0.9.0->jupyter-server<3,>=2.4.0->notebook>=4.4.1->widgetsnbextension~=3.6.6->ipywidgets) (20.11.0)\n",
      "Requirement already satisfied: jsonpointer>1.13 in c:\\users\\tjyot\\anaconda3\\lib\\site-packages (from jsonschema[format-nongpl]>=4.18.0->jupyter-events>=0.9.0->jupyter-server<3,>=2.4.0->notebook>=4.4.1->widgetsnbextension~=3.6.6->ipywidgets) (2.1)\n",
      "Requirement already satisfied: uri-template in c:\\users\\tjyot\\anaconda3\\lib\\site-packages (from jsonschema[format-nongpl]>=4.18.0->jupyter-events>=0.9.0->jupyter-server<3,>=2.4.0->notebook>=4.4.1->widgetsnbextension~=3.6.6->ipywidgets) (1.3.0)\n",
      "Requirement already satisfied: webcolors>=1.11 in c:\\users\\tjyot\\anaconda3\\lib\\site-packages (from jsonschema[format-nongpl]>=4.18.0->jupyter-events>=0.9.0->jupyter-server<3,>=2.4.0->notebook>=4.4.1->widgetsnbextension~=3.6.6->ipywidgets) (24.11.1)\n",
      "Requirement already satisfied: cffi>=1.0.1 in c:\\users\\tjyot\\anaconda3\\lib\\site-packages (from argon2-cffi-bindings->argon2-cffi>=21.1->jupyter-server<3,>=2.4.0->notebook>=4.4.1->widgetsnbextension~=3.6.6->ipywidgets) (1.16.0)\n",
      "Requirement already satisfied: soupsieve>1.2 in c:\\users\\tjyot\\anaconda3\\lib\\site-packages (from beautifulsoup4->nbconvert>=6.4.4->jupyter-server<3,>=2.4.0->notebook>=4.4.1->widgetsnbextension~=3.6.6->ipywidgets) (2.5)\n",
      "Requirement already satisfied: pycparser in c:\\users\\tjyot\\anaconda3\\lib\\site-packages (from cffi>=1.0.1->argon2-cffi-bindings->argon2-cffi>=21.1->jupyter-server<3,>=2.4.0->notebook>=4.4.1->widgetsnbextension~=3.6.6->ipywidgets) (2.21)\n",
      "Requirement already satisfied: arrow>=0.15.0 in c:\\users\\tjyot\\anaconda3\\lib\\site-packages (from isoduration->jsonschema[format-nongpl]>=4.18.0->jupyter-events>=0.9.0->jupyter-server<3,>=2.4.0->notebook>=4.4.1->widgetsnbextension~=3.6.6->ipywidgets) (1.2.3)\n"
     ]
    }
   ],
   "source": [
    "!pip install ipywidgets\n"
   ]
  },
  {
   "cell_type": "code",
   "execution_count": 98,
   "metadata": {
    "colab": {
     "base_uri": "https://localhost:8080/"
    },
    "id": "ekbz5OWKJZjl",
    "outputId": "5b6c403f-d514-4ce1-d2e9-e71dcb989b3c"
   },
   "outputs": [
    {
     "name": "stdout",
     "output_type": "stream",
     "text": [
      "Requirement already satisfied: plotly in c:\\users\\tjyot\\anaconda3\\lib\\site-packages (5.22.0)\n",
      "Requirement already satisfied: tenacity>=6.2.0 in c:\\users\\tjyot\\anaconda3\\lib\\site-packages (from plotly) (8.2.2)\n",
      "Requirement already satisfied: packaging in c:\\users\\tjyot\\anaconda3\\lib\\site-packages (from plotly) (23.2)\n"
     ]
    }
   ],
   "source": [
    "!pip install plotly\n"
   ]
  },
  {
   "cell_type": "code",
   "execution_count": 100,
   "metadata": {
    "id": "WavmqoKsJe2A"
   },
   "outputs": [],
   "source": [
    "import plotly.express as px\n",
    "import plotly.graph_objects as go\n"
   ]
  },
  {
   "cell_type": "code",
   "execution_count": 102,
   "metadata": {},
   "outputs": [
    {
     "name": "stdout",
     "output_type": "stream",
     "text": [
      "🏠 SMART HOME VISUAL DASHBOARD\n",
      "\n",
      "👣 Movement Sequence: a → j → k → k → o → o → j → a → a → a → j → k → k → o → o → j → a → a → a → j ...\n"
     ]
    },
    {
     "data": {
      "application/vnd.plotly.v1+json": {
       "config": {
        "plotlyServerURL": "https://plot.ly"
       },
       "data": [
        {
         "alignmentgroup": "True",
         "hovertemplate": "color=a<br>Room (Sensor ID)=%{x}<br>Visit Count=%{y}<extra></extra>",
         "legendgroup": "a",
         "marker": {
          "color": "#636efa",
          "pattern": {
           "shape": ""
          }
         },
         "name": "a",
         "offsetgroup": "a",
         "orientation": "v",
         "showlegend": true,
         "textposition": "auto",
         "type": "bar",
         "x": [
          "a"
         ],
         "xaxis": "x",
         "y": [
          10
         ],
         "yaxis": "y"
        },
        {
         "alignmentgroup": "True",
         "hovertemplate": "color=j<br>Room (Sensor ID)=%{x}<br>Visit Count=%{y}<extra></extra>",
         "legendgroup": "j",
         "marker": {
          "color": "#EF553B",
          "pattern": {
           "shape": ""
          }
         },
         "name": "j",
         "offsetgroup": "j",
         "orientation": "v",
         "showlegend": true,
         "textposition": "auto",
         "type": "bar",
         "x": [
          "j"
         ],
         "xaxis": "x",
         "y": [
          7
         ],
         "yaxis": "y"
        },
        {
         "alignmentgroup": "True",
         "hovertemplate": "color=k<br>Room (Sensor ID)=%{x}<br>Visit Count=%{y}<extra></extra>",
         "legendgroup": "k",
         "marker": {
          "color": "#00cc96",
          "pattern": {
           "shape": ""
          }
         },
         "name": "k",
         "offsetgroup": "k",
         "orientation": "v",
         "showlegend": true,
         "textposition": "auto",
         "type": "bar",
         "x": [
          "k"
         ],
         "xaxis": "x",
         "y": [
          7
         ],
         "yaxis": "y"
        },
        {
         "alignmentgroup": "True",
         "hovertemplate": "color=o<br>Room (Sensor ID)=%{x}<br>Visit Count=%{y}<extra></extra>",
         "legendgroup": "o",
         "marker": {
          "color": "#ab63fa",
          "pattern": {
           "shape": ""
          }
         },
         "name": "o",
         "offsetgroup": "o",
         "orientation": "v",
         "showlegend": true,
         "textposition": "auto",
         "type": "bar",
         "x": [
          "o"
         ],
         "xaxis": "x",
         "y": [
          6
         ],
         "yaxis": "y"
        }
       ],
       "layout": {
        "autosize": true,
        "barmode": "relative",
        "legend": {
         "title": {
          "text": "color"
         },
         "tracegroupgap": 0
        },
        "template": {
         "data": {
          "bar": [
           {
            "error_x": {
             "color": "#2a3f5f"
            },
            "error_y": {
             "color": "#2a3f5f"
            },
            "marker": {
             "line": {
              "color": "white",
              "width": 0.5
             },
             "pattern": {
              "fillmode": "overlay",
              "size": 10,
              "solidity": 0.2
             }
            },
            "type": "bar"
           }
          ],
          "barpolar": [
           {
            "marker": {
             "line": {
              "color": "white",
              "width": 0.5
             },
             "pattern": {
              "fillmode": "overlay",
              "size": 10,
              "solidity": 0.2
             }
            },
            "type": "barpolar"
           }
          ],
          "carpet": [
           {
            "aaxis": {
             "endlinecolor": "#2a3f5f",
             "gridcolor": "#C8D4E3",
             "linecolor": "#C8D4E3",
             "minorgridcolor": "#C8D4E3",
             "startlinecolor": "#2a3f5f"
            },
            "baxis": {
             "endlinecolor": "#2a3f5f",
             "gridcolor": "#C8D4E3",
             "linecolor": "#C8D4E3",
             "minorgridcolor": "#C8D4E3",
             "startlinecolor": "#2a3f5f"
            },
            "type": "carpet"
           }
          ],
          "choropleth": [
           {
            "colorbar": {
             "outlinewidth": 0,
             "ticks": ""
            },
            "type": "choropleth"
           }
          ],
          "contour": [
           {
            "colorbar": {
             "outlinewidth": 0,
             "ticks": ""
            },
            "colorscale": [
             [
              0,
              "#0d0887"
             ],
             [
              0.1111111111111111,
              "#46039f"
             ],
             [
              0.2222222222222222,
              "#7201a8"
             ],
             [
              0.3333333333333333,
              "#9c179e"
             ],
             [
              0.4444444444444444,
              "#bd3786"
             ],
             [
              0.5555555555555556,
              "#d8576b"
             ],
             [
              0.6666666666666666,
              "#ed7953"
             ],
             [
              0.7777777777777778,
              "#fb9f3a"
             ],
             [
              0.8888888888888888,
              "#fdca26"
             ],
             [
              1,
              "#f0f921"
             ]
            ],
            "type": "contour"
           }
          ],
          "contourcarpet": [
           {
            "colorbar": {
             "outlinewidth": 0,
             "ticks": ""
            },
            "type": "contourcarpet"
           }
          ],
          "heatmap": [
           {
            "colorbar": {
             "outlinewidth": 0,
             "ticks": ""
            },
            "colorscale": [
             [
              0,
              "#0d0887"
             ],
             [
              0.1111111111111111,
              "#46039f"
             ],
             [
              0.2222222222222222,
              "#7201a8"
             ],
             [
              0.3333333333333333,
              "#9c179e"
             ],
             [
              0.4444444444444444,
              "#bd3786"
             ],
             [
              0.5555555555555556,
              "#d8576b"
             ],
             [
              0.6666666666666666,
              "#ed7953"
             ],
             [
              0.7777777777777778,
              "#fb9f3a"
             ],
             [
              0.8888888888888888,
              "#fdca26"
             ],
             [
              1,
              "#f0f921"
             ]
            ],
            "type": "heatmap"
           }
          ],
          "heatmapgl": [
           {
            "colorbar": {
             "outlinewidth": 0,
             "ticks": ""
            },
            "colorscale": [
             [
              0,
              "#0d0887"
             ],
             [
              0.1111111111111111,
              "#46039f"
             ],
             [
              0.2222222222222222,
              "#7201a8"
             ],
             [
              0.3333333333333333,
              "#9c179e"
             ],
             [
              0.4444444444444444,
              "#bd3786"
             ],
             [
              0.5555555555555556,
              "#d8576b"
             ],
             [
              0.6666666666666666,
              "#ed7953"
             ],
             [
              0.7777777777777778,
              "#fb9f3a"
             ],
             [
              0.8888888888888888,
              "#fdca26"
             ],
             [
              1,
              "#f0f921"
             ]
            ],
            "type": "heatmapgl"
           }
          ],
          "histogram": [
           {
            "marker": {
             "pattern": {
              "fillmode": "overlay",
              "size": 10,
              "solidity": 0.2
             }
            },
            "type": "histogram"
           }
          ],
          "histogram2d": [
           {
            "colorbar": {
             "outlinewidth": 0,
             "ticks": ""
            },
            "colorscale": [
             [
              0,
              "#0d0887"
             ],
             [
              0.1111111111111111,
              "#46039f"
             ],
             [
              0.2222222222222222,
              "#7201a8"
             ],
             [
              0.3333333333333333,
              "#9c179e"
             ],
             [
              0.4444444444444444,
              "#bd3786"
             ],
             [
              0.5555555555555556,
              "#d8576b"
             ],
             [
              0.6666666666666666,
              "#ed7953"
             ],
             [
              0.7777777777777778,
              "#fb9f3a"
             ],
             [
              0.8888888888888888,
              "#fdca26"
             ],
             [
              1,
              "#f0f921"
             ]
            ],
            "type": "histogram2d"
           }
          ],
          "histogram2dcontour": [
           {
            "colorbar": {
             "outlinewidth": 0,
             "ticks": ""
            },
            "colorscale": [
             [
              0,
              "#0d0887"
             ],
             [
              0.1111111111111111,
              "#46039f"
             ],
             [
              0.2222222222222222,
              "#7201a8"
             ],
             [
              0.3333333333333333,
              "#9c179e"
             ],
             [
              0.4444444444444444,
              "#bd3786"
             ],
             [
              0.5555555555555556,
              "#d8576b"
             ],
             [
              0.6666666666666666,
              "#ed7953"
             ],
             [
              0.7777777777777778,
              "#fb9f3a"
             ],
             [
              0.8888888888888888,
              "#fdca26"
             ],
             [
              1,
              "#f0f921"
             ]
            ],
            "type": "histogram2dcontour"
           }
          ],
          "mesh3d": [
           {
            "colorbar": {
             "outlinewidth": 0,
             "ticks": ""
            },
            "type": "mesh3d"
           }
          ],
          "parcoords": [
           {
            "line": {
             "colorbar": {
              "outlinewidth": 0,
              "ticks": ""
             }
            },
            "type": "parcoords"
           }
          ],
          "pie": [
           {
            "automargin": true,
            "type": "pie"
           }
          ],
          "scatter": [
           {
            "fillpattern": {
             "fillmode": "overlay",
             "size": 10,
             "solidity": 0.2
            },
            "type": "scatter"
           }
          ],
          "scatter3d": [
           {
            "line": {
             "colorbar": {
              "outlinewidth": 0,
              "ticks": ""
             }
            },
            "marker": {
             "colorbar": {
              "outlinewidth": 0,
              "ticks": ""
             }
            },
            "type": "scatter3d"
           }
          ],
          "scattercarpet": [
           {
            "marker": {
             "colorbar": {
              "outlinewidth": 0,
              "ticks": ""
             }
            },
            "type": "scattercarpet"
           }
          ],
          "scattergeo": [
           {
            "marker": {
             "colorbar": {
              "outlinewidth": 0,
              "ticks": ""
             }
            },
            "type": "scattergeo"
           }
          ],
          "scattergl": [
           {
            "marker": {
             "colorbar": {
              "outlinewidth": 0,
              "ticks": ""
             }
            },
            "type": "scattergl"
           }
          ],
          "scattermapbox": [
           {
            "marker": {
             "colorbar": {
              "outlinewidth": 0,
              "ticks": ""
             }
            },
            "type": "scattermapbox"
           }
          ],
          "scatterpolar": [
           {
            "marker": {
             "colorbar": {
              "outlinewidth": 0,
              "ticks": ""
             }
            },
            "type": "scatterpolar"
           }
          ],
          "scatterpolargl": [
           {
            "marker": {
             "colorbar": {
              "outlinewidth": 0,
              "ticks": ""
             }
            },
            "type": "scatterpolargl"
           }
          ],
          "scatterternary": [
           {
            "marker": {
             "colorbar": {
              "outlinewidth": 0,
              "ticks": ""
             }
            },
            "type": "scatterternary"
           }
          ],
          "surface": [
           {
            "colorbar": {
             "outlinewidth": 0,
             "ticks": ""
            },
            "colorscale": [
             [
              0,
              "#0d0887"
             ],
             [
              0.1111111111111111,
              "#46039f"
             ],
             [
              0.2222222222222222,
              "#7201a8"
             ],
             [
              0.3333333333333333,
              "#9c179e"
             ],
             [
              0.4444444444444444,
              "#bd3786"
             ],
             [
              0.5555555555555556,
              "#d8576b"
             ],
             [
              0.6666666666666666,
              "#ed7953"
             ],
             [
              0.7777777777777778,
              "#fb9f3a"
             ],
             [
              0.8888888888888888,
              "#fdca26"
             ],
             [
              1,
              "#f0f921"
             ]
            ],
            "type": "surface"
           }
          ],
          "table": [
           {
            "cells": {
             "fill": {
              "color": "#EBF0F8"
             },
             "line": {
              "color": "white"
             }
            },
            "header": {
             "fill": {
              "color": "#C8D4E3"
             },
             "line": {
              "color": "white"
             }
            },
            "type": "table"
           }
          ]
         },
         "layout": {
          "annotationdefaults": {
           "arrowcolor": "#2a3f5f",
           "arrowhead": 0,
           "arrowwidth": 1
          },
          "autotypenumbers": "strict",
          "coloraxis": {
           "colorbar": {
            "outlinewidth": 0,
            "ticks": ""
           }
          },
          "colorscale": {
           "diverging": [
            [
             0,
             "#8e0152"
            ],
            [
             0.1,
             "#c51b7d"
            ],
            [
             0.2,
             "#de77ae"
            ],
            [
             0.3,
             "#f1b6da"
            ],
            [
             0.4,
             "#fde0ef"
            ],
            [
             0.5,
             "#f7f7f7"
            ],
            [
             0.6,
             "#e6f5d0"
            ],
            [
             0.7,
             "#b8e186"
            ],
            [
             0.8,
             "#7fbc41"
            ],
            [
             0.9,
             "#4d9221"
            ],
            [
             1,
             "#276419"
            ]
           ],
           "sequential": [
            [
             0,
             "#0d0887"
            ],
            [
             0.1111111111111111,
             "#46039f"
            ],
            [
             0.2222222222222222,
             "#7201a8"
            ],
            [
             0.3333333333333333,
             "#9c179e"
            ],
            [
             0.4444444444444444,
             "#bd3786"
            ],
            [
             0.5555555555555556,
             "#d8576b"
            ],
            [
             0.6666666666666666,
             "#ed7953"
            ],
            [
             0.7777777777777778,
             "#fb9f3a"
            ],
            [
             0.8888888888888888,
             "#fdca26"
            ],
            [
             1,
             "#f0f921"
            ]
           ],
           "sequentialminus": [
            [
             0,
             "#0d0887"
            ],
            [
             0.1111111111111111,
             "#46039f"
            ],
            [
             0.2222222222222222,
             "#7201a8"
            ],
            [
             0.3333333333333333,
             "#9c179e"
            ],
            [
             0.4444444444444444,
             "#bd3786"
            ],
            [
             0.5555555555555556,
             "#d8576b"
            ],
            [
             0.6666666666666666,
             "#ed7953"
            ],
            [
             0.7777777777777778,
             "#fb9f3a"
            ],
            [
             0.8888888888888888,
             "#fdca26"
            ],
            [
             1,
             "#f0f921"
            ]
           ]
          },
          "colorway": [
           "#636efa",
           "#EF553B",
           "#00cc96",
           "#ab63fa",
           "#FFA15A",
           "#19d3f3",
           "#FF6692",
           "#B6E880",
           "#FF97FF",
           "#FECB52"
          ],
          "font": {
           "color": "#2a3f5f"
          },
          "geo": {
           "bgcolor": "white",
           "lakecolor": "white",
           "landcolor": "white",
           "showlakes": true,
           "showland": true,
           "subunitcolor": "#C8D4E3"
          },
          "hoverlabel": {
           "align": "left"
          },
          "hovermode": "closest",
          "mapbox": {
           "style": "light"
          },
          "paper_bgcolor": "white",
          "plot_bgcolor": "white",
          "polar": {
           "angularaxis": {
            "gridcolor": "#EBF0F8",
            "linecolor": "#EBF0F8",
            "ticks": ""
           },
           "bgcolor": "white",
           "radialaxis": {
            "gridcolor": "#EBF0F8",
            "linecolor": "#EBF0F8",
            "ticks": ""
           }
          },
          "scene": {
           "xaxis": {
            "backgroundcolor": "white",
            "gridcolor": "#DFE8F3",
            "gridwidth": 2,
            "linecolor": "#EBF0F8",
            "showbackground": true,
            "ticks": "",
            "zerolinecolor": "#EBF0F8"
           },
           "yaxis": {
            "backgroundcolor": "white",
            "gridcolor": "#DFE8F3",
            "gridwidth": 2,
            "linecolor": "#EBF0F8",
            "showbackground": true,
            "ticks": "",
            "zerolinecolor": "#EBF0F8"
           },
           "zaxis": {
            "backgroundcolor": "white",
            "gridcolor": "#DFE8F3",
            "gridwidth": 2,
            "linecolor": "#EBF0F8",
            "showbackground": true,
            "ticks": "",
            "zerolinecolor": "#EBF0F8"
           }
          },
          "shapedefaults": {
           "line": {
            "color": "#2a3f5f"
           }
          },
          "ternary": {
           "aaxis": {
            "gridcolor": "#DFE8F3",
            "linecolor": "#A2B1C6",
            "ticks": ""
           },
           "baxis": {
            "gridcolor": "#DFE8F3",
            "linecolor": "#A2B1C6",
            "ticks": ""
           },
           "bgcolor": "white",
           "caxis": {
            "gridcolor": "#DFE8F3",
            "linecolor": "#A2B1C6",
            "ticks": ""
           }
          },
          "title": {
           "x": 0.05
          },
          "xaxis": {
           "automargin": true,
           "gridcolor": "#EBF0F8",
           "linecolor": "#EBF0F8",
           "ticks": "",
           "title": {
            "standoff": 15
           },
           "zerolinecolor": "#EBF0F8",
           "zerolinewidth": 2
          },
          "yaxis": {
           "automargin": true,
           "gridcolor": "#EBF0F8",
           "linecolor": "#EBF0F8",
           "ticks": "",
           "title": {
            "standoff": 15
           },
           "zerolinecolor": "#EBF0F8",
           "zerolinewidth": 2
          }
         }
        },
        "title": {
         "text": "Room Visit Frequency"
        },
        "xaxis": {
         "anchor": "y",
         "autorange": true,
         "domain": [
          0,
          1
         ],
         "range": [
          -0.5,
          3.5
         ],
         "title": {
          "text": "Room (Sensor ID)"
         },
         "type": "category"
        },
        "yaxis": {
         "anchor": "x",
         "autorange": true,
         "domain": [
          0,
          1
         ],
         "range": [
          0,
          10.526315789473685
         ],
         "title": {
          "text": "Visit Count"
         },
         "type": "linear"
        }
       }
      },
      "image/png": "[encoded data removed]",
      "text/html": [
       "<div>                            <div id=\"76b45920-b9b4-4f54-b50c-3409844c5592\" class=\"plotly-graph-div\" style=\"height:525px; width:100%;\"></div>            <script type=\"text/javascript\">                require([\"plotly\"], function(Plotly) {                    window.PLOTLYENV=window.PLOTLYENV || {};                                    if (document.getElementById(\"76b45920-b9b4-4f54-b50c-3409844c5592\")) {                    Plotly.newPlot(                        \"76b45920-b9b4-4f54-b50c-3409844c5592\",                        [{\"alignmentgroup\":\"True\",\"hovertemplate\":\"color=a\\u003cbr\\u003eRoom (Sensor ID)=%{x}\\u003cbr\\u003eVisit Count=%{y}\\u003cextra\\u003e\\u003c\\u002fextra\\u003e\",\"legendgroup\":\"a\",\"marker\":{\"color\":\"#636efa\",\"pattern\":{\"shape\":\"\"}},\"name\":\"a\",\"offsetgroup\":\"a\",\"orientation\":\"v\",\"showlegend\":true,\"textposition\":\"auto\",\"x\":[\"a\"],\"xaxis\":\"x\",\"y\":[10],\"yaxis\":\"y\",\"type\":\"bar\"},{\"alignmentgroup\":\"True\",\"hovertemplate\":\"color=j\\u003cbr\\u003eRoom (Sensor ID)=%{x}\\u003cbr\\u003eVisit Count=%{y}\\u003cextra\\u003e\\u003c\\u002fextra\\u003e\",\"legendgroup\":\"j\",\"marker\":{\"color\":\"#EF553B\",\"pattern\":{\"shape\":\"\"}},\"name\":\"j\",\"offsetgroup\":\"j\",\"orientation\":\"v\",\"showlegend\":true,\"textposition\":\"auto\",\"x\":[\"j\"],\"xaxis\":\"x\",\"y\":[7],\"yaxis\":\"y\",\"type\":\"bar\"},{\"alignmentgroup\":\"True\",\"hovertemplate\":\"color=k\\u003cbr\\u003eRoom (Sensor ID)=%{x}\\u003cbr\\u003eVisit Count=%{y}\\u003cextra\\u003e\\u003c\\u002fextra\\u003e\",\"legendgroup\":\"k\",\"marker\":{\"color\":\"#00cc96\",\"pattern\":{\"shape\":\"\"}},\"name\":\"k\",\"offsetgroup\":\"k\",\"orientation\":\"v\",\"showlegend\":true,\"textposition\":\"auto\",\"x\":[\"k\"],\"xaxis\":\"x\",\"y\":[7],\"yaxis\":\"y\",\"type\":\"bar\"},{\"alignmentgroup\":\"True\",\"hovertemplate\":\"color=o\\u003cbr\\u003eRoom (Sensor ID)=%{x}\\u003cbr\\u003eVisit Count=%{y}\\u003cextra\\u003e\\u003c\\u002fextra\\u003e\",\"legendgroup\":\"o\",\"marker\":{\"color\":\"#ab63fa\",\"pattern\":{\"shape\":\"\"}},\"name\":\"o\",\"offsetgroup\":\"o\",\"orientation\":\"v\",\"showlegend\":true,\"textposition\":\"auto\",\"x\":[\"o\"],\"xaxis\":\"x\",\"y\":[6],\"yaxis\":\"y\",\"type\":\"bar\"}],                        {\"template\":{\"data\":{\"barpolar\":[{\"marker\":{\"line\":{\"color\":\"white\",\"width\":0.5},\"pattern\":{\"fillmode\":\"overlay\",\"size\":10,\"solidity\":0.2}},\"type\":\"barpolar\"}],\"bar\":[{\"error_x\":{\"color\":\"#2a3f5f\"},\"error_y\":{\"color\":\"#2a3f5f\"},\"marker\":{\"line\":{\"color\":\"white\",\"width\":0.5},\"pattern\":{\"fillmode\":\"overlay\",\"size\":10,\"solidity\":0.2}},\"type\":\"bar\"}],\"carpet\":[{\"aaxis\":{\"endlinecolor\":\"#2a3f5f\",\"gridcolor\":\"#C8D4E3\",\"linecolor\":\"#C8D4E3\",\"minorgridcolor\":\"#C8D4E3\",\"startlinecolor\":\"#2a3f5f\"},\"baxis\":{\"endlinecolor\":\"#2a3f5f\",\"gridcolor\":\"#C8D4E3\",\"linecolor\":\"#C8D4E3\",\"minorgridcolor\":\"#C8D4E3\",\"startlinecolor\":\"#2a3f5f\"},\"type\":\"carpet\"}],\"choropleth\":[{\"colorbar\":{\"outlinewidth\":0,\"ticks\":\"\"},\"type\":\"choropleth\"}],\"contourcarpet\":[{\"colorbar\":{\"outlinewidth\":0,\"ticks\":\"\"},\"type\":\"contourcarpet\"}],\"contour\":[{\"colorbar\":{\"outlinewidth\":0,\"ticks\":\"\"},\"colorscale\":[[0.0,\"#0d0887\"],[0.1111111111111111,\"#46039f\"],[0.2222222222222222,\"#7201a8\"],[0.3333333333333333,\"#9c179e\"],[0.4444444444444444,\"#bd3786\"],[0.5555555555555556,\"#d8576b\"],[0.6666666666666666,\"#ed7953\"],[0.7777777777777778,\"#fb9f3a\"],[0.8888888888888888,\"#fdca26\"],[1.0,\"#f0f921\"]],\"type\":\"contour\"}],\"heatmapgl\":[{\"colorbar\":{\"outlinewidth\":0,\"ticks\":\"\"},\"colorscale\":[[0.0,\"#0d0887\"],[0.1111111111111111,\"#46039f\"],[0.2222222222222222,\"#7201a8\"],[0.3333333333333333,\"#9c179e\"],[0.4444444444444444,\"#bd3786\"],[0.5555555555555556,\"#d8576b\"],[0.6666666666666666,\"#ed7953\"],[0.7777777777777778,\"#fb9f3a\"],[0.8888888888888888,\"#fdca26\"],[1.0,\"#f0f921\"]],\"type\":\"heatmapgl\"}],\"heatmap\":[{\"colorbar\":{\"outlinewidth\":0,\"ticks\":\"\"},\"colorscale\":[[0.0,\"#0d0887\"],[0.1111111111111111,\"#46039f\"],[0.2222222222222222,\"#7201a8\"],[0.3333333333333333,\"#9c179e\"],[0.4444444444444444,\"#bd3786\"],[0.5555555555555556,\"#d8576b\"],[0.6666666666666666,\"#ed7953\"],[0.7777777777777778,\"#fb9f3a\"],[0.8888888888888888,\"#fdca26\"],[1.0,\"#f0f921\"]],\"type\":\"heatmap\"}],\"histogram2dcontour\":[{\"colorbar\":{\"outlinewidth\":0,\"ticks\":\"\"},\"colorscale\":[[0.0,\"#0d0887\"],[0.1111111111111111,\"#46039f\"],[0.2222222222222222,\"#7201a8\"],[0.3333333333333333,\"#9c179e\"],[0.4444444444444444,\"#bd3786\"],[0.5555555555555556,\"#d8576b\"],[0.6666666666666666,\"#ed7953\"],[0.7777777777777778,\"#fb9f3a\"],[0.8888888888888888,\"#fdca26\"],[1.0,\"#f0f921\"]],\"type\":\"histogram2dcontour\"}],\"histogram2d\":[{\"colorbar\":{\"outlinewidth\":0,\"ticks\":\"\"},\"colorscale\":[[0.0,\"#0d0887\"],[0.1111111111111111,\"#46039f\"],[0.2222222222222222,\"#7201a8\"],[0.3333333333333333,\"#9c179e\"],[0.4444444444444444,\"#bd3786\"],[0.5555555555555556,\"#d8576b\"],[0.6666666666666666,\"#ed7953\"],[0.7777777777777778,\"#fb9f3a\"],[0.8888888888888888,\"#fdca26\"],[1.0,\"#f0f921\"]],\"type\":\"histogram2d\"}],\"histogram\":[{\"marker\":{\"pattern\":{\"fillmode\":\"overlay\",\"size\":10,\"solidity\":0.2}},\"type\":\"histogram\"}],\"mesh3d\":[{\"colorbar\":{\"outlinewidth\":0,\"ticks\":\"\"},\"type\":\"mesh3d\"}],\"parcoords\":[{\"line\":{\"colorbar\":{\"outlinewidth\":0,\"ticks\":\"\"}},\"type\":\"parcoords\"}],\"pie\":[{\"automargin\":true,\"type\":\"pie\"}],\"scatter3d\":[{\"line\":{\"colorbar\":{\"outlinewidth\":0,\"ticks\":\"\"}},\"marker\":{\"colorbar\":{\"outlinewidth\":0,\"ticks\":\"\"}},\"type\":\"scatter3d\"}],\"scattercarpet\":[{\"marker\":{\"colorbar\":{\"outlinewidth\":0,\"ticks\":\"\"}},\"type\":\"scattercarpet\"}],\"scattergeo\":[{\"marker\":{\"colorbar\":{\"outlinewidth\":0,\"ticks\":\"\"}},\"type\":\"scattergeo\"}],\"scattergl\":[{\"marker\":{\"colorbar\":{\"outlinewidth\":0,\"ticks\":\"\"}},\"type\":\"scattergl\"}],\"scattermapbox\":[{\"marker\":{\"colorbar\":{\"outlinewidth\":0,\"ticks\":\"\"}},\"type\":\"scattermapbox\"}],\"scatterpolargl\":[{\"marker\":{\"colorbar\":{\"outlinewidth\":0,\"ticks\":\"\"}},\"type\":\"scatterpolargl\"}],\"scatterpolar\":[{\"marker\":{\"colorbar\":{\"outlinewidth\":0,\"ticks\":\"\"}},\"type\":\"scatterpolar\"}],\"scatter\":[{\"fillpattern\":{\"fillmode\":\"overlay\",\"size\":10,\"solidity\":0.2},\"type\":\"scatter\"}],\"scatterternary\":[{\"marker\":{\"colorbar\":{\"outlinewidth\":0,\"ticks\":\"\"}},\"type\":\"scatterternary\"}],\"surface\":[{\"colorbar\":{\"outlinewidth\":0,\"ticks\":\"\"},\"colorscale\":[[0.0,\"#0d0887\"],[0.1111111111111111,\"#46039f\"],[0.2222222222222222,\"#7201a8\"],[0.3333333333333333,\"#9c179e\"],[0.4444444444444444,\"#bd3786\"],[0.5555555555555556,\"#d8576b\"],[0.6666666666666666,\"#ed7953\"],[0.7777777777777778,\"#fb9f3a\"],[0.8888888888888888,\"#fdca26\"],[1.0,\"#f0f921\"]],\"type\":\"surface\"}],\"table\":[{\"cells\":{\"fill\":{\"color\":\"#EBF0F8\"},\"line\":{\"color\":\"white\"}},\"header\":{\"fill\":{\"color\":\"#C8D4E3\"},\"line\":{\"color\":\"white\"}},\"type\":\"table\"}]},\"layout\":{\"annotationdefaults\":{\"arrowcolor\":\"#2a3f5f\",\"arrowhead\":0,\"arrowwidth\":1},\"autotypenumbers\":\"strict\",\"coloraxis\":{\"colorbar\":{\"outlinewidth\":0,\"ticks\":\"\"}},\"colorscale\":{\"diverging\":[[0,\"#8e0152\"],[0.1,\"#c51b7d\"],[0.2,\"#de77ae\"],[0.3,\"#f1b6da\"],[0.4,\"#fde0ef\"],[0.5,\"#f7f7f7\"],[0.6,\"#e6f5d0\"],[0.7,\"#b8e186\"],[0.8,\"#7fbc41\"],[0.9,\"#4d9221\"],[1,\"#276419\"]],\"sequential\":[[0.0,\"#0d0887\"],[0.1111111111111111,\"#46039f\"],[0.2222222222222222,\"#7201a8\"],[0.3333333333333333,\"#9c179e\"],[0.4444444444444444,\"#bd3786\"],[0.5555555555555556,\"#d8576b\"],[0.6666666666666666,\"#ed7953\"],[0.7777777777777778,\"#fb9f3a\"],[0.8888888888888888,\"#fdca26\"],[1.0,\"#f0f921\"]],\"sequentialminus\":[[0.0,\"#0d0887\"],[0.1111111111111111,\"#46039f\"],[0.2222222222222222,\"#7201a8\"],[0.3333333333333333,\"#9c179e\"],[0.4444444444444444,\"#bd3786\"],[0.5555555555555556,\"#d8576b\"],[0.6666666666666666,\"#ed7953\"],[0.7777777777777778,\"#fb9f3a\"],[0.8888888888888888,\"#fdca26\"],[1.0,\"#f0f921\"]]},\"colorway\":[\"#636efa\",\"#EF553B\",\"#00cc96\",\"#ab63fa\",\"#FFA15A\",\"#19d3f3\",\"#FF6692\",\"#B6E880\",\"#FF97FF\",\"#FECB52\"],\"font\":{\"color\":\"#2a3f5f\"},\"geo\":{\"bgcolor\":\"white\",\"lakecolor\":\"white\",\"landcolor\":\"white\",\"showlakes\":true,\"showland\":true,\"subunitcolor\":\"#C8D4E3\"},\"hoverlabel\":{\"align\":\"left\"},\"hovermode\":\"closest\",\"mapbox\":{\"style\":\"light\"},\"paper_bgcolor\":\"white\",\"plot_bgcolor\":\"white\",\"polar\":{\"angularaxis\":{\"gridcolor\":\"#EBF0F8\",\"linecolor\":\"#EBF0F8\",\"ticks\":\"\"},\"bgcolor\":\"white\",\"radialaxis\":{\"gridcolor\":\"#EBF0F8\",\"linecolor\":\"#EBF0F8\",\"ticks\":\"\"}},\"scene\":{\"xaxis\":{\"backgroundcolor\":\"white\",\"gridcolor\":\"#DFE8F3\",\"gridwidth\":2,\"linecolor\":\"#EBF0F8\",\"showbackground\":true,\"ticks\":\"\",\"zerolinecolor\":\"#EBF0F8\"},\"yaxis\":{\"backgroundcolor\":\"white\",\"gridcolor\":\"#DFE8F3\",\"gridwidth\":2,\"linecolor\":\"#EBF0F8\",\"showbackground\":true,\"ticks\":\"\",\"zerolinecolor\":\"#EBF0F8\"},\"zaxis\":{\"backgroundcolor\":\"white\",\"gridcolor\":\"#DFE8F3\",\"gridwidth\":2,\"linecolor\":\"#EBF0F8\",\"showbackground\":true,\"ticks\":\"\",\"zerolinecolor\":\"#EBF0F8\"}},\"shapedefaults\":{\"line\":{\"color\":\"#2a3f5f\"}},\"ternary\":{\"aaxis\":{\"gridcolor\":\"#DFE8F3\",\"linecolor\":\"#A2B1C6\",\"ticks\":\"\"},\"baxis\":{\"gridcolor\":\"#DFE8F3\",\"linecolor\":\"#A2B1C6\",\"ticks\":\"\"},\"bgcolor\":\"white\",\"caxis\":{\"gridcolor\":\"#DFE8F3\",\"linecolor\":\"#A2B1C6\",\"ticks\":\"\"}},\"title\":{\"x\":0.05},\"xaxis\":{\"automargin\":true,\"gridcolor\":\"#EBF0F8\",\"linecolor\":\"#EBF0F8\",\"ticks\":\"\",\"title\":{\"standoff\":15},\"zerolinecolor\":\"#EBF0F8\",\"zerolinewidth\":2},\"yaxis\":{\"automargin\":true,\"gridcolor\":\"#EBF0F8\",\"linecolor\":\"#EBF0F8\",\"ticks\":\"\",\"title\":{\"standoff\":15},\"zerolinecolor\":\"#EBF0F8\",\"zerolinewidth\":2}}},\"xaxis\":{\"anchor\":\"y\",\"domain\":[0.0,1.0],\"title\":{\"text\":\"Room (Sensor ID)\"}},\"yaxis\":{\"anchor\":\"x\",\"domain\":[0.0,1.0],\"title\":{\"text\":\"Visit Count\"}},\"legend\":{\"title\":{\"text\":\"color\"},\"tracegroupgap\":0},\"title\":{\"text\":\"Room Visit Frequency\"},\"barmode\":\"relative\"},                        {\"responsive\": true}                    ).then(function(){\n",
       "                            \n",
       "var gd = document.getElementById('76b45920-b9b4-4f54-b50c-3409844c5592');\n",
       "var x = new MutationObserver(function (mutations, observer) {{\n",
       "        var display = window.getComputedStyle(gd).display;\n",
       "        if (!display || display === 'none') {{\n",
       "            console.log([gd, 'removed!']);\n",
       "            Plotly.purge(gd);\n",
       "            observer.disconnect();\n",
       "        }}\n",
       "}});\n",
       "\n",
       "// Listen for the removal of the full notebook cells\n",
       "var notebookContainer = gd.closest('#notebook-container');\n",
       "if (notebookContainer) {{\n",
       "    x.observe(notebookContainer, {childList: true});\n",
       "}}\n",
       "\n",
       "// Listen for the clearing of the current output cell\n",
       "var outputEl = gd.closest('.output');\n",
       "if (outputEl) {{\n",
       "    x.observe(outputEl, {childList: true});\n",
       "}}\n",
       "\n",
       "                        })                };                });            </script>        </div>"
      ]
     },
     "metadata": {},
     "output_type": "display_data"
    },
    {
     "data": {
      "application/vnd.plotly.v1+json": {
       "config": {
        "plotlyServerURL": "https://plot.ly"
       },
       "data": [
        {
         "line": {
          "color": "mediumvioletred",
          "shape": "hv"
         },
         "marker": {
          "size": 10
         },
         "mode": "lines+markers",
         "name": "Movement Path",
         "type": "scatter",
         "x": [
          1,
          2,
          3,
          4,
          5,
          6,
          7,
          8,
          9,
          10,
          11,
          12,
          13,
          14,
          15,
          16,
          17,
          18,
          19,
          20,
          21,
          22,
          23,
          24,
          25,
          26,
          27,
          28,
          29,
          30
         ],
         "y": [
          "a",
          "j",
          "k",
          "k",
          "o",
          "o",
          "j",
          "a",
          "a",
          "a",
          "j",
          "k",
          "k",
          "o",
          "o",
          "j",
          "a",
          "a",
          "a",
          "j",
          "k",
          "k",
          "o",
          "o",
          "j",
          "a",
          "a",
          "a",
          "j",
          "k"
         ]
        }
       ],
       "layout": {
        "autosize": true,
        "template": {
         "data": {
          "bar": [
           {
            "error_x": {
             "color": "#2a3f5f"
            },
            "error_y": {
             "color": "#2a3f5f"
            },
            "marker": {
             "line": {
              "color": "white",
              "width": 0.5
             },
             "pattern": {
              "fillmode": "overlay",
              "size": 10,
              "solidity": 0.2
             }
            },
            "type": "bar"
           }
          ],
          "barpolar": [
           {
            "marker": {
             "line": {
              "color": "white",
              "width": 0.5
             },
             "pattern": {
              "fillmode": "overlay",
              "size": 10,
              "solidity": 0.2
             }
            },
            "type": "barpolar"
           }
          ],
          "carpet": [
           {
            "aaxis": {
             "endlinecolor": "#2a3f5f",
             "gridcolor": "#C8D4E3",
             "linecolor": "#C8D4E3",
             "minorgridcolor": "#C8D4E3",
             "startlinecolor": "#2a3f5f"
            },
            "baxis": {
             "endlinecolor": "#2a3f5f",
             "gridcolor": "#C8D4E3",
             "linecolor": "#C8D4E3",
             "minorgridcolor": "#C8D4E3",
             "startlinecolor": "#2a3f5f"
            },
            "type": "carpet"
           }
          ],
          "choropleth": [
           {
            "colorbar": {
             "outlinewidth": 0,
             "ticks": ""
            },
            "type": "choropleth"
           }
          ],
          "contour": [
           {
            "colorbar": {
             "outlinewidth": 0,
             "ticks": ""
            },
            "colorscale": [
             [
              0,
              "#0d0887"
             ],
             [
              0.1111111111111111,
              "#46039f"
             ],
             [
              0.2222222222222222,
              "#7201a8"
             ],
             [
              0.3333333333333333,
              "#9c179e"
             ],
             [
              0.4444444444444444,
              "#bd3786"
             ],
             [
              0.5555555555555556,
              "#d8576b"
             ],
             [
              0.6666666666666666,
              "#ed7953"
             ],
             [
              0.7777777777777778,
              "#fb9f3a"
             ],
             [
              0.8888888888888888,
              "#fdca26"
             ],
             [
              1,
              "#f0f921"
             ]
            ],
            "type": "contour"
           }
          ],
          "contourcarpet": [
           {
            "colorbar": {
             "outlinewidth": 0,
             "ticks": ""
            },
            "type": "contourcarpet"
           }
          ],
          "heatmap": [
           {
            "colorbar": {
             "outlinewidth": 0,
             "ticks": ""
            },
            "colorscale": [
             [
              0,
              "#0d0887"
             ],
             [
              0.1111111111111111,
              "#46039f"
             ],
             [
              0.2222222222222222,
              "#7201a8"
             ],
             [
              0.3333333333333333,
              "#9c179e"
             ],
             [
              0.4444444444444444,
              "#bd3786"
             ],
             [
              0.5555555555555556,
              "#d8576b"
             ],
             [
              0.6666666666666666,
              "#ed7953"
             ],
             [
              0.7777777777777778,
              "#fb9f3a"
             ],
             [
              0.8888888888888888,
              "#fdca26"
             ],
             [
              1,
              "#f0f921"
             ]
            ],
            "type": "heatmap"
           }
          ],
          "heatmapgl": [
           {
            "colorbar": {
             "outlinewidth": 0,
             "ticks": ""
            },
            "colorscale": [
             [
              0,
              "#0d0887"
             ],
             [
              0.1111111111111111,
              "#46039f"
             ],
             [
              0.2222222222222222,
              "#7201a8"
             ],
             [
              0.3333333333333333,
              "#9c179e"
             ],
             [
              0.4444444444444444,
              "#bd3786"
             ],
             [
              0.5555555555555556,
              "#d8576b"
             ],
             [
              0.6666666666666666,
              "#ed7953"
             ],
             [
              0.7777777777777778,
              "#fb9f3a"
             ],
             [
              0.8888888888888888,
              "#fdca26"
             ],
             [
              1,
              "#f0f921"
             ]
            ],
            "type": "heatmapgl"
           }
          ],
          "histogram": [
           {
            "marker": {
             "pattern": {
              "fillmode": "overlay",
              "size": 10,
              "solidity": 0.2
             }
            },
            "type": "histogram"
           }
          ],
          "histogram2d": [
           {
            "colorbar": {
             "outlinewidth": 0,
             "ticks": ""
            },
            "colorscale": [
             [
              0,
              "#0d0887"
             ],
             [
              0.1111111111111111,
              "#46039f"
             ],
             [
              0.2222222222222222,
              "#7201a8"
             ],
             [
              0.3333333333333333,
              "#9c179e"
             ],
             [
              0.4444444444444444,
              "#bd3786"
             ],
             [
              0.5555555555555556,
              "#d8576b"
             ],
             [
              0.6666666666666666,
              "#ed7953"
             ],
             [
              0.7777777777777778,
              "#fb9f3a"
             ],
             [
              0.8888888888888888,
              "#fdca26"
             ],
             [
              1,
              "#f0f921"
             ]
            ],
            "type": "histogram2d"
           }
          ],
          "histogram2dcontour": [
           {
            "colorbar": {
             "outlinewidth": 0,
             "ticks": ""
            },
            "colorscale": [
             [
              0,
              "#0d0887"
             ],
             [
              0.1111111111111111,
              "#46039f"
             ],
             [
              0.2222222222222222,
              "#7201a8"
             ],
             [
              0.3333333333333333,
              "#9c179e"
             ],
             [
              0.4444444444444444,
              "#bd3786"
             ],
             [
              0.5555555555555556,
              "#d8576b"
             ],
             [
              0.6666666666666666,
              "#ed7953"
             ],
             [
              0.7777777777777778,
              "#fb9f3a"
             ],
             [
              0.8888888888888888,
              "#fdca26"
             ],
             [
              1,
              "#f0f921"
             ]
            ],
            "type": "histogram2dcontour"
           }
          ],
          "mesh3d": [
           {
            "colorbar": {
             "outlinewidth": 0,
             "ticks": ""
            },
            "type": "mesh3d"
           }
          ],
          "parcoords": [
           {
            "line": {
             "colorbar": {
              "outlinewidth": 0,
              "ticks": ""
             }
            },
            "type": "parcoords"
           }
          ],
          "pie": [
           {
            "automargin": true,
            "type": "pie"
           }
          ],
          "scatter": [
           {
            "fillpattern": {
             "fillmode": "overlay",
             "size": 10,
             "solidity": 0.2
            },
            "type": "scatter"
           }
          ],
          "scatter3d": [
           {
            "line": {
             "colorbar": {
              "outlinewidth": 0,
              "ticks": ""
             }
            },
            "marker": {
             "colorbar": {
              "outlinewidth": 0,
              "ticks": ""
             }
            },
            "type": "scatter3d"
           }
          ],
          "scattercarpet": [
           {
            "marker": {
             "colorbar": {
              "outlinewidth": 0,
              "ticks": ""
             }
            },
            "type": "scattercarpet"
           }
          ],
          "scattergeo": [
           {
            "marker": {
             "colorbar": {
              "outlinewidth": 0,
              "ticks": ""
             }
            },
            "type": "scattergeo"
           }
          ],
          "scattergl": [
           {
            "marker": {
             "colorbar": {
              "outlinewidth": 0,
              "ticks": ""
             }
            },
            "type": "scattergl"
           }
          ],
          "scattermapbox": [
           {
            "marker": {
             "colorbar": {
              "outlinewidth": 0,
              "ticks": ""
             }
            },
            "type": "scattermapbox"
           }
          ],
          "scatterpolar": [
           {
            "marker": {
             "colorbar": {
              "outlinewidth": 0,
              "ticks": ""
             }
            },
            "type": "scatterpolar"
           }
          ],
          "scatterpolargl": [
           {
            "marker": {
             "colorbar": {
              "outlinewidth": 0,
              "ticks": ""
             }
            },
            "type": "scatterpolargl"
           }
          ],
          "scatterternary": [
           {
            "marker": {
             "colorbar": {
              "outlinewidth": 0,
              "ticks": ""
             }
            },
            "type": "scatterternary"
           }
          ],
          "surface": [
           {
            "colorbar": {
             "outlinewidth": 0,
             "ticks": ""
            },
            "colorscale": [
             [
              0,
              "#0d0887"
             ],
             [
              0.1111111111111111,
              "#46039f"
             ],
             [
              0.2222222222222222,
              "#7201a8"
             ],
             [
              0.3333333333333333,
              "#9c179e"
             ],
             [
              0.4444444444444444,
              "#bd3786"
             ],
             [
              0.5555555555555556,
              "#d8576b"
             ],
             [
              0.6666666666666666,
              "#ed7953"
             ],
             [
              0.7777777777777778,
              "#fb9f3a"
             ],
             [
              0.8888888888888888,
              "#fdca26"
             ],
             [
              1,
              "#f0f921"
             ]
            ],
            "type": "surface"
           }
          ],
          "table": [
           {
            "cells": {
             "fill": {
              "color": "#EBF0F8"
             },
             "line": {
              "color": "white"
             }
            },
            "header": {
             "fill": {
              "color": "#C8D4E3"
             },
             "line": {
              "color": "white"
             }
            },
            "type": "table"
           }
          ]
         },
         "layout": {
          "annotationdefaults": {
           "arrowcolor": "#2a3f5f",
           "arrowhead": 0,
           "arrowwidth": 1
          },
          "autotypenumbers": "strict",
          "coloraxis": {
           "colorbar": {
            "outlinewidth": 0,
            "ticks": ""
           }
          },
          "colorscale": {
           "diverging": [
            [
             0,
             "#8e0152"
            ],
            [
             0.1,
             "#c51b7d"
            ],
            [
             0.2,
             "#de77ae"
            ],
            [
             0.3,
             "#f1b6da"
            ],
            [
             0.4,
             "#fde0ef"
            ],
            [
             0.5,
             "#f7f7f7"
            ],
            [
             0.6,
             "#e6f5d0"
            ],
            [
             0.7,
             "#b8e186"
            ],
            [
             0.8,
             "#7fbc41"
            ],
            [
             0.9,
             "#4d9221"
            ],
            [
             1,
             "#276419"
            ]
           ],
           "sequential": [
            [
             0,
             "#0d0887"
            ],
            [
             0.1111111111111111,
             "#46039f"
            ],
            [
             0.2222222222222222,
             "#7201a8"
            ],
            [
             0.3333333333333333,
             "#9c179e"
            ],
            [
             0.4444444444444444,
             "#bd3786"
            ],
            [
             0.5555555555555556,
             "#d8576b"
            ],
            [
             0.6666666666666666,
             "#ed7953"
            ],
            [
             0.7777777777777778,
             "#fb9f3a"
            ],
            [
             0.8888888888888888,
             "#fdca26"
            ],
            [
             1,
             "#f0f921"
            ]
           ],
           "sequentialminus": [
            [
             0,
             "#0d0887"
            ],
            [
             0.1111111111111111,
             "#46039f"
            ],
            [
             0.2222222222222222,
             "#7201a8"
            ],
            [
             0.3333333333333333,
             "#9c179e"
            ],
            [
             0.4444444444444444,
             "#bd3786"
            ],
            [
             0.5555555555555556,
             "#d8576b"
            ],
            [
             0.6666666666666666,
             "#ed7953"
            ],
            [
             0.7777777777777778,
             "#fb9f3a"
            ],
            [
             0.8888888888888888,
             "#fdca26"
            ],
            [
             1,
             "#f0f921"
            ]
           ]
          },
          "colorway": [
           "#636efa",
           "#EF553B",
           "#00cc96",
           "#ab63fa",
           "#FFA15A",
           "#19d3f3",
           "#FF6692",
           "#B6E880",
           "#FF97FF",
           "#FECB52"
          ],
          "font": {
           "color": "#2a3f5f"
          },
          "geo": {
           "bgcolor": "white",
           "lakecolor": "white",
           "landcolor": "white",
           "showlakes": true,
           "showland": true,
           "subunitcolor": "#C8D4E3"
          },
          "hoverlabel": {
           "align": "left"
          },
          "hovermode": "closest",
          "mapbox": {
           "style": "light"
          },
          "paper_bgcolor": "white",
          "plot_bgcolor": "white",
          "polar": {
           "angularaxis": {
            "gridcolor": "#EBF0F8",
            "linecolor": "#EBF0F8",
            "ticks": ""
           },
           "bgcolor": "white",
           "radialaxis": {
            "gridcolor": "#EBF0F8",
            "linecolor": "#EBF0F8",
            "ticks": ""
           }
          },
          "scene": {
           "xaxis": {
            "backgroundcolor": "white",
            "gridcolor": "#DFE8F3",
            "gridwidth": 2,
            "linecolor": "#EBF0F8",
            "showbackground": true,
            "ticks": "",
            "zerolinecolor": "#EBF0F8"
           },
           "yaxis": {
            "backgroundcolor": "white",
            "gridcolor": "#DFE8F3",
            "gridwidth": 2,
            "linecolor": "#EBF0F8",
            "showbackground": true,
            "ticks": "",
            "zerolinecolor": "#EBF0F8"
           },
           "zaxis": {
            "backgroundcolor": "white",
            "gridcolor": "#DFE8F3",
            "gridwidth": 2,
            "linecolor": "#EBF0F8",
            "showbackground": true,
            "ticks": "",
            "zerolinecolor": "#EBF0F8"
           }
          },
          "shapedefaults": {
           "line": {
            "color": "#2a3f5f"
           }
          },
          "ternary": {
           "aaxis": {
            "gridcolor": "#DFE8F3",
            "linecolor": "#A2B1C6",
            "ticks": ""
           },
           "baxis": {
            "gridcolor": "#DFE8F3",
            "linecolor": "#A2B1C6",
            "ticks": ""
           },
           "bgcolor": "white",
           "caxis": {
            "gridcolor": "#DFE8F3",
            "linecolor": "#A2B1C6",
            "ticks": ""
           }
          },
          "title": {
           "x": 0.05
          },
          "xaxis": {
           "automargin": true,
           "gridcolor": "#EBF0F8",
           "linecolor": "#EBF0F8",
           "ticks": "",
           "title": {
            "standoff": 15
           },
           "zerolinecolor": "#EBF0F8",
           "zerolinewidth": 2
          },
          "yaxis": {
           "automargin": true,
           "gridcolor": "#EBF0F8",
           "linecolor": "#EBF0F8",
           "ticks": "",
           "title": {
            "standoff": 15
           },
           "zerolinecolor": "#EBF0F8",
           "zerolinewidth": 2
          }
         }
        },
        "title": {
         "text": "👣 Inhabitant Movement Path Over Time"
        },
        "xaxis": {
         "autorange": true,
         "range": [
          -0.8519492944271705,
          31.851949294427172
         ],
         "title": {
          "text": "Step"
         },
         "type": "linear"
        },
        "yaxis": {
         "autorange": true,
         "range": [
          -0.2789757412398922,
          3.278975741239892
         ],
         "title": {
          "text": "Room (Sensor ID)"
         },
         "type": "category"
        }
       }
      },
      "image/png": "[encoded data removed]",
      "text/html": [
       "<div>                            <div id=\"8758aa03-1fa7-4ba3-801f-02b0b2c7b797\" class=\"plotly-graph-div\" style=\"height:400px; width:100%;\"></div>            <script type=\"text/javascript\">                require([\"plotly\"], function(Plotly) {                    window.PLOTLYENV=window.PLOTLYENV || {};                                    if (document.getElementById(\"8758aa03-1fa7-4ba3-801f-02b0b2c7b797\")) {                    Plotly.newPlot(                        \"8758aa03-1fa7-4ba3-801f-02b0b2c7b797\",                        [{\"line\":{\"color\":\"mediumvioletred\",\"shape\":\"hv\"},\"marker\":{\"size\":10},\"mode\":\"lines+markers\",\"name\":\"Movement Path\",\"x\":[1,2,3,4,5,6,7,8,9,10,11,12,13,14,15,16,17,18,19,20,21,22,23,24,25,26,27,28,29,30],\"y\":[\"a\",\"j\",\"k\",\"k\",\"o\",\"o\",\"j\",\"a\",\"a\",\"a\",\"j\",\"k\",\"k\",\"o\",\"o\",\"j\",\"a\",\"a\",\"a\",\"j\",\"k\",\"k\",\"o\",\"o\",\"j\",\"a\",\"a\",\"a\",\"j\",\"k\"],\"type\":\"scatter\"}],                        {\"template\":{\"data\":{\"barpolar\":[{\"marker\":{\"line\":{\"color\":\"white\",\"width\":0.5},\"pattern\":{\"fillmode\":\"overlay\",\"size\":10,\"solidity\":0.2}},\"type\":\"barpolar\"}],\"bar\":[{\"error_x\":{\"color\":\"#2a3f5f\"},\"error_y\":{\"color\":\"#2a3f5f\"},\"marker\":{\"line\":{\"color\":\"white\",\"width\":0.5},\"pattern\":{\"fillmode\":\"overlay\",\"size\":10,\"solidity\":0.2}},\"type\":\"bar\"}],\"carpet\":[{\"aaxis\":{\"endlinecolor\":\"#2a3f5f\",\"gridcolor\":\"#C8D4E3\",\"linecolor\":\"#C8D4E3\",\"minorgridcolor\":\"#C8D4E3\",\"startlinecolor\":\"#2a3f5f\"},\"baxis\":{\"endlinecolor\":\"#2a3f5f\",\"gridcolor\":\"#C8D4E3\",\"linecolor\":\"#C8D4E3\",\"minorgridcolor\":\"#C8D4E3\",\"startlinecolor\":\"#2a3f5f\"},\"type\":\"carpet\"}],\"choropleth\":[{\"colorbar\":{\"outlinewidth\":0,\"ticks\":\"\"},\"type\":\"choropleth\"}],\"contourcarpet\":[{\"colorbar\":{\"outlinewidth\":0,\"ticks\":\"\"},\"type\":\"contourcarpet\"}],\"contour\":[{\"colorbar\":{\"outlinewidth\":0,\"ticks\":\"\"},\"colorscale\":[[0.0,\"#0d0887\"],[0.1111111111111111,\"#46039f\"],[0.2222222222222222,\"#7201a8\"],[0.3333333333333333,\"#9c179e\"],[0.4444444444444444,\"#bd3786\"],[0.5555555555555556,\"#d8576b\"],[0.6666666666666666,\"#ed7953\"],[0.7777777777777778,\"#fb9f3a\"],[0.8888888888888888,\"#fdca26\"],[1.0,\"#f0f921\"]],\"type\":\"contour\"}],\"heatmapgl\":[{\"colorbar\":{\"outlinewidth\":0,\"ticks\":\"\"},\"colorscale\":[[0.0,\"#0d0887\"],[0.1111111111111111,\"#46039f\"],[0.2222222222222222,\"#7201a8\"],[0.3333333333333333,\"#9c179e\"],[0.4444444444444444,\"#bd3786\"],[0.5555555555555556,\"#d8576b\"],[0.6666666666666666,\"#ed7953\"],[0.7777777777777778,\"#fb9f3a\"],[0.8888888888888888,\"#fdca26\"],[1.0,\"#f0f921\"]],\"type\":\"heatmapgl\"}],\"heatmap\":[{\"colorbar\":{\"outlinewidth\":0,\"ticks\":\"\"},\"colorscale\":[[0.0,\"#0d0887\"],[0.1111111111111111,\"#46039f\"],[0.2222222222222222,\"#7201a8\"],[0.3333333333333333,\"#9c179e\"],[0.4444444444444444,\"#bd3786\"],[0.5555555555555556,\"#d8576b\"],[0.6666666666666666,\"#ed7953\"],[0.7777777777777778,\"#fb9f3a\"],[0.8888888888888888,\"#fdca26\"],[1.0,\"#f0f921\"]],\"type\":\"heatmap\"}],\"histogram2dcontour\":[{\"colorbar\":{\"outlinewidth\":0,\"ticks\":\"\"},\"colorscale\":[[0.0,\"#0d0887\"],[0.1111111111111111,\"#46039f\"],[0.2222222222222222,\"#7201a8\"],[0.3333333333333333,\"#9c179e\"],[0.4444444444444444,\"#bd3786\"],[0.5555555555555556,\"#d8576b\"],[0.6666666666666666,\"#ed7953\"],[0.7777777777777778,\"#fb9f3a\"],[0.8888888888888888,\"#fdca26\"],[1.0,\"#f0f921\"]],\"type\":\"histogram2dcontour\"}],\"histogram2d\":[{\"colorbar\":{\"outlinewidth\":0,\"ticks\":\"\"},\"colorscale\":[[0.0,\"#0d0887\"],[0.1111111111111111,\"#46039f\"],[0.2222222222222222,\"#7201a8\"],[0.3333333333333333,\"#9c179e\"],[0.4444444444444444,\"#bd3786\"],[0.5555555555555556,\"#d8576b\"],[0.6666666666666666,\"#ed7953\"],[0.7777777777777778,\"#fb9f3a\"],[0.8888888888888888,\"#fdca26\"],[1.0,\"#f0f921\"]],\"type\":\"histogram2d\"}],\"histogram\":[{\"marker\":{\"pattern\":{\"fillmode\":\"overlay\",\"size\":10,\"solidity\":0.2}},\"type\":\"histogram\"}],\"mesh3d\":[{\"colorbar\":{\"outlinewidth\":0,\"ticks\":\"\"},\"type\":\"mesh3d\"}],\"parcoords\":[{\"line\":{\"colorbar\":{\"outlinewidth\":0,\"ticks\":\"\"}},\"type\":\"parcoords\"}],\"pie\":[{\"automargin\":true,\"type\":\"pie\"}],\"scatter3d\":[{\"line\":{\"colorbar\":{\"outlinewidth\":0,\"ticks\":\"\"}},\"marker\":{\"colorbar\":{\"outlinewidth\":0,\"ticks\":\"\"}},\"type\":\"scatter3d\"}],\"scattercarpet\":[{\"marker\":{\"colorbar\":{\"outlinewidth\":0,\"ticks\":\"\"}},\"type\":\"scattercarpet\"}],\"scattergeo\":[{\"marker\":{\"colorbar\":{\"outlinewidth\":0,\"ticks\":\"\"}},\"type\":\"scattergeo\"}],\"scattergl\":[{\"marker\":{\"colorbar\":{\"outlinewidth\":0,\"ticks\":\"\"}},\"type\":\"scattergl\"}],\"scattermapbox\":[{\"marker\":{\"colorbar\":{\"outlinewidth\":0,\"ticks\":\"\"}},\"type\":\"scattermapbox\"}],\"scatterpolargl\":[{\"marker\":{\"colorbar\":{\"outlinewidth\":0,\"ticks\":\"\"}},\"type\":\"scatterpolargl\"}],\"scatterpolar\":[{\"marker\":{\"colorbar\":{\"outlinewidth\":0,\"ticks\":\"\"}},\"type\":\"scatterpolar\"}],\"scatter\":[{\"fillpattern\":{\"fillmode\":\"overlay\",\"size\":10,\"solidity\":0.2},\"type\":\"scatter\"}],\"scatterternary\":[{\"marker\":{\"colorbar\":{\"outlinewidth\":0,\"ticks\":\"\"}},\"type\":\"scatterternary\"}],\"surface\":[{\"colorbar\":{\"outlinewidth\":0,\"ticks\":\"\"},\"colorscale\":[[0.0,\"#0d0887\"],[0.1111111111111111,\"#46039f\"],[0.2222222222222222,\"#7201a8\"],[0.3333333333333333,\"#9c179e\"],[0.4444444444444444,\"#bd3786\"],[0.5555555555555556,\"#d8576b\"],[0.6666666666666666,\"#ed7953\"],[0.7777777777777778,\"#fb9f3a\"],[0.8888888888888888,\"#fdca26\"],[1.0,\"#f0f921\"]],\"type\":\"surface\"}],\"table\":[{\"cells\":{\"fill\":{\"color\":\"#EBF0F8\"},\"line\":{\"color\":\"white\"}},\"header\":{\"fill\":{\"color\":\"#C8D4E3\"},\"line\":{\"color\":\"white\"}},\"type\":\"table\"}]},\"layout\":{\"annotationdefaults\":{\"arrowcolor\":\"#2a3f5f\",\"arrowhead\":0,\"arrowwidth\":1},\"autotypenumbers\":\"strict\",\"coloraxis\":{\"colorbar\":{\"outlinewidth\":0,\"ticks\":\"\"}},\"colorscale\":{\"diverging\":[[0,\"#8e0152\"],[0.1,\"#c51b7d\"],[0.2,\"#de77ae\"],[0.3,\"#f1b6da\"],[0.4,\"#fde0ef\"],[0.5,\"#f7f7f7\"],[0.6,\"#e6f5d0\"],[0.7,\"#b8e186\"],[0.8,\"#7fbc41\"],[0.9,\"#4d9221\"],[1,\"#276419\"]],\"sequential\":[[0.0,\"#0d0887\"],[0.1111111111111111,\"#46039f\"],[0.2222222222222222,\"#7201a8\"],[0.3333333333333333,\"#9c179e\"],[0.4444444444444444,\"#bd3786\"],[0.5555555555555556,\"#d8576b\"],[0.6666666666666666,\"#ed7953\"],[0.7777777777777778,\"#fb9f3a\"],[0.8888888888888888,\"#fdca26\"],[1.0,\"#f0f921\"]],\"sequentialminus\":[[0.0,\"#0d0887\"],[0.1111111111111111,\"#46039f\"],[0.2222222222222222,\"#7201a8\"],[0.3333333333333333,\"#9c179e\"],[0.4444444444444444,\"#bd3786\"],[0.5555555555555556,\"#d8576b\"],[0.6666666666666666,\"#ed7953\"],[0.7777777777777778,\"#fb9f3a\"],[0.8888888888888888,\"#fdca26\"],[1.0,\"#f0f921\"]]},\"colorway\":[\"#636efa\",\"#EF553B\",\"#00cc96\",\"#ab63fa\",\"#FFA15A\",\"#19d3f3\",\"#FF6692\",\"#B6E880\",\"#FF97FF\",\"#FECB52\"],\"font\":{\"color\":\"#2a3f5f\"},\"geo\":{\"bgcolor\":\"white\",\"lakecolor\":\"white\",\"landcolor\":\"white\",\"showlakes\":true,\"showland\":true,\"subunitcolor\":\"#C8D4E3\"},\"hoverlabel\":{\"align\":\"left\"},\"hovermode\":\"closest\",\"mapbox\":{\"style\":\"light\"},\"paper_bgcolor\":\"white\",\"plot_bgcolor\":\"white\",\"polar\":{\"angularaxis\":{\"gridcolor\":\"#EBF0F8\",\"linecolor\":\"#EBF0F8\",\"ticks\":\"\"},\"bgcolor\":\"white\",\"radialaxis\":{\"gridcolor\":\"#EBF0F8\",\"linecolor\":\"#EBF0F8\",\"ticks\":\"\"}},\"scene\":{\"xaxis\":{\"backgroundcolor\":\"white\",\"gridcolor\":\"#DFE8F3\",\"gridwidth\":2,\"linecolor\":\"#EBF0F8\",\"showbackground\":true,\"ticks\":\"\",\"zerolinecolor\":\"#EBF0F8\"},\"yaxis\":{\"backgroundcolor\":\"white\",\"gridcolor\":\"#DFE8F3\",\"gridwidth\":2,\"linecolor\":\"#EBF0F8\",\"showbackground\":true,\"ticks\":\"\",\"zerolinecolor\":\"#EBF0F8\"},\"zaxis\":{\"backgroundcolor\":\"white\",\"gridcolor\":\"#DFE8F3\",\"gridwidth\":2,\"linecolor\":\"#EBF0F8\",\"showbackground\":true,\"ticks\":\"\",\"zerolinecolor\":\"#EBF0F8\"}},\"shapedefaults\":{\"line\":{\"color\":\"#2a3f5f\"}},\"ternary\":{\"aaxis\":{\"gridcolor\":\"#DFE8F3\",\"linecolor\":\"#A2B1C6\",\"ticks\":\"\"},\"baxis\":{\"gridcolor\":\"#DFE8F3\",\"linecolor\":\"#A2B1C6\",\"ticks\":\"\"},\"bgcolor\":\"white\",\"caxis\":{\"gridcolor\":\"#DFE8F3\",\"linecolor\":\"#A2B1C6\",\"ticks\":\"\"}},\"title\":{\"x\":0.05},\"xaxis\":{\"automargin\":true,\"gridcolor\":\"#EBF0F8\",\"linecolor\":\"#EBF0F8\",\"ticks\":\"\",\"title\":{\"standoff\":15},\"zerolinecolor\":\"#EBF0F8\",\"zerolinewidth\":2},\"yaxis\":{\"automargin\":true,\"gridcolor\":\"#EBF0F8\",\"linecolor\":\"#EBF0F8\",\"ticks\":\"\",\"title\":{\"standoff\":15},\"zerolinecolor\":\"#EBF0F8\",\"zerolinewidth\":2}}},\"title\":{\"text\":\"\\ud83d\\udc63 Inhabitant Movement Path Over Time\"},\"xaxis\":{\"title\":{\"text\":\"Step\"}},\"yaxis\":{\"title\":{\"text\":\"Room (Sensor ID)\"}},\"height\":400},                        {\"responsive\": true}                    ).then(function(){\n",
       "                            \n",
       "var gd = document.getElementById('8758aa03-1fa7-4ba3-801f-02b0b2c7b797');\n",
       "var x = new MutationObserver(function (mutations, observer) {{\n",
       "        var display = window.getComputedStyle(gd).display;\n",
       "        if (!display || display === 'none') {{\n",
       "            console.log([gd, 'removed!']);\n",
       "            Plotly.purge(gd);\n",
       "            observer.disconnect();\n",
       "        }}\n",
       "}});\n",
       "\n",
       "// Listen for the removal of the full notebook cells\n",
       "var notebookContainer = gd.closest('#notebook-container');\n",
       "if (notebookContainer) {{\n",
       "    x.observe(notebookContainer, {childList: true});\n",
       "}}\n",
       "\n",
       "// Listen for the clearing of the current output cell\n",
       "var outputEl = gd.closest('.output');\n",
       "if (outputEl) {{\n",
       "    x.observe(outputEl, {childList: true});\n",
       "}}\n",
       "\n",
       "                        })                };                });            </script>        </div>"
      ]
     },
     "metadata": {},
     "output_type": "display_data"
    },
    {
     "data": {
      "application/vnd.plotly.v1+json": {
       "config": {
        "plotlyServerURL": "https://plot.ly"
       },
       "data": [
        {
         "link": {
          "source": [
           3,
           2,
           0,
           0,
           1,
           1,
           2,
           3
          ],
          "target": [
           2,
           0,
           0,
           1,
           1,
           2,
           3,
           3
          ],
          "value": [
           4,
           4,
           3,
           3,
           3,
           3,
           3,
           6
          ]
         },
         "node": {
          "label": [
           "k",
           "o",
           "j",
           "a"
          ],
          "pad": 15,
          "thickness": 20
         },
         "type": "sankey"
        }
       ],
       "layout": {
        "autosize": true,
        "font": {
         "size": 12
        },
        "template": {
         "data": {
          "bar": [
           {
            "error_x": {
             "color": "#2a3f5f"
            },
            "error_y": {
             "color": "#2a3f5f"
            },
            "marker": {
             "line": {
              "color": "#E5ECF6",
              "width": 0.5
             },
             "pattern": {
              "fillmode": "overlay",
              "size": 10,
              "solidity": 0.2
             }
            },
            "type": "bar"
           }
          ],
          "barpolar": [
           {
            "marker": {
             "line": {
              "color": "#E5ECF6",
              "width": 0.5
             },
             "pattern": {
              "fillmode": "overlay",
              "size": 10,
              "solidity": 0.2
             }
            },
            "type": "barpolar"
           }
          ],
          "carpet": [
           {
            "aaxis": {
             "endlinecolor": "#2a3f5f",
             "gridcolor": "white",
             "linecolor": "white",
             "minorgridcolor": "white",
             "startlinecolor": "#2a3f5f"
            },
            "baxis": {
             "endlinecolor": "#2a3f5f",
             "gridcolor": "white",
             "linecolor": "white",
             "minorgridcolor": "white",
             "startlinecolor": "#2a3f5f"
            },
            "type": "carpet"
           }
          ],
          "choropleth": [
           {
            "colorbar": {
             "outlinewidth": 0,
             "ticks": ""
            },
            "type": "choropleth"
           }
          ],
          "contour": [
           {
            "colorbar": {
             "outlinewidth": 0,
             "ticks": ""
            },
            "colorscale": [
             [
              0,
              "#0d0887"
             ],
             [
              0.1111111111111111,
              "#46039f"
             ],
             [
              0.2222222222222222,
              "#7201a8"
             ],
             [
              0.3333333333333333,
              "#9c179e"
             ],
             [
              0.4444444444444444,
              "#bd3786"
             ],
             [
              0.5555555555555556,
              "#d8576b"
             ],
             [
              0.6666666666666666,
              "#ed7953"
             ],
             [
              0.7777777777777778,
              "#fb9f3a"
             ],
             [
              0.8888888888888888,
              "#fdca26"
             ],
             [
              1,
              "#f0f921"
             ]
            ],
            "type": "contour"
           }
          ],
          "contourcarpet": [
           {
            "colorbar": {
             "outlinewidth": 0,
             "ticks": ""
            },
            "type": "contourcarpet"
           }
          ],
          "heatmap": [
           {
            "colorbar": {
             "outlinewidth": 0,
             "ticks": ""
            },
            "colorscale": [
             [
              0,
              "#0d0887"
             ],
             [
              0.1111111111111111,
              "#46039f"
             ],
             [
              0.2222222222222222,
              "#7201a8"
             ],
             [
              0.3333333333333333,
              "#9c179e"
             ],
             [
              0.4444444444444444,
              "#bd3786"
             ],
             [
              0.5555555555555556,
              "#d8576b"
             ],
             [
              0.6666666666666666,
              "#ed7953"
             ],
             [
              0.7777777777777778,
              "#fb9f3a"
             ],
             [
              0.8888888888888888,
              "#fdca26"
             ],
             [
              1,
              "#f0f921"
             ]
            ],
            "type": "heatmap"
           }
          ],
          "heatmapgl": [
           {
            "colorbar": {
             "outlinewidth": 0,
             "ticks": ""
            },
            "colorscale": [
             [
              0,
              "#0d0887"
             ],
             [
              0.1111111111111111,
              "#46039f"
             ],
             [
              0.2222222222222222,
              "#7201a8"
             ],
             [
              0.3333333333333333,
              "#9c179e"
             ],
             [
              0.4444444444444444,
              "#bd3786"
             ],
             [
              0.5555555555555556,
              "#d8576b"
             ],
             [
              0.6666666666666666,
              "#ed7953"
             ],
             [
              0.7777777777777778,
              "#fb9f3a"
             ],
             [
              0.8888888888888888,
              "#fdca26"
             ],
             [
              1,
              "#f0f921"
             ]
            ],
            "type": "heatmapgl"
           }
          ],
          "histogram": [
           {
            "marker": {
             "pattern": {
              "fillmode": "overlay",
              "size": 10,
              "solidity": 0.2
             }
            },
            "type": "histogram"
           }
          ],
          "histogram2d": [
           {
            "colorbar": {
             "outlinewidth": 0,
             "ticks": ""
            },
            "colorscale": [
             [
              0,
              "#0d0887"
             ],
             [
              0.1111111111111111,
              "#46039f"
             ],
             [
              0.2222222222222222,
              "#7201a8"
             ],
             [
              0.3333333333333333,
              "#9c179e"
             ],
             [
              0.4444444444444444,
              "#bd3786"
             ],
             [
              0.5555555555555556,
              "#d8576b"
             ],
             [
              0.6666666666666666,
              "#ed7953"
             ],
             [
              0.7777777777777778,
              "#fb9f3a"
             ],
             [
              0.8888888888888888,
              "#fdca26"
             ],
             [
              1,
              "#f0f921"
             ]
            ],
            "type": "histogram2d"
           }
          ],
          "histogram2dcontour": [
           {
            "colorbar": {
             "outlinewidth": 0,
             "ticks": ""
            },
            "colorscale": [
             [
              0,
              "#0d0887"
             ],
             [
              0.1111111111111111,
              "#46039f"
             ],
             [
              0.2222222222222222,
              "#7201a8"
             ],
             [
              0.3333333333333333,
              "#9c179e"
             ],
             [
              0.4444444444444444,
              "#bd3786"
             ],
             [
              0.5555555555555556,
              "#d8576b"
             ],
             [
              0.6666666666666666,
              "#ed7953"
             ],
             [
              0.7777777777777778,
              "#fb9f3a"
             ],
             [
              0.8888888888888888,
              "#fdca26"
             ],
             [
              1,
              "#f0f921"
             ]
            ],
            "type": "histogram2dcontour"
           }
          ],
          "mesh3d": [
           {
            "colorbar": {
             "outlinewidth": 0,
             "ticks": ""
            },
            "type": "mesh3d"
           }
          ],
          "parcoords": [
           {
            "line": {
             "colorbar": {
              "outlinewidth": 0,
              "ticks": ""
             }
            },
            "type": "parcoords"
           }
          ],
          "pie": [
           {
            "automargin": true,
            "type": "pie"
           }
          ],
          "scatter": [
           {
            "fillpattern": {
             "fillmode": "overlay",
             "size": 10,
             "solidity": 0.2
            },
            "type": "scatter"
           }
          ],
          "scatter3d": [
           {
            "line": {
             "colorbar": {
              "outlinewidth": 0,
              "ticks": ""
             }
            },
            "marker": {
             "colorbar": {
              "outlinewidth": 0,
              "ticks": ""
             }
            },
            "type": "scatter3d"
           }
          ],
          "scattercarpet": [
           {
            "marker": {
             "colorbar": {
              "outlinewidth": 0,
              "ticks": ""
             }
            },
            "type": "scattercarpet"
           }
          ],
          "scattergeo": [
           {
            "marker": {
             "colorbar": {
              "outlinewidth": 0,
              "ticks": ""
             }
            },
            "type": "scattergeo"
           }
          ],
          "scattergl": [
           {
            "marker": {
             "colorbar": {
              "outlinewidth": 0,
              "ticks": ""
             }
            },
            "type": "scattergl"
           }
          ],
          "scattermapbox": [
           {
            "marker": {
             "colorbar": {
              "outlinewidth": 0,
              "ticks": ""
             }
            },
            "type": "scattermapbox"
           }
          ],
          "scatterpolar": [
           {
            "marker": {
             "colorbar": {
              "outlinewidth": 0,
              "ticks": ""
             }
            },
            "type": "scatterpolar"
           }
          ],
          "scatterpolargl": [
           {
            "marker": {
             "colorbar": {
              "outlinewidth": 0,
              "ticks": ""
             }
            },
            "type": "scatterpolargl"
           }
          ],
          "scatterternary": [
           {
            "marker": {
             "colorbar": {
              "outlinewidth": 0,
              "ticks": ""
             }
            },
            "type": "scatterternary"
           }
          ],
          "surface": [
           {
            "colorbar": {
             "outlinewidth": 0,
             "ticks": ""
            },
            "colorscale": [
             [
              0,
              "#0d0887"
             ],
             [
              0.1111111111111111,
              "#46039f"
             ],
             [
              0.2222222222222222,
              "#7201a8"
             ],
             [
              0.3333333333333333,
              "#9c179e"
             ],
             [
              0.4444444444444444,
              "#bd3786"
             ],
             [
              0.5555555555555556,
              "#d8576b"
             ],
             [
              0.6666666666666666,
              "#ed7953"
             ],
             [
              0.7777777777777778,
              "#fb9f3a"
             ],
             [
              0.8888888888888888,
              "#fdca26"
             ],
             [
              1,
              "#f0f921"
             ]
            ],
            "type": "surface"
           }
          ],
          "table": [
           {
            "cells": {
             "fill": {
              "color": "#EBF0F8"
             },
             "line": {
              "color": "white"
             }
            },
            "header": {
             "fill": {
              "color": "#C8D4E3"
             },
             "line": {
              "color": "white"
             }
            },
            "type": "table"
           }
          ]
         },
         "layout": {
          "annotationdefaults": {
           "arrowcolor": "#2a3f5f",
           "arrowhead": 0,
           "arrowwidth": 1
          },
          "autotypenumbers": "strict",
          "coloraxis": {
           "colorbar": {
            "outlinewidth": 0,
            "ticks": ""
           }
          },
          "colorscale": {
           "diverging": [
            [
             0,
             "#8e0152"
            ],
            [
             0.1,
             "#c51b7d"
            ],
            [
             0.2,
             "#de77ae"
            ],
            [
             0.3,
             "#f1b6da"
            ],
            [
             0.4,
             "#fde0ef"
            ],
            [
             0.5,
             "#f7f7f7"
            ],
            [
             0.6,
             "#e6f5d0"
            ],
            [
             0.7,
             "#b8e186"
            ],
            [
             0.8,
             "#7fbc41"
            ],
            [
             0.9,
             "#4d9221"
            ],
            [
             1,
             "#276419"
            ]
           ],
           "sequential": [
            [
             0,
             "#0d0887"
            ],
            [
             0.1111111111111111,
             "#46039f"
            ],
            [
             0.2222222222222222,
             "#7201a8"
            ],
            [
             0.3333333333333333,
             "#9c179e"
            ],
            [
             0.4444444444444444,
             "#bd3786"
            ],
            [
             0.5555555555555556,
             "#d8576b"
            ],
            [
             0.6666666666666666,
             "#ed7953"
            ],
            [
             0.7777777777777778,
             "#fb9f3a"
            ],
            [
             0.8888888888888888,
             "#fdca26"
            ],
            [
             1,
             "#f0f921"
            ]
           ],
           "sequentialminus": [
            [
             0,
             "#0d0887"
            ],
            [
             0.1111111111111111,
             "#46039f"
            ],
            [
             0.2222222222222222,
             "#7201a8"
            ],
            [
             0.3333333333333333,
             "#9c179e"
            ],
            [
             0.4444444444444444,
             "#bd3786"
            ],
            [
             0.5555555555555556,
             "#d8576b"
            ],
            [
             0.6666666666666666,
             "#ed7953"
            ],
            [
             0.7777777777777778,
             "#fb9f3a"
            ],
            [
             0.8888888888888888,
             "#fdca26"
            ],
            [
             1,
             "#f0f921"
            ]
           ]
          },
          "colorway": [
           "#636efa",
           "#EF553B",
           "#00cc96",
           "#ab63fa",
           "#FFA15A",
           "#19d3f3",
           "#FF6692",
           "#B6E880",
           "#FF97FF",
           "#FECB52"
          ],
          "font": {
           "color": "#2a3f5f"
          },
          "geo": {
           "bgcolor": "white",
           "lakecolor": "white",
           "landcolor": "#E5ECF6",
           "showlakes": true,
           "showland": true,
           "subunitcolor": "white"
          },
          "hoverlabel": {
           "align": "left"
          },
          "hovermode": "closest",
          "mapbox": {
           "style": "light"
          },
          "paper_bgcolor": "white",
          "plot_bgcolor": "#E5ECF6",
          "polar": {
           "angularaxis": {
            "gridcolor": "white",
            "linecolor": "white",
            "ticks": ""
           },
           "bgcolor": "#E5ECF6",
           "radialaxis": {
            "gridcolor": "white",
            "linecolor": "white",
            "ticks": ""
           }
          },
          "scene": {
           "xaxis": {
            "backgroundcolor": "#E5ECF6",
            "gridcolor": "white",
            "gridwidth": 2,
            "linecolor": "white",
            "showbackground": true,
            "ticks": "",
            "zerolinecolor": "white"
           },
           "yaxis": {
            "backgroundcolor": "#E5ECF6",
            "gridcolor": "white",
            "gridwidth": 2,
            "linecolor": "white",
            "showbackground": true,
            "ticks": "",
            "zerolinecolor": "white"
           },
           "zaxis": {
            "backgroundcolor": "#E5ECF6",
            "gridcolor": "white",
            "gridwidth": 2,
            "linecolor": "white",
            "showbackground": true,
            "ticks": "",
            "zerolinecolor": "white"
           }
          },
          "shapedefaults": {
           "line": {
            "color": "#2a3f5f"
           }
          },
          "ternary": {
           "aaxis": {
            "gridcolor": "white",
            "linecolor": "white",
            "ticks": ""
           },
           "baxis": {
            "gridcolor": "white",
            "linecolor": "white",
            "ticks": ""
           },
           "bgcolor": "#E5ECF6",
           "caxis": {
            "gridcolor": "white",
            "linecolor": "white",
            "ticks": ""
           }
          },
          "title": {
           "x": 0.05
          },
          "xaxis": {
           "automargin": true,
           "gridcolor": "white",
           "linecolor": "white",
           "ticks": "",
           "title": {
            "standoff": 15
           },
           "zerolinecolor": "white",
           "zerolinewidth": 2
          },
          "yaxis": {
           "automargin": true,
           "gridcolor": "white",
           "linecolor": "white",
           "ticks": "",
           "title": {
            "standoff": 15
           },
           "zerolinecolor": "white",
           "zerolinewidth": 2
          }
         }
        },
        "title": {
         "text": "🚪 Room-to-Room Movement Flow"
        }
       }
      },
      "image/png": "[encoded data removed]",
      "text/html": [
       "<div>                            <div id=\"78962111-343d-44ca-b750-42fe43a6355c\" class=\"plotly-graph-div\" style=\"height:525px; width:100%;\"></div>            <script type=\"text/javascript\">                require([\"plotly\"], function(Plotly) {                    window.PLOTLYENV=window.PLOTLYENV || {};                                    if (document.getElementById(\"78962111-343d-44ca-b750-42fe43a6355c\")) {                    Plotly.newPlot(                        \"78962111-343d-44ca-b750-42fe43a6355c\",                        [{\"link\":{\"source\":[3,2,0,0,1,1,2,3],\"target\":[2,0,0,1,1,2,3,3],\"value\":[4,4,3,3,3,3,3,6]},\"node\":{\"label\":[\"k\",\"o\",\"j\",\"a\"],\"pad\":15,\"thickness\":20},\"type\":\"sankey\"}],                        {\"template\":{\"data\":{\"histogram2dcontour\":[{\"type\":\"histogram2dcontour\",\"colorbar\":{\"outlinewidth\":0,\"ticks\":\"\"},\"colorscale\":[[0.0,\"#0d0887\"],[0.1111111111111111,\"#46039f\"],[0.2222222222222222,\"#7201a8\"],[0.3333333333333333,\"#9c179e\"],[0.4444444444444444,\"#bd3786\"],[0.5555555555555556,\"#d8576b\"],[0.6666666666666666,\"#ed7953\"],[0.7777777777777778,\"#fb9f3a\"],[0.8888888888888888,\"#fdca26\"],[1.0,\"#f0f921\"]]}],\"choropleth\":[{\"type\":\"choropleth\",\"colorbar\":{\"outlinewidth\":0,\"ticks\":\"\"}}],\"histogram2d\":[{\"type\":\"histogram2d\",\"colorbar\":{\"outlinewidth\":0,\"ticks\":\"\"},\"colorscale\":[[0.0,\"#0d0887\"],[0.1111111111111111,\"#46039f\"],[0.2222222222222222,\"#7201a8\"],[0.3333333333333333,\"#9c179e\"],[0.4444444444444444,\"#bd3786\"],[0.5555555555555556,\"#d8576b\"],[0.6666666666666666,\"#ed7953\"],[0.7777777777777778,\"#fb9f3a\"],[0.8888888888888888,\"#fdca26\"],[1.0,\"#f0f921\"]]}],\"heatmap\":[{\"type\":\"heatmap\",\"colorbar\":{\"outlinewidth\":0,\"ticks\":\"\"},\"colorscale\":[[0.0,\"#0d0887\"],[0.1111111111111111,\"#46039f\"],[0.2222222222222222,\"#7201a8\"],[0.3333333333333333,\"#9c179e\"],[0.4444444444444444,\"#bd3786\"],[0.5555555555555556,\"#d8576b\"],[0.6666666666666666,\"#ed7953\"],[0.7777777777777778,\"#fb9f3a\"],[0.8888888888888888,\"#fdca26\"],[1.0,\"#f0f921\"]]}],\"heatmapgl\":[{\"type\":\"heatmapgl\",\"colorbar\":{\"outlinewidth\":0,\"ticks\":\"\"},\"colorscale\":[[0.0,\"#0d0887\"],[0.1111111111111111,\"#46039f\"],[0.2222222222222222,\"#7201a8\"],[0.3333333333333333,\"#9c179e\"],[0.4444444444444444,\"#bd3786\"],[0.5555555555555556,\"#d8576b\"],[0.6666666666666666,\"#ed7953\"],[0.7777777777777778,\"#fb9f3a\"],[0.8888888888888888,\"#fdca26\"],[1.0,\"#f0f921\"]]}],\"contourcarpet\":[{\"type\":\"contourcarpet\",\"colorbar\":{\"outlinewidth\":0,\"ticks\":\"\"}}],\"contour\":[{\"type\":\"contour\",\"colorbar\":{\"outlinewidth\":0,\"ticks\":\"\"},\"colorscale\":[[0.0,\"#0d0887\"],[0.1111111111111111,\"#46039f\"],[0.2222222222222222,\"#7201a8\"],[0.3333333333333333,\"#9c179e\"],[0.4444444444444444,\"#bd3786\"],[0.5555555555555556,\"#d8576b\"],[0.6666666666666666,\"#ed7953\"],[0.7777777777777778,\"#fb9f3a\"],[0.8888888888888888,\"#fdca26\"],[1.0,\"#f0f921\"]]}],\"surface\":[{\"type\":\"surface\",\"colorbar\":{\"outlinewidth\":0,\"ticks\":\"\"},\"colorscale\":[[0.0,\"#0d0887\"],[0.1111111111111111,\"#46039f\"],[0.2222222222222222,\"#7201a8\"],[0.3333333333333333,\"#9c179e\"],[0.4444444444444444,\"#bd3786\"],[0.5555555555555556,\"#d8576b\"],[0.6666666666666666,\"#ed7953\"],[0.7777777777777778,\"#fb9f3a\"],[0.8888888888888888,\"#fdca26\"],[1.0,\"#f0f921\"]]}],\"mesh3d\":[{\"type\":\"mesh3d\",\"colorbar\":{\"outlinewidth\":0,\"ticks\":\"\"}}],\"scatter\":[{\"fillpattern\":{\"fillmode\":\"overlay\",\"size\":10,\"solidity\":0.2},\"type\":\"scatter\"}],\"parcoords\":[{\"type\":\"parcoords\",\"line\":{\"colorbar\":{\"outlinewidth\":0,\"ticks\":\"\"}}}],\"scatterpolargl\":[{\"type\":\"scatterpolargl\",\"marker\":{\"colorbar\":{\"outlinewidth\":0,\"ticks\":\"\"}}}],\"bar\":[{\"error_x\":{\"color\":\"#2a3f5f\"},\"error_y\":{\"color\":\"#2a3f5f\"},\"marker\":{\"line\":{\"color\":\"#E5ECF6\",\"width\":0.5},\"pattern\":{\"fillmode\":\"overlay\",\"size\":10,\"solidity\":0.2}},\"type\":\"bar\"}],\"scattergeo\":[{\"type\":\"scattergeo\",\"marker\":{\"colorbar\":{\"outlinewidth\":0,\"ticks\":\"\"}}}],\"scatterpolar\":[{\"type\":\"scatterpolar\",\"marker\":{\"colorbar\":{\"outlinewidth\":0,\"ticks\":\"\"}}}],\"histogram\":[{\"marker\":{\"pattern\":{\"fillmode\":\"overlay\",\"size\":10,\"solidity\":0.2}},\"type\":\"histogram\"}],\"scattergl\":[{\"type\":\"scattergl\",\"marker\":{\"colorbar\":{\"outlinewidth\":0,\"ticks\":\"\"}}}],\"scatter3d\":[{\"type\":\"scatter3d\",\"line\":{\"colorbar\":{\"outlinewidth\":0,\"ticks\":\"\"}},\"marker\":{\"colorbar\":{\"outlinewidth\":0,\"ticks\":\"\"}}}],\"scattermapbox\":[{\"type\":\"scattermapbox\",\"marker\":{\"colorbar\":{\"outlinewidth\":0,\"ticks\":\"\"}}}],\"scatterternary\":[{\"type\":\"scatterternary\",\"marker\":{\"colorbar\":{\"outlinewidth\":0,\"ticks\":\"\"}}}],\"scattercarpet\":[{\"type\":\"scattercarpet\",\"marker\":{\"colorbar\":{\"outlinewidth\":0,\"ticks\":\"\"}}}],\"carpet\":[{\"aaxis\":{\"endlinecolor\":\"#2a3f5f\",\"gridcolor\":\"white\",\"linecolor\":\"white\",\"minorgridcolor\":\"white\",\"startlinecolor\":\"#2a3f5f\"},\"baxis\":{\"endlinecolor\":\"#2a3f5f\",\"gridcolor\":\"white\",\"linecolor\":\"white\",\"minorgridcolor\":\"white\",\"startlinecolor\":\"#2a3f5f\"},\"type\":\"carpet\"}],\"table\":[{\"cells\":{\"fill\":{\"color\":\"#EBF0F8\"},\"line\":{\"color\":\"white\"}},\"header\":{\"fill\":{\"color\":\"#C8D4E3\"},\"line\":{\"color\":\"white\"}},\"type\":\"table\"}],\"barpolar\":[{\"marker\":{\"line\":{\"color\":\"#E5ECF6\",\"width\":0.5},\"pattern\":{\"fillmode\":\"overlay\",\"size\":10,\"solidity\":0.2}},\"type\":\"barpolar\"}],\"pie\":[{\"automargin\":true,\"type\":\"pie\"}]},\"layout\":{\"autotypenumbers\":\"strict\",\"colorway\":[\"#636efa\",\"#EF553B\",\"#00cc96\",\"#ab63fa\",\"#FFA15A\",\"#19d3f3\",\"#FF6692\",\"#B6E880\",\"#FF97FF\",\"#FECB52\"],\"font\":{\"color\":\"#2a3f5f\"},\"hovermode\":\"closest\",\"hoverlabel\":{\"align\":\"left\"},\"paper_bgcolor\":\"white\",\"plot_bgcolor\":\"#E5ECF6\",\"polar\":{\"bgcolor\":\"#E5ECF6\",\"angularaxis\":{\"gridcolor\":\"white\",\"linecolor\":\"white\",\"ticks\":\"\"},\"radialaxis\":{\"gridcolor\":\"white\",\"linecolor\":\"white\",\"ticks\":\"\"}},\"ternary\":{\"bgcolor\":\"#E5ECF6\",\"aaxis\":{\"gridcolor\":\"white\",\"linecolor\":\"white\",\"ticks\":\"\"},\"baxis\":{\"gridcolor\":\"white\",\"linecolor\":\"white\",\"ticks\":\"\"},\"caxis\":{\"gridcolor\":\"white\",\"linecolor\":\"white\",\"ticks\":\"\"}},\"coloraxis\":{\"colorbar\":{\"outlinewidth\":0,\"ticks\":\"\"}},\"colorscale\":{\"sequential\":[[0.0,\"#0d0887\"],[0.1111111111111111,\"#46039f\"],[0.2222222222222222,\"#7201a8\"],[0.3333333333333333,\"#9c179e\"],[0.4444444444444444,\"#bd3786\"],[0.5555555555555556,\"#d8576b\"],[0.6666666666666666,\"#ed7953\"],[0.7777777777777778,\"#fb9f3a\"],[0.8888888888888888,\"#fdca26\"],[1.0,\"#f0f921\"]],\"sequentialminus\":[[0.0,\"#0d0887\"],[0.1111111111111111,\"#46039f\"],[0.2222222222222222,\"#7201a8\"],[0.3333333333333333,\"#9c179e\"],[0.4444444444444444,\"#bd3786\"],[0.5555555555555556,\"#d8576b\"],[0.6666666666666666,\"#ed7953\"],[0.7777777777777778,\"#fb9f3a\"],[0.8888888888888888,\"#fdca26\"],[1.0,\"#f0f921\"]],\"diverging\":[[0,\"#8e0152\"],[0.1,\"#c51b7d\"],[0.2,\"#de77ae\"],[0.3,\"#f1b6da\"],[0.4,\"#fde0ef\"],[0.5,\"#f7f7f7\"],[0.6,\"#e6f5d0\"],[0.7,\"#b8e186\"],[0.8,\"#7fbc41\"],[0.9,\"#4d9221\"],[1,\"#276419\"]]},\"xaxis\":{\"gridcolor\":\"white\",\"linecolor\":\"white\",\"ticks\":\"\",\"title\":{\"standoff\":15},\"zerolinecolor\":\"white\",\"automargin\":true,\"zerolinewidth\":2},\"yaxis\":{\"gridcolor\":\"white\",\"linecolor\":\"white\",\"ticks\":\"\",\"title\":{\"standoff\":15},\"zerolinecolor\":\"white\",\"automargin\":true,\"zerolinewidth\":2},\"scene\":{\"xaxis\":{\"backgroundcolor\":\"#E5ECF6\",\"gridcolor\":\"white\",\"linecolor\":\"white\",\"showbackground\":true,\"ticks\":\"\",\"zerolinecolor\":\"white\",\"gridwidth\":2},\"yaxis\":{\"backgroundcolor\":\"#E5ECF6\",\"gridcolor\":\"white\",\"linecolor\":\"white\",\"showbackground\":true,\"ticks\":\"\",\"zerolinecolor\":\"white\",\"gridwidth\":2},\"zaxis\":{\"backgroundcolor\":\"#E5ECF6\",\"gridcolor\":\"white\",\"linecolor\":\"white\",\"showbackground\":true,\"ticks\":\"\",\"zerolinecolor\":\"white\",\"gridwidth\":2}},\"shapedefaults\":{\"line\":{\"color\":\"#2a3f5f\"}},\"annotationdefaults\":{\"arrowcolor\":\"#2a3f5f\",\"arrowhead\":0,\"arrowwidth\":1},\"geo\":{\"bgcolor\":\"white\",\"landcolor\":\"#E5ECF6\",\"subunitcolor\":\"white\",\"showland\":true,\"showlakes\":true,\"lakecolor\":\"white\"},\"title\":{\"x\":0.05},\"mapbox\":{\"style\":\"light\"}}},\"title\":{\"text\":\"\\ud83d\\udeaa Room-to-Room Movement Flow\"},\"font\":{\"size\":12}},                        {\"responsive\": true}                    ).then(function(){\n",
       "                            \n",
       "var gd = document.getElementById('78962111-343d-44ca-b750-42fe43a6355c');\n",
       "var x = new MutationObserver(function (mutations, observer) {{\n",
       "        var display = window.getComputedStyle(gd).display;\n",
       "        if (!display || display === 'none') {{\n",
       "            console.log([gd, 'removed!']);\n",
       "            Plotly.purge(gd);\n",
       "            observer.disconnect();\n",
       "        }}\n",
       "}});\n",
       "\n",
       "// Listen for the removal of the full notebook cells\n",
       "var notebookContainer = gd.closest('#notebook-container');\n",
       "if (notebookContainer) {{\n",
       "    x.observe(notebookContainer, {childList: true});\n",
       "}}\n",
       "\n",
       "// Listen for the clearing of the current output cell\n",
       "var outputEl = gd.closest('.output');\n",
       "if (outputEl) {{\n",
       "    x.observe(outputEl, {childList: true});\n",
       "}}\n",
       "\n",
       "                        })                };                });            </script>        </div>"
      ]
     },
     "metadata": {},
     "output_type": "display_data"
    },
    {
     "data": {
      "application/vnd.plotly.v1+json": {
       "config": {
        "plotlyServerURL": "https://plot.ly"
       },
       "data": [
        {
         "alignmentgroup": "True",
         "hovertemplate": "color=a<br>LZ-78 Phrase=%{x}<br>Frequency=%{y}<extra></extra>",
         "legendgroup": "a",
         "marker": {
          "color": "#636efa",
          "pattern": {
           "shape": ""
          }
         },
         "name": "a",
         "offsetgroup": "a",
         "orientation": "v",
         "showlegend": true,
         "textposition": "auto",
         "type": "bar",
         "x": [
          "a"
         ],
         "xaxis": "x",
         "y": [
          3
         ],
         "yaxis": "y"
        },
        {
         "alignmentgroup": "True",
         "hovertemplate": "color=j<br>LZ-78 Phrase=%{x}<br>Frequency=%{y}<extra></extra>",
         "legendgroup": "j",
         "marker": {
          "color": "#EF553B",
          "pattern": {
           "shape": ""
          }
         },
         "name": "j",
         "offsetgroup": "j",
         "orientation": "v",
         "showlegend": true,
         "textposition": "auto",
         "type": "bar",
         "x": [
          "j"
         ],
         "xaxis": "x",
         "y": [
          6
         ],
         "yaxis": "y"
        },
        {
         "alignmentgroup": "True",
         "hovertemplate": "color=k<br>LZ-78 Phrase=%{x}<br>Frequency=%{y}<extra></extra>",
         "legendgroup": "k",
         "marker": {
          "color": "#00cc96",
          "pattern": {
           "shape": ""
          }
         },
         "name": "k",
         "offsetgroup": "k",
         "orientation": "v",
         "showlegend": true,
         "textposition": "auto",
         "type": "bar",
         "x": [
          "k"
         ],
         "xaxis": "x",
         "y": [
          4
         ],
         "yaxis": "y"
        },
        {
         "alignmentgroup": "True",
         "hovertemplate": "color=ko<br>LZ-78 Phrase=%{x}<br>Frequency=%{y}<extra></extra>",
         "legendgroup": "ko",
         "marker": {
          "color": "#ab63fa",
          "pattern": {
           "shape": ""
          }
         },
         "name": "ko",
         "offsetgroup": "ko",
         "orientation": "v",
         "showlegend": true,
         "textposition": "auto",
         "type": "bar",
         "x": [
          "ko"
         ],
         "xaxis": "x",
         "y": [
          2
         ],
         "yaxis": "y"
        },
        {
         "alignmentgroup": "True",
         "hovertemplate": "color=o<br>LZ-78 Phrase=%{x}<br>Frequency=%{y}<extra></extra>",
         "legendgroup": "o",
         "marker": {
          "color": "#FFA15A",
          "pattern": {
           "shape": ""
          }
         },
         "name": "o",
         "offsetgroup": "o",
         "orientation": "v",
         "showlegend": true,
         "textposition": "auto",
         "type": "bar",
         "x": [
          "o"
         ],
         "xaxis": "x",
         "y": [
          2
         ],
         "yaxis": "y"
        },
        {
         "alignmentgroup": "True",
         "hovertemplate": "color=ja<br>LZ-78 Phrase=%{x}<br>Frequency=%{y}<extra></extra>",
         "legendgroup": "ja",
         "marker": {
          "color": "#19d3f3",
          "pattern": {
           "shape": ""
          }
         },
         "name": "ja",
         "offsetgroup": "ja",
         "orientation": "v",
         "showlegend": true,
         "textposition": "auto",
         "type": "bar",
         "x": [
          "ja"
         ],
         "xaxis": "x",
         "y": [
          3
         ],
         "yaxis": "y"
        },
        {
         "alignmentgroup": "True",
         "hovertemplate": "color=aa<br>LZ-78 Phrase=%{x}<br>Frequency=%{y}<extra></extra>",
         "legendgroup": "aa",
         "marker": {
          "color": "#FF6692",
          "pattern": {
           "shape": ""
          }
         },
         "name": "aa",
         "offsetgroup": "aa",
         "orientation": "v",
         "showlegend": true,
         "textposition": "auto",
         "type": "bar",
         "x": [
          "aa"
         ],
         "xaxis": "x",
         "y": [
          1
         ],
         "yaxis": "y"
        },
        {
         "alignmentgroup": "True",
         "hovertemplate": "color=jk<br>LZ-78 Phrase=%{x}<br>Frequency=%{y}<extra></extra>",
         "legendgroup": "jk",
         "marker": {
          "color": "#B6E880",
          "pattern": {
           "shape": ""
          }
         },
         "name": "jk",
         "offsetgroup": "jk",
         "orientation": "v",
         "showlegend": true,
         "textposition": "auto",
         "type": "bar",
         "x": [
          "jk"
         ],
         "xaxis": "x",
         "y": [
          2
         ],
         "yaxis": "y"
        },
        {
         "alignmentgroup": "True",
         "hovertemplate": "color=koo<br>LZ-78 Phrase=%{x}<br>Frequency=%{y}<extra></extra>",
         "legendgroup": "koo",
         "marker": {
          "color": "#FF97FF",
          "pattern": {
           "shape": ""
          }
         },
         "name": "koo",
         "offsetgroup": "koo",
         "orientation": "v",
         "showlegend": true,
         "textposition": "auto",
         "type": "bar",
         "x": [
          "koo"
         ],
         "xaxis": "x",
         "y": [
          1
         ],
         "yaxis": "y"
        },
        {
         "alignmentgroup": "True",
         "hovertemplate": "color=jaa<br>LZ-78 Phrase=%{x}<br>Frequency=%{y}<extra></extra>",
         "legendgroup": "jaa",
         "marker": {
          "color": "#FECB52",
          "pattern": {
           "shape": ""
          }
         },
         "name": "jaa",
         "offsetgroup": "jaa",
         "orientation": "v",
         "showlegend": true,
         "textposition": "auto",
         "type": "bar",
         "x": [
          "jaa"
         ],
         "xaxis": "x",
         "y": [
          2
         ],
         "yaxis": "y"
        }
       ],
       "layout": {
        "autosize": true,
        "barmode": "relative",
        "legend": {
         "title": {
          "text": "color"
         },
         "tracegroupgap": 0
        },
        "template": {
         "data": {
          "bar": [
           {
            "error_x": {
             "color": "#2a3f5f"
            },
            "error_y": {
             "color": "#2a3f5f"
            },
            "marker": {
             "line": {
              "color": "white",
              "width": 0.5
             },
             "pattern": {
              "fillmode": "overlay",
              "size": 10,
              "solidity": 0.2
             }
            },
            "type": "bar"
           }
          ],
          "barpolar": [
           {
            "marker": {
             "line": {
              "color": "white",
              "width": 0.5
             },
             "pattern": {
              "fillmode": "overlay",
              "size": 10,
              "solidity": 0.2
             }
            },
            "type": "barpolar"
           }
          ],
          "carpet": [
           {
            "aaxis": {
             "endlinecolor": "#2a3f5f",
             "gridcolor": "#C8D4E3",
             "linecolor": "#C8D4E3",
             "minorgridcolor": "#C8D4E3",
             "startlinecolor": "#2a3f5f"
            },
            "baxis": {
             "endlinecolor": "#2a3f5f",
             "gridcolor": "#C8D4E3",
             "linecolor": "#C8D4E3",
             "minorgridcolor": "#C8D4E3",
             "startlinecolor": "#2a3f5f"
            },
            "type": "carpet"
           }
          ],
          "choropleth": [
           {
            "colorbar": {
             "outlinewidth": 0,
             "ticks": ""
            },
            "type": "choropleth"
           }
          ],
          "contour": [
           {
            "colorbar": {
             "outlinewidth": 0,
             "ticks": ""
            },
            "colorscale": [
             [
              0,
              "#0d0887"
             ],
             [
              0.1111111111111111,
              "#46039f"
             ],
             [
              0.2222222222222222,
              "#7201a8"
             ],
             [
              0.3333333333333333,
              "#9c179e"
             ],
             [
              0.4444444444444444,
              "#bd3786"
             ],
             [
              0.5555555555555556,
              "#d8576b"
             ],
             [
              0.6666666666666666,
              "#ed7953"
             ],
             [
              0.7777777777777778,
              "#fb9f3a"
             ],
             [
              0.8888888888888888,
              "#fdca26"
             ],
             [
              1,
              "#f0f921"
             ]
            ],
            "type": "contour"
           }
          ],
          "contourcarpet": [
           {
            "colorbar": {
             "outlinewidth": 0,
             "ticks": ""
            },
            "type": "contourcarpet"
           }
          ],
          "heatmap": [
           {
            "colorbar": {
             "outlinewidth": 0,
             "ticks": ""
            },
            "colorscale": [
             [
              0,
              "#0d0887"
             ],
             [
              0.1111111111111111,
              "#46039f"
             ],
             [
              0.2222222222222222,
              "#7201a8"
             ],
             [
              0.3333333333333333,
              "#9c179e"
             ],
             [
              0.4444444444444444,
              "#bd3786"
             ],
             [
              0.5555555555555556,
              "#d8576b"
             ],
             [
              0.6666666666666666,
              "#ed7953"
             ],
             [
              0.7777777777777778,
              "#fb9f3a"
             ],
             [
              0.8888888888888888,
              "#fdca26"
             ],
             [
              1,
              "#f0f921"
             ]
            ],
            "type": "heatmap"
           }
          ],
          "heatmapgl": [
           {
            "colorbar": {
             "outlinewidth": 0,
             "ticks": ""
            },
            "colorscale": [
             [
              0,
              "#0d0887"
             ],
             [
              0.1111111111111111,
              "#46039f"
             ],
             [
              0.2222222222222222,
              "#7201a8"
             ],
             [
              0.3333333333333333,
              "#9c179e"
             ],
             [
              0.4444444444444444,
              "#bd3786"
             ],
             [
              0.5555555555555556,
              "#d8576b"
             ],
             [
              0.6666666666666666,
              "#ed7953"
             ],
             [
              0.7777777777777778,
              "#fb9f3a"
             ],
             [
              0.8888888888888888,
              "#fdca26"
             ],
             [
              1,
              "#f0f921"
             ]
            ],
            "type": "heatmapgl"
           }
          ],
          "histogram": [
           {
            "marker": {
             "pattern": {
              "fillmode": "overlay",
              "size": 10,
              "solidity": 0.2
             }
            },
            "type": "histogram"
           }
          ],
          "histogram2d": [
           {
            "colorbar": {
             "outlinewidth": 0,
             "ticks": ""
            },
            "colorscale": [
             [
              0,
              "#0d0887"
             ],
             [
              0.1111111111111111,
              "#46039f"
             ],
             [
              0.2222222222222222,
              "#7201a8"
             ],
             [
              0.3333333333333333,
              "#9c179e"
             ],
             [
              0.4444444444444444,
              "#bd3786"
             ],
             [
              0.5555555555555556,
              "#d8576b"
             ],
             [
              0.6666666666666666,
              "#ed7953"
             ],
             [
              0.7777777777777778,
              "#fb9f3a"
             ],
             [
              0.8888888888888888,
              "#fdca26"
             ],
             [
              1,
              "#f0f921"
             ]
            ],
            "type": "histogram2d"
           }
          ],
          "histogram2dcontour": [
           {
            "colorbar": {
             "outlinewidth": 0,
             "ticks": ""
            },
            "colorscale": [
             [
              0,
              "#0d0887"
             ],
             [
              0.1111111111111111,
              "#46039f"
             ],
             [
              0.2222222222222222,
              "#7201a8"
             ],
             [
              0.3333333333333333,
              "#9c179e"
             ],
             [
              0.4444444444444444,
              "#bd3786"
             ],
             [
              0.5555555555555556,
              "#d8576b"
             ],
             [
              0.6666666666666666,
              "#ed7953"
             ],
             [
              0.7777777777777778,
              "#fb9f3a"
             ],
             [
              0.8888888888888888,
              "#fdca26"
             ],
             [
              1,
              "#f0f921"
             ]
            ],
            "type": "histogram2dcontour"
           }
          ],
          "mesh3d": [
           {
            "colorbar": {
             "outlinewidth": 0,
             "ticks": ""
            },
            "type": "mesh3d"
           }
          ],
          "parcoords": [
           {
            "line": {
             "colorbar": {
              "outlinewidth": 0,
              "ticks": ""
             }
            },
            "type": "parcoords"
           }
          ],
          "pie": [
           {
            "automargin": true,
            "type": "pie"
           }
          ],
          "scatter": [
           {
            "fillpattern": {
             "fillmode": "overlay",
             "size": 10,
             "solidity": 0.2
            },
            "type": "scatter"
           }
          ],
          "scatter3d": [
           {
            "line": {
             "colorbar": {
              "outlinewidth": 0,
              "ticks": ""
             }
            },
            "marker": {
             "colorbar": {
              "outlinewidth": 0,
              "ticks": ""
             }
            },
            "type": "scatter3d"
           }
          ],
          "scattercarpet": [
           {
            "marker": {
             "colorbar": {
              "outlinewidth": 0,
              "ticks": ""
             }
            },
            "type": "scattercarpet"
           }
          ],
          "scattergeo": [
           {
            "marker": {
             "colorbar": {
              "outlinewidth": 0,
              "ticks": ""
             }
            },
            "type": "scattergeo"
           }
          ],
          "scattergl": [
           {
            "marker": {
             "colorbar": {
              "outlinewidth": 0,
              "ticks": ""
             }
            },
            "type": "scattergl"
           }
          ],
          "scattermapbox": [
           {
            "marker": {
             "colorbar": {
              "outlinewidth": 0,
              "ticks": ""
             }
            },
            "type": "scattermapbox"
           }
          ],
          "scatterpolar": [
           {
            "marker": {
             "colorbar": {
              "outlinewidth": 0,
              "ticks": ""
             }
            },
            "type": "scatterpolar"
           }
          ],
          "scatterpolargl": [
           {
            "marker": {
             "colorbar": {
              "outlinewidth": 0,
              "ticks": ""
             }
            },
            "type": "scatterpolargl"
           }
          ],
          "scatterternary": [
           {
            "marker": {
             "colorbar": {
              "outlinewidth": 0,
              "ticks": ""
             }
            },
            "type": "scatterternary"
           }
          ],
          "surface": [
           {
            "colorbar": {
             "outlinewidth": 0,
             "ticks": ""
            },
            "colorscale": [
             [
              0,
              "#0d0887"
             ],
             [
              0.1111111111111111,
              "#46039f"
             ],
             [
              0.2222222222222222,
              "#7201a8"
             ],
             [
              0.3333333333333333,
              "#9c179e"
             ],
             [
              0.4444444444444444,
              "#bd3786"
             ],
             [
              0.5555555555555556,
              "#d8576b"
             ],
             [
              0.6666666666666666,
              "#ed7953"
             ],
             [
              0.7777777777777778,
              "#fb9f3a"
             ],
             [
              0.8888888888888888,
              "#fdca26"
             ],
             [
              1,
              "#f0f921"
             ]
            ],
            "type": "surface"
           }
          ],
          "table": [
           {
            "cells": {
             "fill": {
              "color": "#EBF0F8"
             },
             "line": {
              "color": "white"
             }
            },
            "header": {
             "fill": {
              "color": "#C8D4E3"
             },
             "line": {
              "color": "white"
             }
            },
            "type": "table"
           }
          ]
         },
         "layout": {
          "annotationdefaults": {
           "arrowcolor": "#2a3f5f",
           "arrowhead": 0,
           "arrowwidth": 1
          },
          "autotypenumbers": "strict",
          "coloraxis": {
           "colorbar": {
            "outlinewidth": 0,
            "ticks": ""
           }
          },
          "colorscale": {
           "diverging": [
            [
             0,
             "#8e0152"
            ],
            [
             0.1,
             "#c51b7d"
            ],
            [
             0.2,
             "#de77ae"
            ],
            [
             0.3,
             "#f1b6da"
            ],
            [
             0.4,
             "#fde0ef"
            ],
            [
             0.5,
             "#f7f7f7"
            ],
            [
             0.6,
             "#e6f5d0"
            ],
            [
             0.7,
             "#b8e186"
            ],
            [
             0.8,
             "#7fbc41"
            ],
            [
             0.9,
             "#4d9221"
            ],
            [
             1,
             "#276419"
            ]
           ],
           "sequential": [
            [
             0,
             "#0d0887"
            ],
            [
             0.1111111111111111,
             "#46039f"
            ],
            [
             0.2222222222222222,
             "#7201a8"
            ],
            [
             0.3333333333333333,
             "#9c179e"
            ],
            [
             0.4444444444444444,
             "#bd3786"
            ],
            [
             0.5555555555555556,
             "#d8576b"
            ],
            [
             0.6666666666666666,
             "#ed7953"
            ],
            [
             0.7777777777777778,
             "#fb9f3a"
            ],
            [
             0.8888888888888888,
             "#fdca26"
            ],
            [
             1,
             "#f0f921"
            ]
           ],
           "sequentialminus": [
            [
             0,
             "#0d0887"
            ],
            [
             0.1111111111111111,
             "#46039f"
            ],
            [
             0.2222222222222222,
             "#7201a8"
            ],
            [
             0.3333333333333333,
             "#9c179e"
            ],
            [
             0.4444444444444444,
             "#bd3786"
            ],
            [
             0.5555555555555556,
             "#d8576b"
            ],
            [
             0.6666666666666666,
             "#ed7953"
            ],
            [
             0.7777777777777778,
             "#fb9f3a"
            ],
            [
             0.8888888888888888,
             "#fdca26"
            ],
            [
             1,
             "#f0f921"
            ]
           ]
          },
          "colorway": [
           "#636efa",
           "#EF553B",
           "#00cc96",
           "#ab63fa",
           "#FFA15A",
           "#19d3f3",
           "#FF6692",
           "#B6E880",
           "#FF97FF",
           "#FECB52"
          ],
          "font": {
           "color": "#2a3f5f"
          },
          "geo": {
           "bgcolor": "white",
           "lakecolor": "white",
           "landcolor": "white",
           "showlakes": true,
           "showland": true,
           "subunitcolor": "#C8D4E3"
          },
          "hoverlabel": {
           "align": "left"
          },
          "hovermode": "closest",
          "mapbox": {
           "style": "light"
          },
          "paper_bgcolor": "white",
          "plot_bgcolor": "white",
          "polar": {
           "angularaxis": {
            "gridcolor": "#EBF0F8",
            "linecolor": "#EBF0F8",
            "ticks": ""
           },
           "bgcolor": "white",
           "radialaxis": {
            "gridcolor": "#EBF0F8",
            "linecolor": "#EBF0F8",
            "ticks": ""
           }
          },
          "scene": {
           "xaxis": {
            "backgroundcolor": "white",
            "gridcolor": "#DFE8F3",
            "gridwidth": 2,
            "linecolor": "#EBF0F8",
            "showbackground": true,
            "ticks": "",
            "zerolinecolor": "#EBF0F8"
           },
           "yaxis": {
            "backgroundcolor": "white",
            "gridcolor": "#DFE8F3",
            "gridwidth": 2,
            "linecolor": "#EBF0F8",
            "showbackground": true,
            "ticks": "",
            "zerolinecolor": "#EBF0F8"
           },
           "zaxis": {
            "backgroundcolor": "white",
            "gridcolor": "#DFE8F3",
            "gridwidth": 2,
            "linecolor": "#EBF0F8",
            "showbackground": true,
            "ticks": "",
            "zerolinecolor": "#EBF0F8"
           }
          },
          "shapedefaults": {
           "line": {
            "color": "#2a3f5f"
           }
          },
          "ternary": {
           "aaxis": {
            "gridcolor": "#DFE8F3",
            "linecolor": "#A2B1C6",
            "ticks": ""
           },
           "baxis": {
            "gridcolor": "#DFE8F3",
            "linecolor": "#A2B1C6",
            "ticks": ""
           },
           "bgcolor": "white",
           "caxis": {
            "gridcolor": "#DFE8F3",
            "linecolor": "#A2B1C6",
            "ticks": ""
           }
          },
          "title": {
           "x": 0.05
          },
          "xaxis": {
           "automargin": true,
           "gridcolor": "#EBF0F8",
           "linecolor": "#EBF0F8",
           "ticks": "",
           "title": {
            "standoff": 15
           },
           "zerolinecolor": "#EBF0F8",
           "zerolinewidth": 2
          },
          "yaxis": {
           "automargin": true,
           "gridcolor": "#EBF0F8",
           "linecolor": "#EBF0F8",
           "ticks": "",
           "title": {
            "standoff": 15
           },
           "zerolinecolor": "#EBF0F8",
           "zerolinewidth": 2
          }
         }
        },
        "title": {
         "text": "Top LZ-78 Phrases"
        },
        "xaxis": {
         "anchor": "y",
         "autorange": true,
         "domain": [
          0,
          1
         ],
         "range": [
          -0.5,
          9.5
         ],
         "title": {
          "text": "LZ-78 Phrase"
         },
         "type": "category"
        },
        "yaxis": {
         "anchor": "x",
         "autorange": true,
         "domain": [
          0,
          1
         ],
         "range": [
          0,
          6.315789473684211
         ],
         "title": {
          "text": "Frequency"
         },
         "type": "linear"
        }
       }
      },
      "image/png": "[encoded data removed]",
      "text/html": [
       "<div>                            <div id=\"15b721e4-1ce9-4486-a113-d9d22287e0ff\" class=\"plotly-graph-div\" style=\"height:525px; width:100%;\"></div>            <script type=\"text/javascript\">                require([\"plotly\"], function(Plotly) {                    window.PLOTLYENV=window.PLOTLYENV || {};                                    if (document.getElementById(\"15b721e4-1ce9-4486-a113-d9d22287e0ff\")) {                    Plotly.newPlot(                        \"15b721e4-1ce9-4486-a113-d9d22287e0ff\",                        [{\"alignmentgroup\":\"True\",\"hovertemplate\":\"color=a\\u003cbr\\u003eLZ-78 Phrase=%{x}\\u003cbr\\u003eFrequency=%{y}\\u003cextra\\u003e\\u003c\\u002fextra\\u003e\",\"legendgroup\":\"a\",\"marker\":{\"color\":\"#636efa\",\"pattern\":{\"shape\":\"\"}},\"name\":\"a\",\"offsetgroup\":\"a\",\"orientation\":\"v\",\"showlegend\":true,\"textposition\":\"auto\",\"x\":[\"a\"],\"xaxis\":\"x\",\"y\":[3],\"yaxis\":\"y\",\"type\":\"bar\"},{\"alignmentgroup\":\"True\",\"hovertemplate\":\"color=j\\u003cbr\\u003eLZ-78 Phrase=%{x}\\u003cbr\\u003eFrequency=%{y}\\u003cextra\\u003e\\u003c\\u002fextra\\u003e\",\"legendgroup\":\"j\",\"marker\":{\"color\":\"#EF553B\",\"pattern\":{\"shape\":\"\"}},\"name\":\"j\",\"offsetgroup\":\"j\",\"orientation\":\"v\",\"showlegend\":true,\"textposition\":\"auto\",\"x\":[\"j\"],\"xaxis\":\"x\",\"y\":[6],\"yaxis\":\"y\",\"type\":\"bar\"},{\"alignmentgroup\":\"True\",\"hovertemplate\":\"color=k\\u003cbr\\u003eLZ-78 Phrase=%{x}\\u003cbr\\u003eFrequency=%{y}\\u003cextra\\u003e\\u003c\\u002fextra\\u003e\",\"legendgroup\":\"k\",\"marker\":{\"color\":\"#00cc96\",\"pattern\":{\"shape\":\"\"}},\"name\":\"k\",\"offsetgroup\":\"k\",\"orientation\":\"v\",\"showlegend\":true,\"textposition\":\"auto\",\"x\":[\"k\"],\"xaxis\":\"x\",\"y\":[4],\"yaxis\":\"y\",\"type\":\"bar\"},{\"alignmentgroup\":\"True\",\"hovertemplate\":\"color=ko\\u003cbr\\u003eLZ-78 Phrase=%{x}\\u003cbr\\u003eFrequency=%{y}\\u003cextra\\u003e\\u003c\\u002fextra\\u003e\",\"legendgroup\":\"ko\",\"marker\":{\"color\":\"#ab63fa\",\"pattern\":{\"shape\":\"\"}},\"name\":\"ko\",\"offsetgroup\":\"ko\",\"orientation\":\"v\",\"showlegend\":true,\"textposition\":\"auto\",\"x\":[\"ko\"],\"xaxis\":\"x\",\"y\":[2],\"yaxis\":\"y\",\"type\":\"bar\"},{\"alignmentgroup\":\"True\",\"hovertemplate\":\"color=o\\u003cbr\\u003eLZ-78 Phrase=%{x}\\u003cbr\\u003eFrequency=%{y}\\u003cextra\\u003e\\u003c\\u002fextra\\u003e\",\"legendgroup\":\"o\",\"marker\":{\"color\":\"#FFA15A\",\"pattern\":{\"shape\":\"\"}},\"name\":\"o\",\"offsetgroup\":\"o\",\"orientation\":\"v\",\"showlegend\":true,\"textposition\":\"auto\",\"x\":[\"o\"],\"xaxis\":\"x\",\"y\":[2],\"yaxis\":\"y\",\"type\":\"bar\"},{\"alignmentgroup\":\"True\",\"hovertemplate\":\"color=ja\\u003cbr\\u003eLZ-78 Phrase=%{x}\\u003cbr\\u003eFrequency=%{y}\\u003cextra\\u003e\\u003c\\u002fextra\\u003e\",\"legendgroup\":\"ja\",\"marker\":{\"color\":\"#19d3f3\",\"pattern\":{\"shape\":\"\"}},\"name\":\"ja\",\"offsetgroup\":\"ja\",\"orientation\":\"v\",\"showlegend\":true,\"textposition\":\"auto\",\"x\":[\"ja\"],\"xaxis\":\"x\",\"y\":[3],\"yaxis\":\"y\",\"type\":\"bar\"},{\"alignmentgroup\":\"True\",\"hovertemplate\":\"color=aa\\u003cbr\\u003eLZ-78 Phrase=%{x}\\u003cbr\\u003eFrequency=%{y}\\u003cextra\\u003e\\u003c\\u002fextra\\u003e\",\"legendgroup\":\"aa\",\"marker\":{\"color\":\"#FF6692\",\"pattern\":{\"shape\":\"\"}},\"name\":\"aa\",\"offsetgroup\":\"aa\",\"orientation\":\"v\",\"showlegend\":true,\"textposition\":\"auto\",\"x\":[\"aa\"],\"xaxis\":\"x\",\"y\":[1],\"yaxis\":\"y\",\"type\":\"bar\"},{\"alignmentgroup\":\"True\",\"hovertemplate\":\"color=jk\\u003cbr\\u003eLZ-78 Phrase=%{x}\\u003cbr\\u003eFrequency=%{y}\\u003cextra\\u003e\\u003c\\u002fextra\\u003e\",\"legendgroup\":\"jk\",\"marker\":{\"color\":\"#B6E880\",\"pattern\":{\"shape\":\"\"}},\"name\":\"jk\",\"offsetgroup\":\"jk\",\"orientation\":\"v\",\"showlegend\":true,\"textposition\":\"auto\",\"x\":[\"jk\"],\"xaxis\":\"x\",\"y\":[2],\"yaxis\":\"y\",\"type\":\"bar\"},{\"alignmentgroup\":\"True\",\"hovertemplate\":\"color=koo\\u003cbr\\u003eLZ-78 Phrase=%{x}\\u003cbr\\u003eFrequency=%{y}\\u003cextra\\u003e\\u003c\\u002fextra\\u003e\",\"legendgroup\":\"koo\",\"marker\":{\"color\":\"#FF97FF\",\"pattern\":{\"shape\":\"\"}},\"name\":\"koo\",\"offsetgroup\":\"koo\",\"orientation\":\"v\",\"showlegend\":true,\"textposition\":\"auto\",\"x\":[\"koo\"],\"xaxis\":\"x\",\"y\":[1],\"yaxis\":\"y\",\"type\":\"bar\"},{\"alignmentgroup\":\"True\",\"hovertemplate\":\"color=jaa\\u003cbr\\u003eLZ-78 Phrase=%{x}\\u003cbr\\u003eFrequency=%{y}\\u003cextra\\u003e\\u003c\\u002fextra\\u003e\",\"legendgroup\":\"jaa\",\"marker\":{\"color\":\"#FECB52\",\"pattern\":{\"shape\":\"\"}},\"name\":\"jaa\",\"offsetgroup\":\"jaa\",\"orientation\":\"v\",\"showlegend\":true,\"textposition\":\"auto\",\"x\":[\"jaa\"],\"xaxis\":\"x\",\"y\":[2],\"yaxis\":\"y\",\"type\":\"bar\"}],                        {\"template\":{\"data\":{\"barpolar\":[{\"marker\":{\"line\":{\"color\":\"white\",\"width\":0.5},\"pattern\":{\"fillmode\":\"overlay\",\"size\":10,\"solidity\":0.2}},\"type\":\"barpolar\"}],\"bar\":[{\"error_x\":{\"color\":\"#2a3f5f\"},\"error_y\":{\"color\":\"#2a3f5f\"},\"marker\":{\"line\":{\"color\":\"white\",\"width\":0.5},\"pattern\":{\"fillmode\":\"overlay\",\"size\":10,\"solidity\":0.2}},\"type\":\"bar\"}],\"carpet\":[{\"aaxis\":{\"endlinecolor\":\"#2a3f5f\",\"gridcolor\":\"#C8D4E3\",\"linecolor\":\"#C8D4E3\",\"minorgridcolor\":\"#C8D4E3\",\"startlinecolor\":\"#2a3f5f\"},\"baxis\":{\"endlinecolor\":\"#2a3f5f\",\"gridcolor\":\"#C8D4E3\",\"linecolor\":\"#C8D4E3\",\"minorgridcolor\":\"#C8D4E3\",\"startlinecolor\":\"#2a3f5f\"},\"type\":\"carpet\"}],\"choropleth\":[{\"colorbar\":{\"outlinewidth\":0,\"ticks\":\"\"},\"type\":\"choropleth\"}],\"contourcarpet\":[{\"colorbar\":{\"outlinewidth\":0,\"ticks\":\"\"},\"type\":\"contourcarpet\"}],\"contour\":[{\"colorbar\":{\"outlinewidth\":0,\"ticks\":\"\"},\"colorscale\":[[0.0,\"#0d0887\"],[0.1111111111111111,\"#46039f\"],[0.2222222222222222,\"#7201a8\"],[0.3333333333333333,\"#9c179e\"],[0.4444444444444444,\"#bd3786\"],[0.5555555555555556,\"#d8576b\"],[0.6666666666666666,\"#ed7953\"],[0.7777777777777778,\"#fb9f3a\"],[0.8888888888888888,\"#fdca26\"],[1.0,\"#f0f921\"]],\"type\":\"contour\"}],\"heatmapgl\":[{\"colorbar\":{\"outlinewidth\":0,\"ticks\":\"\"},\"colorscale\":[[0.0,\"#0d0887\"],[0.1111111111111111,\"#46039f\"],[0.2222222222222222,\"#7201a8\"],[0.3333333333333333,\"#9c179e\"],[0.4444444444444444,\"#bd3786\"],[0.5555555555555556,\"#d8576b\"],[0.6666666666666666,\"#ed7953\"],[0.7777777777777778,\"#fb9f3a\"],[0.8888888888888888,\"#fdca26\"],[1.0,\"#f0f921\"]],\"type\":\"heatmapgl\"}],\"heatmap\":[{\"colorbar\":{\"outlinewidth\":0,\"ticks\":\"\"},\"colorscale\":[[0.0,\"#0d0887\"],[0.1111111111111111,\"#46039f\"],[0.2222222222222222,\"#7201a8\"],[0.3333333333333333,\"#9c179e\"],[0.4444444444444444,\"#bd3786\"],[0.5555555555555556,\"#d8576b\"],[0.6666666666666666,\"#ed7953\"],[0.7777777777777778,\"#fb9f3a\"],[0.8888888888888888,\"#fdca26\"],[1.0,\"#f0f921\"]],\"type\":\"heatmap\"}],\"histogram2dcontour\":[{\"colorbar\":{\"outlinewidth\":0,\"ticks\":\"\"},\"colorscale\":[[0.0,\"#0d0887\"],[0.1111111111111111,\"#46039f\"],[0.2222222222222222,\"#7201a8\"],[0.3333333333333333,\"#9c179e\"],[0.4444444444444444,\"#bd3786\"],[0.5555555555555556,\"#d8576b\"],[0.6666666666666666,\"#ed7953\"],[0.7777777777777778,\"#fb9f3a\"],[0.8888888888888888,\"#fdca26\"],[1.0,\"#f0f921\"]],\"type\":\"histogram2dcontour\"}],\"histogram2d\":[{\"colorbar\":{\"outlinewidth\":0,\"ticks\":\"\"},\"colorscale\":[[0.0,\"#0d0887\"],[0.1111111111111111,\"#46039f\"],[0.2222222222222222,\"#7201a8\"],[0.3333333333333333,\"#9c179e\"],[0.4444444444444444,\"#bd3786\"],[0.5555555555555556,\"#d8576b\"],[0.6666666666666666,\"#ed7953\"],[0.7777777777777778,\"#fb9f3a\"],[0.8888888888888888,\"#fdca26\"],[1.0,\"#f0f921\"]],\"type\":\"histogram2d\"}],\"histogram\":[{\"marker\":{\"pattern\":{\"fillmode\":\"overlay\",\"size\":10,\"solidity\":0.2}},\"type\":\"histogram\"}],\"mesh3d\":[{\"colorbar\":{\"outlinewidth\":0,\"ticks\":\"\"},\"type\":\"mesh3d\"}],\"parcoords\":[{\"line\":{\"colorbar\":{\"outlinewidth\":0,\"ticks\":\"\"}},\"type\":\"parcoords\"}],\"pie\":[{\"automargin\":true,\"type\":\"pie\"}],\"scatter3d\":[{\"line\":{\"colorbar\":{\"outlinewidth\":0,\"ticks\":\"\"}},\"marker\":{\"colorbar\":{\"outlinewidth\":0,\"ticks\":\"\"}},\"type\":\"scatter3d\"}],\"scattercarpet\":[{\"marker\":{\"colorbar\":{\"outlinewidth\":0,\"ticks\":\"\"}},\"type\":\"scattercarpet\"}],\"scattergeo\":[{\"marker\":{\"colorbar\":{\"outlinewidth\":0,\"ticks\":\"\"}},\"type\":\"scattergeo\"}],\"scattergl\":[{\"marker\":{\"colorbar\":{\"outlinewidth\":0,\"ticks\":\"\"}},\"type\":\"scattergl\"}],\"scattermapbox\":[{\"marker\":{\"colorbar\":{\"outlinewidth\":0,\"ticks\":\"\"}},\"type\":\"scattermapbox\"}],\"scatterpolargl\":[{\"marker\":{\"colorbar\":{\"outlinewidth\":0,\"ticks\":\"\"}},\"type\":\"scatterpolargl\"}],\"scatterpolar\":[{\"marker\":{\"colorbar\":{\"outlinewidth\":0,\"ticks\":\"\"}},\"type\":\"scatterpolar\"}],\"scatter\":[{\"fillpattern\":{\"fillmode\":\"overlay\",\"size\":10,\"solidity\":0.2},\"type\":\"scatter\"}],\"scatterternary\":[{\"marker\":{\"colorbar\":{\"outlinewidth\":0,\"ticks\":\"\"}},\"type\":\"scatterternary\"}],\"surface\":[{\"colorbar\":{\"outlinewidth\":0,\"ticks\":\"\"},\"colorscale\":[[0.0,\"#0d0887\"],[0.1111111111111111,\"#46039f\"],[0.2222222222222222,\"#7201a8\"],[0.3333333333333333,\"#9c179e\"],[0.4444444444444444,\"#bd3786\"],[0.5555555555555556,\"#d8576b\"],[0.6666666666666666,\"#ed7953\"],[0.7777777777777778,\"#fb9f3a\"],[0.8888888888888888,\"#fdca26\"],[1.0,\"#f0f921\"]],\"type\":\"surface\"}],\"table\":[{\"cells\":{\"fill\":{\"color\":\"#EBF0F8\"},\"line\":{\"color\":\"white\"}},\"header\":{\"fill\":{\"color\":\"#C8D4E3\"},\"line\":{\"color\":\"white\"}},\"type\":\"table\"}]},\"layout\":{\"annotationdefaults\":{\"arrowcolor\":\"#2a3f5f\",\"arrowhead\":0,\"arrowwidth\":1},\"autotypenumbers\":\"strict\",\"coloraxis\":{\"colorbar\":{\"outlinewidth\":0,\"ticks\":\"\"}},\"colorscale\":{\"diverging\":[[0,\"#8e0152\"],[0.1,\"#c51b7d\"],[0.2,\"#de77ae\"],[0.3,\"#f1b6da\"],[0.4,\"#fde0ef\"],[0.5,\"#f7f7f7\"],[0.6,\"#e6f5d0\"],[0.7,\"#b8e186\"],[0.8,\"#7fbc41\"],[0.9,\"#4d9221\"],[1,\"#276419\"]],\"sequential\":[[0.0,\"#0d0887\"],[0.1111111111111111,\"#46039f\"],[0.2222222222222222,\"#7201a8\"],[0.3333333333333333,\"#9c179e\"],[0.4444444444444444,\"#bd3786\"],[0.5555555555555556,\"#d8576b\"],[0.6666666666666666,\"#ed7953\"],[0.7777777777777778,\"#fb9f3a\"],[0.8888888888888888,\"#fdca26\"],[1.0,\"#f0f921\"]],\"sequentialminus\":[[0.0,\"#0d0887\"],[0.1111111111111111,\"#46039f\"],[0.2222222222222222,\"#7201a8\"],[0.3333333333333333,\"#9c179e\"],[0.4444444444444444,\"#bd3786\"],[0.5555555555555556,\"#d8576b\"],[0.6666666666666666,\"#ed7953\"],[0.7777777777777778,\"#fb9f3a\"],[0.8888888888888888,\"#fdca26\"],[1.0,\"#f0f921\"]]},\"colorway\":[\"#636efa\",\"#EF553B\",\"#00cc96\",\"#ab63fa\",\"#FFA15A\",\"#19d3f3\",\"#FF6692\",\"#B6E880\",\"#FF97FF\",\"#FECB52\"],\"font\":{\"color\":\"#2a3f5f\"},\"geo\":{\"bgcolor\":\"white\",\"lakecolor\":\"white\",\"landcolor\":\"white\",\"showlakes\":true,\"showland\":true,\"subunitcolor\":\"#C8D4E3\"},\"hoverlabel\":{\"align\":\"left\"},\"hovermode\":\"closest\",\"mapbox\":{\"style\":\"light\"},\"paper_bgcolor\":\"white\",\"plot_bgcolor\":\"white\",\"polar\":{\"angularaxis\":{\"gridcolor\":\"#EBF0F8\",\"linecolor\":\"#EBF0F8\",\"ticks\":\"\"},\"bgcolor\":\"white\",\"radialaxis\":{\"gridcolor\":\"#EBF0F8\",\"linecolor\":\"#EBF0F8\",\"ticks\":\"\"}},\"scene\":{\"xaxis\":{\"backgroundcolor\":\"white\",\"gridcolor\":\"#DFE8F3\",\"gridwidth\":2,\"linecolor\":\"#EBF0F8\",\"showbackground\":true,\"ticks\":\"\",\"zerolinecolor\":\"#EBF0F8\"},\"yaxis\":{\"backgroundcolor\":\"white\",\"gridcolor\":\"#DFE8F3\",\"gridwidth\":2,\"linecolor\":\"#EBF0F8\",\"showbackground\":true,\"ticks\":\"\",\"zerolinecolor\":\"#EBF0F8\"},\"zaxis\":{\"backgroundcolor\":\"white\",\"gridcolor\":\"#DFE8F3\",\"gridwidth\":2,\"linecolor\":\"#EBF0F8\",\"showbackground\":true,\"ticks\":\"\",\"zerolinecolor\":\"#EBF0F8\"}},\"shapedefaults\":{\"line\":{\"color\":\"#2a3f5f\"}},\"ternary\":{\"aaxis\":{\"gridcolor\":\"#DFE8F3\",\"linecolor\":\"#A2B1C6\",\"ticks\":\"\"},\"baxis\":{\"gridcolor\":\"#DFE8F3\",\"linecolor\":\"#A2B1C6\",\"ticks\":\"\"},\"bgcolor\":\"white\",\"caxis\":{\"gridcolor\":\"#DFE8F3\",\"linecolor\":\"#A2B1C6\",\"ticks\":\"\"}},\"title\":{\"x\":0.05},\"xaxis\":{\"automargin\":true,\"gridcolor\":\"#EBF0F8\",\"linecolor\":\"#EBF0F8\",\"ticks\":\"\",\"title\":{\"standoff\":15},\"zerolinecolor\":\"#EBF0F8\",\"zerolinewidth\":2},\"yaxis\":{\"automargin\":true,\"gridcolor\":\"#EBF0F8\",\"linecolor\":\"#EBF0F8\",\"ticks\":\"\",\"title\":{\"standoff\":15},\"zerolinecolor\":\"#EBF0F8\",\"zerolinewidth\":2}}},\"xaxis\":{\"anchor\":\"y\",\"domain\":[0.0,1.0],\"title\":{\"text\":\"LZ-78 Phrase\"}},\"yaxis\":{\"anchor\":\"x\",\"domain\":[0.0,1.0],\"title\":{\"text\":\"Frequency\"}},\"legend\":{\"title\":{\"text\":\"color\"},\"tracegroupgap\":0},\"title\":{\"text\":\"Top LZ-78 Phrases\"},\"barmode\":\"relative\"},                        {\"responsive\": true}                    ).then(function(){\n",
       "                            \n",
       "var gd = document.getElementById('15b721e4-1ce9-4486-a113-d9d22287e0ff');\n",
       "var x = new MutationObserver(function (mutations, observer) {{\n",
       "        var display = window.getComputedStyle(gd).display;\n",
       "        if (!display || display === 'none') {{\n",
       "            console.log([gd, 'removed!']);\n",
       "            Plotly.purge(gd);\n",
       "            observer.disconnect();\n",
       "        }}\n",
       "}});\n",
       "\n",
       "// Listen for the removal of the full notebook cells\n",
       "var notebookContainer = gd.closest('#notebook-container');\n",
       "if (notebookContainer) {{\n",
       "    x.observe(notebookContainer, {childList: true});\n",
       "}}\n",
       "\n",
       "// Listen for the clearing of the current output cell\n",
       "var outputEl = gd.closest('.output');\n",
       "if (outputEl) {{\n",
       "    x.observe(outputEl, {childList: true});\n",
       "}}\n",
       "\n",
       "                        })                };                });            </script>        </div>"
      ]
     },
     "metadata": {},
     "output_type": "display_data"
    },
    {
     "data": {
      "application/vnd.plotly.v1+json": {
       "config": {
        "plotlyServerURL": "https://plot.ly"
       },
       "data": [
        {
         "alignmentgroup": "True",
         "hovertemplate": "color=a<br>Typical Path=%{x}<br>Probability=%{y}<extra></extra>",
         "legendgroup": "a",
         "marker": {
          "color": "#636efa",
          "pattern": {
           "shape": ""
          }
         },
         "name": "a",
         "offsetgroup": "a",
         "orientation": "v",
         "showlegend": true,
         "textposition": "auto",
         "type": "bar",
         "x": [
          "a"
         ],
         "xaxis": "x",
         "y": [
          1
         ],
         "yaxis": "y"
        },
        {
         "alignmentgroup": "True",
         "hovertemplate": "color=o<br>Typical Path=%{x}<br>Probability=%{y}<extra></extra>",
         "legendgroup": "o",
         "marker": {
          "color": "#EF553B",
          "pattern": {
           "shape": ""
          }
         },
         "name": "o",
         "offsetgroup": "o",
         "orientation": "v",
         "showlegend": true,
         "textposition": "auto",
         "type": "bar",
         "x": [
          "o"
         ],
         "xaxis": "x",
         "y": [
          1
         ],
         "yaxis": "y"
        },
        {
         "alignmentgroup": "True",
         "hovertemplate": "color=aa<br>Typical Path=%{x}<br>Probability=%{y}<extra></extra>",
         "legendgroup": "aa",
         "marker": {
          "color": "#00cc96",
          "pattern": {
           "shape": ""
          }
         },
         "name": "aa",
         "offsetgroup": "aa",
         "orientation": "v",
         "showlegend": true,
         "textposition": "auto",
         "type": "bar",
         "x": [
          "aa"
         ],
         "xaxis": "x",
         "y": [
          1
         ],
         "yaxis": "y"
        },
        {
         "alignmentgroup": "True",
         "hovertemplate": "color=aj<br>Typical Path=%{x}<br>Probability=%{y}<extra></extra>",
         "legendgroup": "aj",
         "marker": {
          "color": "#ab63fa",
          "pattern": {
           "shape": ""
          }
         },
         "name": "aj",
         "offsetgroup": "aj",
         "orientation": "v",
         "showlegend": true,
         "textposition": "auto",
         "type": "bar",
         "x": [
          "aj"
         ],
         "xaxis": "x",
         "y": [
          1
         ],
         "yaxis": "y"
        },
        {
         "alignmentgroup": "True",
         "hovertemplate": "color=kk<br>Typical Path=%{x}<br>Probability=%{y}<extra></extra>",
         "legendgroup": "kk",
         "marker": {
          "color": "#FFA15A",
          "pattern": {
           "shape": ""
          }
         },
         "name": "kk",
         "offsetgroup": "kk",
         "orientation": "v",
         "showlegend": true,
         "textposition": "auto",
         "type": "bar",
         "x": [
          "kk"
         ],
         "xaxis": "x",
         "y": [
          1
         ],
         "yaxis": "y"
        },
        {
         "alignmentgroup": "True",
         "hovertemplate": "color=oo<br>Typical Path=%{x}<br>Probability=%{y}<extra></extra>",
         "legendgroup": "oo",
         "marker": {
          "color": "#19d3f3",
          "pattern": {
           "shape": ""
          }
         },
         "name": "oo",
         "offsetgroup": "oo",
         "orientation": "v",
         "showlegend": true,
         "textposition": "auto",
         "type": "bar",
         "x": [
          "oo"
         ],
         "xaxis": "x",
         "y": [
          1
         ],
         "yaxis": "y"
        }
       ],
       "layout": {
        "autosize": true,
        "barmode": "relative",
        "legend": {
         "title": {
          "text": "color"
         },
         "tracegroupgap": 0
        },
        "template": {
         "data": {
          "bar": [
           {
            "error_x": {
             "color": "#2a3f5f"
            },
            "error_y": {
             "color": "#2a3f5f"
            },
            "marker": {
             "line": {
              "color": "white",
              "width": 0.5
             },
             "pattern": {
              "fillmode": "overlay",
              "size": 10,
              "solidity": 0.2
             }
            },
            "type": "bar"
           }
          ],
          "barpolar": [
           {
            "marker": {
             "line": {
              "color": "white",
              "width": 0.5
             },
             "pattern": {
              "fillmode": "overlay",
              "size": 10,
              "solidity": 0.2
             }
            },
            "type": "barpolar"
           }
          ],
          "carpet": [
           {
            "aaxis": {
             "endlinecolor": "#2a3f5f",
             "gridcolor": "#C8D4E3",
             "linecolor": "#C8D4E3",
             "minorgridcolor": "#C8D4E3",
             "startlinecolor": "#2a3f5f"
            },
            "baxis": {
             "endlinecolor": "#2a3f5f",
             "gridcolor": "#C8D4E3",
             "linecolor": "#C8D4E3",
             "minorgridcolor": "#C8D4E3",
             "startlinecolor": "#2a3f5f"
            },
            "type": "carpet"
           }
          ],
          "choropleth": [
           {
            "colorbar": {
             "outlinewidth": 0,
             "ticks": ""
            },
            "type": "choropleth"
           }
          ],
          "contour": [
           {
            "colorbar": {
             "outlinewidth": 0,
             "ticks": ""
            },
            "colorscale": [
             [
              0,
              "#0d0887"
             ],
             [
              0.1111111111111111,
              "#46039f"
             ],
             [
              0.2222222222222222,
              "#7201a8"
             ],
             [
              0.3333333333333333,
              "#9c179e"
             ],
             [
              0.4444444444444444,
              "#bd3786"
             ],
             [
              0.5555555555555556,
              "#d8576b"
             ],
             [
              0.6666666666666666,
              "#ed7953"
             ],
             [
              0.7777777777777778,
              "#fb9f3a"
             ],
             [
              0.8888888888888888,
              "#fdca26"
             ],
             [
              1,
              "#f0f921"
             ]
            ],
            "type": "contour"
           }
          ],
          "contourcarpet": [
           {
            "colorbar": {
             "outlinewidth": 0,
             "ticks": ""
            },
            "type": "contourcarpet"
           }
          ],
          "heatmap": [
           {
            "colorbar": {
             "outlinewidth": 0,
             "ticks": ""
            },
            "colorscale": [
             [
              0,
              "#0d0887"
             ],
             [
              0.1111111111111111,
              "#46039f"
             ],
             [
              0.2222222222222222,
              "#7201a8"
             ],
             [
              0.3333333333333333,
              "#9c179e"
             ],
             [
              0.4444444444444444,
              "#bd3786"
             ],
             [
              0.5555555555555556,
              "#d8576b"
             ],
             [
              0.6666666666666666,
              "#ed7953"
             ],
             [
              0.7777777777777778,
              "#fb9f3a"
             ],
             [
              0.8888888888888888,
              "#fdca26"
             ],
             [
              1,
              "#f0f921"
             ]
            ],
            "type": "heatmap"
           }
          ],
          "heatmapgl": [
           {
            "colorbar": {
             "outlinewidth": 0,
             "ticks": ""
            },
            "colorscale": [
             [
              0,
              "#0d0887"
             ],
             [
              0.1111111111111111,
              "#46039f"
             ],
             [
              0.2222222222222222,
              "#7201a8"
             ],
             [
              0.3333333333333333,
              "#9c179e"
             ],
             [
              0.4444444444444444,
              "#bd3786"
             ],
             [
              0.5555555555555556,
              "#d8576b"
             ],
             [
              0.6666666666666666,
              "#ed7953"
             ],
             [
              0.7777777777777778,
              "#fb9f3a"
             ],
             [
              0.8888888888888888,
              "#fdca26"
             ],
             [
              1,
              "#f0f921"
             ]
            ],
            "type": "heatmapgl"
           }
          ],
          "histogram": [
           {
            "marker": {
             "pattern": {
              "fillmode": "overlay",
              "size": 10,
              "solidity": 0.2
             }
            },
            "type": "histogram"
           }
          ],
          "histogram2d": [
           {
            "colorbar": {
             "outlinewidth": 0,
             "ticks": ""
            },
            "colorscale": [
             [
              0,
              "#0d0887"
             ],
             [
              0.1111111111111111,
              "#46039f"
             ],
             [
              0.2222222222222222,
              "#7201a8"
             ],
             [
              0.3333333333333333,
              "#9c179e"
             ],
             [
              0.4444444444444444,
              "#bd3786"
             ],
             [
              0.5555555555555556,
              "#d8576b"
             ],
             [
              0.6666666666666666,
              "#ed7953"
             ],
             [
              0.7777777777777778,
              "#fb9f3a"
             ],
             [
              0.8888888888888888,
              "#fdca26"
             ],
             [
              1,
              "#f0f921"
             ]
            ],
            "type": "histogram2d"
           }
          ],
          "histogram2dcontour": [
           {
            "colorbar": {
             "outlinewidth": 0,
             "ticks": ""
            },
            "colorscale": [
             [
              0,
              "#0d0887"
             ],
             [
              0.1111111111111111,
              "#46039f"
             ],
             [
              0.2222222222222222,
              "#7201a8"
             ],
             [
              0.3333333333333333,
              "#9c179e"
             ],
             [
              0.4444444444444444,
              "#bd3786"
             ],
             [
              0.5555555555555556,
              "#d8576b"
             ],
             [
              0.6666666666666666,
              "#ed7953"
             ],
             [
              0.7777777777777778,
              "#fb9f3a"
             ],
             [
              0.8888888888888888,
              "#fdca26"
             ],
             [
              1,
              "#f0f921"
             ]
            ],
            "type": "histogram2dcontour"
           }
          ],
          "mesh3d": [
           {
            "colorbar": {
             "outlinewidth": 0,
             "ticks": ""
            },
            "type": "mesh3d"
           }
          ],
          "parcoords": [
           {
            "line": {
             "colorbar": {
              "outlinewidth": 0,
              "ticks": ""
             }
            },
            "type": "parcoords"
           }
          ],
          "pie": [
           {
            "automargin": true,
            "type": "pie"
           }
          ],
          "scatter": [
           {
            "fillpattern": {
             "fillmode": "overlay",
             "size": 10,
             "solidity": 0.2
            },
            "type": "scatter"
           }
          ],
          "scatter3d": [
           {
            "line": {
             "colorbar": {
              "outlinewidth": 0,
              "ticks": ""
             }
            },
            "marker": {
             "colorbar": {
              "outlinewidth": 0,
              "ticks": ""
             }
            },
            "type": "scatter3d"
           }
          ],
          "scattercarpet": [
           {
            "marker": {
             "colorbar": {
              "outlinewidth": 0,
              "ticks": ""
             }
            },
            "type": "scattercarpet"
           }
          ],
          "scattergeo": [
           {
            "marker": {
             "colorbar": {
              "outlinewidth": 0,
              "ticks": ""
             }
            },
            "type": "scattergeo"
           }
          ],
          "scattergl": [
           {
            "marker": {
             "colorbar": {
              "outlinewidth": 0,
              "ticks": ""
             }
            },
            "type": "scattergl"
           }
          ],
          "scattermapbox": [
           {
            "marker": {
             "colorbar": {
              "outlinewidth": 0,
              "ticks": ""
             }
            },
            "type": "scattermapbox"
           }
          ],
          "scatterpolar": [
           {
            "marker": {
             "colorbar": {
              "outlinewidth": 0,
              "ticks": ""
             }
            },
            "type": "scatterpolar"
           }
          ],
          "scatterpolargl": [
           {
            "marker": {
             "colorbar": {
              "outlinewidth": 0,
              "ticks": ""
             }
            },
            "type": "scatterpolargl"
           }
          ],
          "scatterternary": [
           {
            "marker": {
             "colorbar": {
              "outlinewidth": 0,
              "ticks": ""
             }
            },
            "type": "scatterternary"
           }
          ],
          "surface": [
           {
            "colorbar": {
             "outlinewidth": 0,
             "ticks": ""
            },
            "colorscale": [
             [
              0,
              "#0d0887"
             ],
             [
              0.1111111111111111,
              "#46039f"
             ],
             [
              0.2222222222222222,
              "#7201a8"
             ],
             [
              0.3333333333333333,
              "#9c179e"
             ],
             [
              0.4444444444444444,
              "#bd3786"
             ],
             [
              0.5555555555555556,
              "#d8576b"
             ],
             [
              0.6666666666666666,
              "#ed7953"
             ],
             [
              0.7777777777777778,
              "#fb9f3a"
             ],
             [
              0.8888888888888888,
              "#fdca26"
             ],
             [
              1,
              "#f0f921"
             ]
            ],
            "type": "surface"
           }
          ],
          "table": [
           {
            "cells": {
             "fill": {
              "color": "#EBF0F8"
             },
             "line": {
              "color": "white"
             }
            },
            "header": {
             "fill": {
              "color": "#C8D4E3"
             },
             "line": {
              "color": "white"
             }
            },
            "type": "table"
           }
          ]
         },
         "layout": {
          "annotationdefaults": {
           "arrowcolor": "#2a3f5f",
           "arrowhead": 0,
           "arrowwidth": 1
          },
          "autotypenumbers": "strict",
          "coloraxis": {
           "colorbar": {
            "outlinewidth": 0,
            "ticks": ""
           }
          },
          "colorscale": {
           "diverging": [
            [
             0,
             "#8e0152"
            ],
            [
             0.1,
             "#c51b7d"
            ],
            [
             0.2,
             "#de77ae"
            ],
            [
             0.3,
             "#f1b6da"
            ],
            [
             0.4,
             "#fde0ef"
            ],
            [
             0.5,
             "#f7f7f7"
            ],
            [
             0.6,
             "#e6f5d0"
            ],
            [
             0.7,
             "#b8e186"
            ],
            [
             0.8,
             "#7fbc41"
            ],
            [
             0.9,
             "#4d9221"
            ],
            [
             1,
             "#276419"
            ]
           ],
           "sequential": [
            [
             0,
             "#0d0887"
            ],
            [
             0.1111111111111111,
             "#46039f"
            ],
            [
             0.2222222222222222,
             "#7201a8"
            ],
            [
             0.3333333333333333,
             "#9c179e"
            ],
            [
             0.4444444444444444,
             "#bd3786"
            ],
            [
             0.5555555555555556,
             "#d8576b"
            ],
            [
             0.6666666666666666,
             "#ed7953"
            ],
            [
             0.7777777777777778,
             "#fb9f3a"
            ],
            [
             0.8888888888888888,
             "#fdca26"
            ],
            [
             1,
             "#f0f921"
            ]
           ],
           "sequentialminus": [
            [
             0,
             "#0d0887"
            ],
            [
             0.1111111111111111,
             "#46039f"
            ],
            [
             0.2222222222222222,
             "#7201a8"
            ],
            [
             0.3333333333333333,
             "#9c179e"
            ],
            [
             0.4444444444444444,
             "#bd3786"
            ],
            [
             0.5555555555555556,
             "#d8576b"
            ],
            [
             0.6666666666666666,
             "#ed7953"
            ],
            [
             0.7777777777777778,
             "#fb9f3a"
            ],
            [
             0.8888888888888888,
             "#fdca26"
            ],
            [
             1,
             "#f0f921"
            ]
           ]
          },
          "colorway": [
           "#636efa",
           "#EF553B",
           "#00cc96",
           "#ab63fa",
           "#FFA15A",
           "#19d3f3",
           "#FF6692",
           "#B6E880",
           "#FF97FF",
           "#FECB52"
          ],
          "font": {
           "color": "#2a3f5f"
          },
          "geo": {
           "bgcolor": "white",
           "lakecolor": "white",
           "landcolor": "white",
           "showlakes": true,
           "showland": true,
           "subunitcolor": "#C8D4E3"
          },
          "hoverlabel": {
           "align": "left"
          },
          "hovermode": "closest",
          "mapbox": {
           "style": "light"
          },
          "paper_bgcolor": "white",
          "plot_bgcolor": "white",
          "polar": {
           "angularaxis": {
            "gridcolor": "#EBF0F8",
            "linecolor": "#EBF0F8",
            "ticks": ""
           },
           "bgcolor": "white",
           "radialaxis": {
            "gridcolor": "#EBF0F8",
            "linecolor": "#EBF0F8",
            "ticks": ""
           }
          },
          "scene": {
           "xaxis": {
            "backgroundcolor": "white",
            "gridcolor": "#DFE8F3",
            "gridwidth": 2,
            "linecolor": "#EBF0F8",
            "showbackground": true,
            "ticks": "",
            "zerolinecolor": "#EBF0F8"
           },
           "yaxis": {
            "backgroundcolor": "white",
            "gridcolor": "#DFE8F3",
            "gridwidth": 2,
            "linecolor": "#EBF0F8",
            "showbackground": true,
            "ticks": "",
            "zerolinecolor": "#EBF0F8"
           },
           "zaxis": {
            "backgroundcolor": "white",
            "gridcolor": "#DFE8F3",
            "gridwidth": 2,
            "linecolor": "#EBF0F8",
            "showbackground": true,
            "ticks": "",
            "zerolinecolor": "#EBF0F8"
           }
          },
          "shapedefaults": {
           "line": {
            "color": "#2a3f5f"
           }
          },
          "ternary": {
           "aaxis": {
            "gridcolor": "#DFE8F3",
            "linecolor": "#A2B1C6",
            "ticks": ""
           },
           "baxis": {
            "gridcolor": "#DFE8F3",
            "linecolor": "#A2B1C6",
            "ticks": ""
           },
           "bgcolor": "white",
           "caxis": {
            "gridcolor": "#DFE8F3",
            "linecolor": "#A2B1C6",
            "ticks": ""
           }
          },
          "title": {
           "x": 0.05
          },
          "xaxis": {
           "automargin": true,
           "gridcolor": "#EBF0F8",
           "linecolor": "#EBF0F8",
           "ticks": "",
           "title": {
            "standoff": 15
           },
           "zerolinecolor": "#EBF0F8",
           "zerolinewidth": 2
          },
          "yaxis": {
           "automargin": true,
           "gridcolor": "#EBF0F8",
           "linecolor": "#EBF0F8",
           "ticks": "",
           "title": {
            "standoff": 15
           },
           "zerolinecolor": "#EBF0F8",
           "zerolinewidth": 2
          }
         }
        },
        "title": {
         "text": "Predicted Typical Movement Paths"
        },
        "xaxis": {
         "anchor": "y",
         "autorange": true,
         "domain": [
          0,
          1
         ],
         "range": [
          -0.5,
          5.5
         ],
         "title": {
          "text": "Typical Path"
         },
         "type": "category"
        },
        "yaxis": {
         "anchor": "x",
         "autorange": true,
         "domain": [
          0,
          1
         ],
         "range": [
          0,
          1.0526315789473684
         ],
         "title": {
          "text": "Probability"
         },
         "type": "linear"
        }
       }
      },
      "image/png": "[encoded data removed]",
      "text/html": [
       "<div>                            <div id=\"f984a339-c213-46b8-a1be-784306ca139d\" class=\"plotly-graph-div\" style=\"height:525px; width:100%;\"></div>            <script type=\"text/javascript\">                require([\"plotly\"], function(Plotly) {                    window.PLOTLYENV=window.PLOTLYENV || {};                                    if (document.getElementById(\"f984a339-c213-46b8-a1be-784306ca139d\")) {                    Plotly.newPlot(                        \"f984a339-c213-46b8-a1be-784306ca139d\",                        [{\"alignmentgroup\":\"True\",\"hovertemplate\":\"color=a\\u003cbr\\u003eTypical Path=%{x}\\u003cbr\\u003eProbability=%{y}\\u003cextra\\u003e\\u003c\\u002fextra\\u003e\",\"legendgroup\":\"a\",\"marker\":{\"color\":\"#636efa\",\"pattern\":{\"shape\":\"\"}},\"name\":\"a\",\"offsetgroup\":\"a\",\"orientation\":\"v\",\"showlegend\":true,\"textposition\":\"auto\",\"x\":[\"a\"],\"xaxis\":\"x\",\"y\":[1],\"yaxis\":\"y\",\"type\":\"bar\"},{\"alignmentgroup\":\"True\",\"hovertemplate\":\"color=o\\u003cbr\\u003eTypical Path=%{x}\\u003cbr\\u003eProbability=%{y}\\u003cextra\\u003e\\u003c\\u002fextra\\u003e\",\"legendgroup\":\"o\",\"marker\":{\"color\":\"#EF553B\",\"pattern\":{\"shape\":\"\"}},\"name\":\"o\",\"offsetgroup\":\"o\",\"orientation\":\"v\",\"showlegend\":true,\"textposition\":\"auto\",\"x\":[\"o\"],\"xaxis\":\"x\",\"y\":[1],\"yaxis\":\"y\",\"type\":\"bar\"},{\"alignmentgroup\":\"True\",\"hovertemplate\":\"color=aa\\u003cbr\\u003eTypical Path=%{x}\\u003cbr\\u003eProbability=%{y}\\u003cextra\\u003e\\u003c\\u002fextra\\u003e\",\"legendgroup\":\"aa\",\"marker\":{\"color\":\"#00cc96\",\"pattern\":{\"shape\":\"\"}},\"name\":\"aa\",\"offsetgroup\":\"aa\",\"orientation\":\"v\",\"showlegend\":true,\"textposition\":\"auto\",\"x\":[\"aa\"],\"xaxis\":\"x\",\"y\":[1],\"yaxis\":\"y\",\"type\":\"bar\"},{\"alignmentgroup\":\"True\",\"hovertemplate\":\"color=aj\\u003cbr\\u003eTypical Path=%{x}\\u003cbr\\u003eProbability=%{y}\\u003cextra\\u003e\\u003c\\u002fextra\\u003e\",\"legendgroup\":\"aj\",\"marker\":{\"color\":\"#ab63fa\",\"pattern\":{\"shape\":\"\"}},\"name\":\"aj\",\"offsetgroup\":\"aj\",\"orientation\":\"v\",\"showlegend\":true,\"textposition\":\"auto\",\"x\":[\"aj\"],\"xaxis\":\"x\",\"y\":[1],\"yaxis\":\"y\",\"type\":\"bar\"},{\"alignmentgroup\":\"True\",\"hovertemplate\":\"color=kk\\u003cbr\\u003eTypical Path=%{x}\\u003cbr\\u003eProbability=%{y}\\u003cextra\\u003e\\u003c\\u002fextra\\u003e\",\"legendgroup\":\"kk\",\"marker\":{\"color\":\"#FFA15A\",\"pattern\":{\"shape\":\"\"}},\"name\":\"kk\",\"offsetgroup\":\"kk\",\"orientation\":\"v\",\"showlegend\":true,\"textposition\":\"auto\",\"x\":[\"kk\"],\"xaxis\":\"x\",\"y\":[1],\"yaxis\":\"y\",\"type\":\"bar\"},{\"alignmentgroup\":\"True\",\"hovertemplate\":\"color=oo\\u003cbr\\u003eTypical Path=%{x}\\u003cbr\\u003eProbability=%{y}\\u003cextra\\u003e\\u003c\\u002fextra\\u003e\",\"legendgroup\":\"oo\",\"marker\":{\"color\":\"#19d3f3\",\"pattern\":{\"shape\":\"\"}},\"name\":\"oo\",\"offsetgroup\":\"oo\",\"orientation\":\"v\",\"showlegend\":true,\"textposition\":\"auto\",\"x\":[\"oo\"],\"xaxis\":\"x\",\"y\":[1],\"yaxis\":\"y\",\"type\":\"bar\"}],                        {\"template\":{\"data\":{\"barpolar\":[{\"marker\":{\"line\":{\"color\":\"white\",\"width\":0.5},\"pattern\":{\"fillmode\":\"overlay\",\"size\":10,\"solidity\":0.2}},\"type\":\"barpolar\"}],\"bar\":[{\"error_x\":{\"color\":\"#2a3f5f\"},\"error_y\":{\"color\":\"#2a3f5f\"},\"marker\":{\"line\":{\"color\":\"white\",\"width\":0.5},\"pattern\":{\"fillmode\":\"overlay\",\"size\":10,\"solidity\":0.2}},\"type\":\"bar\"}],\"carpet\":[{\"aaxis\":{\"endlinecolor\":\"#2a3f5f\",\"gridcolor\":\"#C8D4E3\",\"linecolor\":\"#C8D4E3\",\"minorgridcolor\":\"#C8D4E3\",\"startlinecolor\":\"#2a3f5f\"},\"baxis\":{\"endlinecolor\":\"#2a3f5f\",\"gridcolor\":\"#C8D4E3\",\"linecolor\":\"#C8D4E3\",\"minorgridcolor\":\"#C8D4E3\",\"startlinecolor\":\"#2a3f5f\"},\"type\":\"carpet\"}],\"choropleth\":[{\"colorbar\":{\"outlinewidth\":0,\"ticks\":\"\"},\"type\":\"choropleth\"}],\"contourcarpet\":[{\"colorbar\":{\"outlinewidth\":0,\"ticks\":\"\"},\"type\":\"contourcarpet\"}],\"contour\":[{\"colorbar\":{\"outlinewidth\":0,\"ticks\":\"\"},\"colorscale\":[[0.0,\"#0d0887\"],[0.1111111111111111,\"#46039f\"],[0.2222222222222222,\"#7201a8\"],[0.3333333333333333,\"#9c179e\"],[0.4444444444444444,\"#bd3786\"],[0.5555555555555556,\"#d8576b\"],[0.6666666666666666,\"#ed7953\"],[0.7777777777777778,\"#fb9f3a\"],[0.8888888888888888,\"#fdca26\"],[1.0,\"#f0f921\"]],\"type\":\"contour\"}],\"heatmapgl\":[{\"colorbar\":{\"outlinewidth\":0,\"ticks\":\"\"},\"colorscale\":[[0.0,\"#0d0887\"],[0.1111111111111111,\"#46039f\"],[0.2222222222222222,\"#7201a8\"],[0.3333333333333333,\"#9c179e\"],[0.4444444444444444,\"#bd3786\"],[0.5555555555555556,\"#d8576b\"],[0.6666666666666666,\"#ed7953\"],[0.7777777777777778,\"#fb9f3a\"],[0.8888888888888888,\"#fdca26\"],[1.0,\"#f0f921\"]],\"type\":\"heatmapgl\"}],\"heatmap\":[{\"colorbar\":{\"outlinewidth\":0,\"ticks\":\"\"},\"colorscale\":[[0.0,\"#0d0887\"],[0.1111111111111111,\"#46039f\"],[0.2222222222222222,\"#7201a8\"],[0.3333333333333333,\"#9c179e\"],[0.4444444444444444,\"#bd3786\"],[0.5555555555555556,\"#d8576b\"],[0.6666666666666666,\"#ed7953\"],[0.7777777777777778,\"#fb9f3a\"],[0.8888888888888888,\"#fdca26\"],[1.0,\"#f0f921\"]],\"type\":\"heatmap\"}],\"histogram2dcontour\":[{\"colorbar\":{\"outlinewidth\":0,\"ticks\":\"\"},\"colorscale\":[[0.0,\"#0d0887\"],[0.1111111111111111,\"#46039f\"],[0.2222222222222222,\"#7201a8\"],[0.3333333333333333,\"#9c179e\"],[0.4444444444444444,\"#bd3786\"],[0.5555555555555556,\"#d8576b\"],[0.6666666666666666,\"#ed7953\"],[0.7777777777777778,\"#fb9f3a\"],[0.8888888888888888,\"#fdca26\"],[1.0,\"#f0f921\"]],\"type\":\"histogram2dcontour\"}],\"histogram2d\":[{\"colorbar\":{\"outlinewidth\":0,\"ticks\":\"\"},\"colorscale\":[[0.0,\"#0d0887\"],[0.1111111111111111,\"#46039f\"],[0.2222222222222222,\"#7201a8\"],[0.3333333333333333,\"#9c179e\"],[0.4444444444444444,\"#bd3786\"],[0.5555555555555556,\"#d8576b\"],[0.6666666666666666,\"#ed7953\"],[0.7777777777777778,\"#fb9f3a\"],[0.8888888888888888,\"#fdca26\"],[1.0,\"#f0f921\"]],\"type\":\"histogram2d\"}],\"histogram\":[{\"marker\":{\"pattern\":{\"fillmode\":\"overlay\",\"size\":10,\"solidity\":0.2}},\"type\":\"histogram\"}],\"mesh3d\":[{\"colorbar\":{\"outlinewidth\":0,\"ticks\":\"\"},\"type\":\"mesh3d\"}],\"parcoords\":[{\"line\":{\"colorbar\":{\"outlinewidth\":0,\"ticks\":\"\"}},\"type\":\"parcoords\"}],\"pie\":[{\"automargin\":true,\"type\":\"pie\"}],\"scatter3d\":[{\"line\":{\"colorbar\":{\"outlinewidth\":0,\"ticks\":\"\"}},\"marker\":{\"colorbar\":{\"outlinewidth\":0,\"ticks\":\"\"}},\"type\":\"scatter3d\"}],\"scattercarpet\":[{\"marker\":{\"colorbar\":{\"outlinewidth\":0,\"ticks\":\"\"}},\"type\":\"scattercarpet\"}],\"scattergeo\":[{\"marker\":{\"colorbar\":{\"outlinewidth\":0,\"ticks\":\"\"}},\"type\":\"scattergeo\"}],\"scattergl\":[{\"marker\":{\"colorbar\":{\"outlinewidth\":0,\"ticks\":\"\"}},\"type\":\"scattergl\"}],\"scattermapbox\":[{\"marker\":{\"colorbar\":{\"outlinewidth\":0,\"ticks\":\"\"}},\"type\":\"scattermapbox\"}],\"scatterpolargl\":[{\"marker\":{\"colorbar\":{\"outlinewidth\":0,\"ticks\":\"\"}},\"type\":\"scatterpolargl\"}],\"scatterpolar\":[{\"marker\":{\"colorbar\":{\"outlinewidth\":0,\"ticks\":\"\"}},\"type\":\"scatterpolar\"}],\"scatter\":[{\"fillpattern\":{\"fillmode\":\"overlay\",\"size\":10,\"solidity\":0.2},\"type\":\"scatter\"}],\"scatterternary\":[{\"marker\":{\"colorbar\":{\"outlinewidth\":0,\"ticks\":\"\"}},\"type\":\"scatterternary\"}],\"surface\":[{\"colorbar\":{\"outlinewidth\":0,\"ticks\":\"\"},\"colorscale\":[[0.0,\"#0d0887\"],[0.1111111111111111,\"#46039f\"],[0.2222222222222222,\"#7201a8\"],[0.3333333333333333,\"#9c179e\"],[0.4444444444444444,\"#bd3786\"],[0.5555555555555556,\"#d8576b\"],[0.6666666666666666,\"#ed7953\"],[0.7777777777777778,\"#fb9f3a\"],[0.8888888888888888,\"#fdca26\"],[1.0,\"#f0f921\"]],\"type\":\"surface\"}],\"table\":[{\"cells\":{\"fill\":{\"color\":\"#EBF0F8\"},\"line\":{\"color\":\"white\"}},\"header\":{\"fill\":{\"color\":\"#C8D4E3\"},\"line\":{\"color\":\"white\"}},\"type\":\"table\"}]},\"layout\":{\"annotationdefaults\":{\"arrowcolor\":\"#2a3f5f\",\"arrowhead\":0,\"arrowwidth\":1},\"autotypenumbers\":\"strict\",\"coloraxis\":{\"colorbar\":{\"outlinewidth\":0,\"ticks\":\"\"}},\"colorscale\":{\"diverging\":[[0,\"#8e0152\"],[0.1,\"#c51b7d\"],[0.2,\"#de77ae\"],[0.3,\"#f1b6da\"],[0.4,\"#fde0ef\"],[0.5,\"#f7f7f7\"],[0.6,\"#e6f5d0\"],[0.7,\"#b8e186\"],[0.8,\"#7fbc41\"],[0.9,\"#4d9221\"],[1,\"#276419\"]],\"sequential\":[[0.0,\"#0d0887\"],[0.1111111111111111,\"#46039f\"],[0.2222222222222222,\"#7201a8\"],[0.3333333333333333,\"#9c179e\"],[0.4444444444444444,\"#bd3786\"],[0.5555555555555556,\"#d8576b\"],[0.6666666666666666,\"#ed7953\"],[0.7777777777777778,\"#fb9f3a\"],[0.8888888888888888,\"#fdca26\"],[1.0,\"#f0f921\"]],\"sequentialminus\":[[0.0,\"#0d0887\"],[0.1111111111111111,\"#46039f\"],[0.2222222222222222,\"#7201a8\"],[0.3333333333333333,\"#9c179e\"],[0.4444444444444444,\"#bd3786\"],[0.5555555555555556,\"#d8576b\"],[0.6666666666666666,\"#ed7953\"],[0.7777777777777778,\"#fb9f3a\"],[0.8888888888888888,\"#fdca26\"],[1.0,\"#f0f921\"]]},\"colorway\":[\"#636efa\",\"#EF553B\",\"#00cc96\",\"#ab63fa\",\"#FFA15A\",\"#19d3f3\",\"#FF6692\",\"#B6E880\",\"#FF97FF\",\"#FECB52\"],\"font\":{\"color\":\"#2a3f5f\"},\"geo\":{\"bgcolor\":\"white\",\"lakecolor\":\"white\",\"landcolor\":\"white\",\"showlakes\":true,\"showland\":true,\"subunitcolor\":\"#C8D4E3\"},\"hoverlabel\":{\"align\":\"left\"},\"hovermode\":\"closest\",\"mapbox\":{\"style\":\"light\"},\"paper_bgcolor\":\"white\",\"plot_bgcolor\":\"white\",\"polar\":{\"angularaxis\":{\"gridcolor\":\"#EBF0F8\",\"linecolor\":\"#EBF0F8\",\"ticks\":\"\"},\"bgcolor\":\"white\",\"radialaxis\":{\"gridcolor\":\"#EBF0F8\",\"linecolor\":\"#EBF0F8\",\"ticks\":\"\"}},\"scene\":{\"xaxis\":{\"backgroundcolor\":\"white\",\"gridcolor\":\"#DFE8F3\",\"gridwidth\":2,\"linecolor\":\"#EBF0F8\",\"showbackground\":true,\"ticks\":\"\",\"zerolinecolor\":\"#EBF0F8\"},\"yaxis\":{\"backgroundcolor\":\"white\",\"gridcolor\":\"#DFE8F3\",\"gridwidth\":2,\"linecolor\":\"#EBF0F8\",\"showbackground\":true,\"ticks\":\"\",\"zerolinecolor\":\"#EBF0F8\"},\"zaxis\":{\"backgroundcolor\":\"white\",\"gridcolor\":\"#DFE8F3\",\"gridwidth\":2,\"linecolor\":\"#EBF0F8\",\"showbackground\":true,\"ticks\":\"\",\"zerolinecolor\":\"#EBF0F8\"}},\"shapedefaults\":{\"line\":{\"color\":\"#2a3f5f\"}},\"ternary\":{\"aaxis\":{\"gridcolor\":\"#DFE8F3\",\"linecolor\":\"#A2B1C6\",\"ticks\":\"\"},\"baxis\":{\"gridcolor\":\"#DFE8F3\",\"linecolor\":\"#A2B1C6\",\"ticks\":\"\"},\"bgcolor\":\"white\",\"caxis\":{\"gridcolor\":\"#DFE8F3\",\"linecolor\":\"#A2B1C6\",\"ticks\":\"\"}},\"title\":{\"x\":0.05},\"xaxis\":{\"automargin\":true,\"gridcolor\":\"#EBF0F8\",\"linecolor\":\"#EBF0F8\",\"ticks\":\"\",\"title\":{\"standoff\":15},\"zerolinecolor\":\"#EBF0F8\",\"zerolinewidth\":2},\"yaxis\":{\"automargin\":true,\"gridcolor\":\"#EBF0F8\",\"linecolor\":\"#EBF0F8\",\"ticks\":\"\",\"title\":{\"standoff\":15},\"zerolinecolor\":\"#EBF0F8\",\"zerolinewidth\":2}}},\"xaxis\":{\"anchor\":\"y\",\"domain\":[0.0,1.0],\"title\":{\"text\":\"Typical Path\"}},\"yaxis\":{\"anchor\":\"x\",\"domain\":[0.0,1.0],\"title\":{\"text\":\"Probability\"}},\"legend\":{\"title\":{\"text\":\"color\"},\"tracegroupgap\":0},\"title\":{\"text\":\"Predicted Typical Movement Paths\"},\"barmode\":\"relative\"},                        {\"responsive\": true}                    ).then(function(){\n",
       "                            \n",
       "var gd = document.getElementById('f984a339-c213-46b8-a1be-784306ca139d');\n",
       "var x = new MutationObserver(function (mutations, observer) {{\n",
       "        var display = window.getComputedStyle(gd).display;\n",
       "        if (!display || display === 'none') {{\n",
       "            console.log([gd, 'removed!']);\n",
       "            Plotly.purge(gd);\n",
       "            observer.disconnect();\n",
       "        }}\n",
       "}});\n",
       "\n",
       "// Listen for the removal of the full notebook cells\n",
       "var notebookContainer = gd.closest('#notebook-container');\n",
       "if (notebookContainer) {{\n",
       "    x.observe(notebookContainer, {childList: true});\n",
       "}}\n",
       "\n",
       "// Listen for the clearing of the current output cell\n",
       "var outputEl = gd.closest('.output');\n",
       "if (outputEl) {{\n",
       "    x.observe(outputEl, {childList: true});\n",
       "}}\n",
       "\n",
       "                        })                };                });            </script>        </div>"
      ]
     },
     "metadata": {},
     "output_type": "display_data"
    },
    {
     "data": {
      "application/vnd.plotly.v1+json": {
       "config": {
        "plotlyServerURL": "https://plot.ly"
       },
       "data": [
        {
         "hole": 0.4,
         "labels": [
          "Energy Saved (kWh)",
          "Energy Consumed (kWh)",
          "Comfort Score (/10)"
         ],
         "marker": {
          "colors": [
           "gold",
           "lightblue",
           "lightcoral"
          ]
         },
         "type": "pie",
         "values": [
          2.7,
          1.2,
          1.89
         ]
        }
       ],
       "layout": {
        "autosize": true,
        "template": {
         "data": {
          "bar": [
           {
            "error_x": {
             "color": "#2a3f5f"
            },
            "error_y": {
             "color": "#2a3f5f"
            },
            "marker": {
             "line": {
              "color": "white",
              "width": 0.5
             },
             "pattern": {
              "fillmode": "overlay",
              "size": 10,
              "solidity": 0.2
             }
            },
            "type": "bar"
           }
          ],
          "barpolar": [
           {
            "marker": {
             "line": {
              "color": "white",
              "width": 0.5
             },
             "pattern": {
              "fillmode": "overlay",
              "size": 10,
              "solidity": 0.2
             }
            },
            "type": "barpolar"
           }
          ],
          "carpet": [
           {
            "aaxis": {
             "endlinecolor": "#2a3f5f",
             "gridcolor": "#C8D4E3",
             "linecolor": "#C8D4E3",
             "minorgridcolor": "#C8D4E3",
             "startlinecolor": "#2a3f5f"
            },
            "baxis": {
             "endlinecolor": "#2a3f5f",
             "gridcolor": "#C8D4E3",
             "linecolor": "#C8D4E3",
             "minorgridcolor": "#C8D4E3",
             "startlinecolor": "#2a3f5f"
            },
            "type": "carpet"
           }
          ],
          "choropleth": [
           {
            "colorbar": {
             "outlinewidth": 0,
             "ticks": ""
            },
            "type": "choropleth"
           }
          ],
          "contour": [
           {
            "colorbar": {
             "outlinewidth": 0,
             "ticks": ""
            },
            "colorscale": [
             [
              0,
              "#0d0887"
             ],
             [
              0.1111111111111111,
              "#46039f"
             ],
             [
              0.2222222222222222,
              "#7201a8"
             ],
             [
              0.3333333333333333,
              "#9c179e"
             ],
             [
              0.4444444444444444,
              "#bd3786"
             ],
             [
              0.5555555555555556,
              "#d8576b"
             ],
             [
              0.6666666666666666,
              "#ed7953"
             ],
             [
              0.7777777777777778,
              "#fb9f3a"
             ],
             [
              0.8888888888888888,
              "#fdca26"
             ],
             [
              1,
              "#f0f921"
             ]
            ],
            "type": "contour"
           }
          ],
          "contourcarpet": [
           {
            "colorbar": {
             "outlinewidth": 0,
             "ticks": ""
            },
            "type": "contourcarpet"
           }
          ],
          "heatmap": [
           {
            "colorbar": {
             "outlinewidth": 0,
             "ticks": ""
            },
            "colorscale": [
             [
              0,
              "#0d0887"
             ],
             [
              0.1111111111111111,
              "#46039f"
             ],
             [
              0.2222222222222222,
              "#7201a8"
             ],
             [
              0.3333333333333333,
              "#9c179e"
             ],
             [
              0.4444444444444444,
              "#bd3786"
             ],
             [
              0.5555555555555556,
              "#d8576b"
             ],
             [
              0.6666666666666666,
              "#ed7953"
             ],
             [
              0.7777777777777778,
              "#fb9f3a"
             ],
             [
              0.8888888888888888,
              "#fdca26"
             ],
             [
              1,
              "#f0f921"
             ]
            ],
            "type": "heatmap"
           }
          ],
          "heatmapgl": [
           {
            "colorbar": {
             "outlinewidth": 0,
             "ticks": ""
            },
            "colorscale": [
             [
              0,
              "#0d0887"
             ],
             [
              0.1111111111111111,
              "#46039f"
             ],
             [
              0.2222222222222222,
              "#7201a8"
             ],
             [
              0.3333333333333333,
              "#9c179e"
             ],
             [
              0.4444444444444444,
              "#bd3786"
             ],
             [
              0.5555555555555556,
              "#d8576b"
             ],
             [
              0.6666666666666666,
              "#ed7953"
             ],
             [
              0.7777777777777778,
              "#fb9f3a"
             ],
             [
              0.8888888888888888,
              "#fdca26"
             ],
             [
              1,
              "#f0f921"
             ]
            ],
            "type": "heatmapgl"
           }
          ],
          "histogram": [
           {
            "marker": {
             "pattern": {
              "fillmode": "overlay",
              "size": 10,
              "solidity": 0.2
             }
            },
            "type": "histogram"
           }
          ],
          "histogram2d": [
           {
            "colorbar": {
             "outlinewidth": 0,
             "ticks": ""
            },
            "colorscale": [
             [
              0,
              "#0d0887"
             ],
             [
              0.1111111111111111,
              "#46039f"
             ],
             [
              0.2222222222222222,
              "#7201a8"
             ],
             [
              0.3333333333333333,
              "#9c179e"
             ],
             [
              0.4444444444444444,
              "#bd3786"
             ],
             [
              0.5555555555555556,
              "#d8576b"
             ],
             [
              0.6666666666666666,
              "#ed7953"
             ],
             [
              0.7777777777777778,
              "#fb9f3a"
             ],
             [
              0.8888888888888888,
              "#fdca26"
             ],
             [
              1,
              "#f0f921"
             ]
            ],
            "type": "histogram2d"
           }
          ],
          "histogram2dcontour": [
           {
            "colorbar": {
             "outlinewidth": 0,
             "ticks": ""
            },
            "colorscale": [
             [
              0,
              "#0d0887"
             ],
             [
              0.1111111111111111,
              "#46039f"
             ],
             [
              0.2222222222222222,
              "#7201a8"
             ],
             [
              0.3333333333333333,
              "#9c179e"
             ],
             [
              0.4444444444444444,
              "#bd3786"
             ],
             [
              0.5555555555555556,
              "#d8576b"
             ],
             [
              0.6666666666666666,
              "#ed7953"
             ],
             [
              0.7777777777777778,
              "#fb9f3a"
             ],
             [
              0.8888888888888888,
              "#fdca26"
             ],
             [
              1,
              "#f0f921"
             ]
            ],
            "type": "histogram2dcontour"
           }
          ],
          "mesh3d": [
           {
            "colorbar": {
             "outlinewidth": 0,
             "ticks": ""
            },
            "type": "mesh3d"
           }
          ],
          "parcoords": [
           {
            "line": {
             "colorbar": {
              "outlinewidth": 0,
              "ticks": ""
             }
            },
            "type": "parcoords"
           }
          ],
          "pie": [
           {
            "automargin": true,
            "type": "pie"
           }
          ],
          "scatter": [
           {
            "fillpattern": {
             "fillmode": "overlay",
             "size": 10,
             "solidity": 0.2
            },
            "type": "scatter"
           }
          ],
          "scatter3d": [
           {
            "line": {
             "colorbar": {
              "outlinewidth": 0,
              "ticks": ""
             }
            },
            "marker": {
             "colorbar": {
              "outlinewidth": 0,
              "ticks": ""
             }
            },
            "type": "scatter3d"
           }
          ],
          "scattercarpet": [
           {
            "marker": {
             "colorbar": {
              "outlinewidth": 0,
              "ticks": ""
             }
            },
            "type": "scattercarpet"
           }
          ],
          "scattergeo": [
           {
            "marker": {
             "colorbar": {
              "outlinewidth": 0,
              "ticks": ""
             }
            },
            "type": "scattergeo"
           }
          ],
          "scattergl": [
           {
            "marker": {
             "colorbar": {
              "outlinewidth": 0,
              "ticks": ""
             }
            },
            "type": "scattergl"
           }
          ],
          "scattermapbox": [
           {
            "marker": {
             "colorbar": {
              "outlinewidth": 0,
              "ticks": ""
             }
            },
            "type": "scattermapbox"
           }
          ],
          "scatterpolar": [
           {
            "marker": {
             "colorbar": {
              "outlinewidth": 0,
              "ticks": ""
             }
            },
            "type": "scatterpolar"
           }
          ],
          "scatterpolargl": [
           {
            "marker": {
             "colorbar": {
              "outlinewidth": 0,
              "ticks": ""
             }
            },
            "type": "scatterpolargl"
           }
          ],
          "scatterternary": [
           {
            "marker": {
             "colorbar": {
              "outlinewidth": 0,
              "ticks": ""
             }
            },
            "type": "scatterternary"
           }
          ],
          "surface": [
           {
            "colorbar": {
             "outlinewidth": 0,
             "ticks": ""
            },
            "colorscale": [
             [
              0,
              "#0d0887"
             ],
             [
              0.1111111111111111,
              "#46039f"
             ],
             [
              0.2222222222222222,
              "#7201a8"
             ],
             [
              0.3333333333333333,
              "#9c179e"
             ],
             [
              0.4444444444444444,
              "#bd3786"
             ],
             [
              0.5555555555555556,
              "#d8576b"
             ],
             [
              0.6666666666666666,
              "#ed7953"
             ],
             [
              0.7777777777777778,
              "#fb9f3a"
             ],
             [
              0.8888888888888888,
              "#fdca26"
             ],
             [
              1,
              "#f0f921"
             ]
            ],
            "type": "surface"
           }
          ],
          "table": [
           {
            "cells": {
             "fill": {
              "color": "#EBF0F8"
             },
             "line": {
              "color": "white"
             }
            },
            "header": {
             "fill": {
              "color": "#C8D4E3"
             },
             "line": {
              "color": "white"
             }
            },
            "type": "table"
           }
          ]
         },
         "layout": {
          "annotationdefaults": {
           "arrowcolor": "#2a3f5f",
           "arrowhead": 0,
           "arrowwidth": 1
          },
          "autotypenumbers": "strict",
          "coloraxis": {
           "colorbar": {
            "outlinewidth": 0,
            "ticks": ""
           }
          },
          "colorscale": {
           "diverging": [
            [
             0,
             "#8e0152"
            ],
            [
             0.1,
             "#c51b7d"
            ],
            [
             0.2,
             "#de77ae"
            ],
            [
             0.3,
             "#f1b6da"
            ],
            [
             0.4,
             "#fde0ef"
            ],
            [
             0.5,
             "#f7f7f7"
            ],
            [
             0.6,
             "#e6f5d0"
            ],
            [
             0.7,
             "#b8e186"
            ],
            [
             0.8,
             "#7fbc41"
            ],
            [
             0.9,
             "#4d9221"
            ],
            [
             1,
             "#276419"
            ]
           ],
           "sequential": [
            [
             0,
             "#0d0887"
            ],
            [
             0.1111111111111111,
             "#46039f"
            ],
            [
             0.2222222222222222,
             "#7201a8"
            ],
            [
             0.3333333333333333,
             "#9c179e"
            ],
            [
             0.4444444444444444,
             "#bd3786"
            ],
            [
             0.5555555555555556,
             "#d8576b"
            ],
            [
             0.6666666666666666,
             "#ed7953"
            ],
            [
             0.7777777777777778,
             "#fb9f3a"
            ],
            [
             0.8888888888888888,
             "#fdca26"
            ],
            [
             1,
             "#f0f921"
            ]
           ],
           "sequentialminus": [
            [
             0,
             "#0d0887"
            ],
            [
             0.1111111111111111,
             "#46039f"
            ],
            [
             0.2222222222222222,
             "#7201a8"
            ],
            [
             0.3333333333333333,
             "#9c179e"
            ],
            [
             0.4444444444444444,
             "#bd3786"
            ],
            [
             0.5555555555555556,
             "#d8576b"
            ],
            [
             0.6666666666666666,
             "#ed7953"
            ],
            [
             0.7777777777777778,
             "#fb9f3a"
            ],
            [
             0.8888888888888888,
             "#fdca26"
            ],
            [
             1,
             "#f0f921"
            ]
           ]
          },
          "colorway": [
           "#636efa",
           "#EF553B",
           "#00cc96",
           "#ab63fa",
           "#FFA15A",
           "#19d3f3",
           "#FF6692",
           "#B6E880",
           "#FF97FF",
           "#FECB52"
          ],
          "font": {
           "color": "#2a3f5f"
          },
          "geo": {
           "bgcolor": "white",
           "lakecolor": "white",
           "landcolor": "white",
           "showlakes": true,
           "showland": true,
           "subunitcolor": "#C8D4E3"
          },
          "hoverlabel": {
           "align": "left"
          },
          "hovermode": "closest",
          "mapbox": {
           "style": "light"
          },
          "paper_bgcolor": "white",
          "plot_bgcolor": "white",
          "polar": {
           "angularaxis": {
            "gridcolor": "#EBF0F8",
            "linecolor": "#EBF0F8",
            "ticks": ""
           },
           "bgcolor": "white",
           "radialaxis": {
            "gridcolor": "#EBF0F8",
            "linecolor": "#EBF0F8",
            "ticks": ""
           }
          },
          "scene": {
           "xaxis": {
            "backgroundcolor": "white",
            "gridcolor": "#DFE8F3",
            "gridwidth": 2,
            "linecolor": "#EBF0F8",
            "showbackground": true,
            "ticks": "",
            "zerolinecolor": "#EBF0F8"
           },
           "yaxis": {
            "backgroundcolor": "white",
            "gridcolor": "#DFE8F3",
            "gridwidth": 2,
            "linecolor": "#EBF0F8",
            "showbackground": true,
            "ticks": "",
            "zerolinecolor": "#EBF0F8"
           },
           "zaxis": {
            "backgroundcolor": "white",
            "gridcolor": "#DFE8F3",
            "gridwidth": 2,
            "linecolor": "#EBF0F8",
            "showbackground": true,
            "ticks": "",
            "zerolinecolor": "#EBF0F8"
           }
          },
          "shapedefaults": {
           "line": {
            "color": "#2a3f5f"
           }
          },
          "ternary": {
           "aaxis": {
            "gridcolor": "#DFE8F3",
            "linecolor": "#A2B1C6",
            "ticks": ""
           },
           "baxis": {
            "gridcolor": "#DFE8F3",
            "linecolor": "#A2B1C6",
            "ticks": ""
           },
           "bgcolor": "white",
           "caxis": {
            "gridcolor": "#DFE8F3",
            "linecolor": "#A2B1C6",
            "ticks": ""
           }
          },
          "title": {
           "x": 0.05
          },
          "xaxis": {
           "automargin": true,
           "gridcolor": "#EBF0F8",
           "linecolor": "#EBF0F8",
           "ticks": "",
           "title": {
            "standoff": 15
           },
           "zerolinecolor": "#EBF0F8",
           "zerolinewidth": 2
          },
          "yaxis": {
           "automargin": true,
           "gridcolor": "#EBF0F8",
           "linecolor": "#EBF0F8",
           "ticks": "",
           "title": {
            "standoff": 15
           },
           "zerolinecolor": "#EBF0F8",
           "zerolinewidth": 2
          }
         }
        },
        "title": {
         "text": "⚡ Smart Home Benefits Summary"
        }
       }
      },
      "image/png": "[encoded data removed]",
      "text/html": [
       "<div>                            <div id=\"1a42bfc4-848b-461c-ae0b-6400f0b2695a\" class=\"plotly-graph-div\" style=\"height:525px; width:100%;\"></div>            <script type=\"text/javascript\">                require([\"plotly\"], function(Plotly) {                    window.PLOTLYENV=window.PLOTLYENV || {};                                    if (document.getElementById(\"1a42bfc4-848b-461c-ae0b-6400f0b2695a\")) {                    Plotly.newPlot(                        \"1a42bfc4-848b-461c-ae0b-6400f0b2695a\",                        [{\"hole\":0.4,\"labels\":[\"Energy Saved (kWh)\",\"Energy Consumed (kWh)\",\"Comfort Score (\\u002f10)\"],\"marker\":{\"colors\":[\"gold\",\"lightblue\",\"lightcoral\"]},\"values\":[2.7,1.2,1.89],\"type\":\"pie\"}],                        {\"template\":{\"data\":{\"barpolar\":[{\"marker\":{\"line\":{\"color\":\"white\",\"width\":0.5},\"pattern\":{\"fillmode\":\"overlay\",\"size\":10,\"solidity\":0.2}},\"type\":\"barpolar\"}],\"bar\":[{\"error_x\":{\"color\":\"#2a3f5f\"},\"error_y\":{\"color\":\"#2a3f5f\"},\"marker\":{\"line\":{\"color\":\"white\",\"width\":0.5},\"pattern\":{\"fillmode\":\"overlay\",\"size\":10,\"solidity\":0.2}},\"type\":\"bar\"}],\"carpet\":[{\"aaxis\":{\"endlinecolor\":\"#2a3f5f\",\"gridcolor\":\"#C8D4E3\",\"linecolor\":\"#C8D4E3\",\"minorgridcolor\":\"#C8D4E3\",\"startlinecolor\":\"#2a3f5f\"},\"baxis\":{\"endlinecolor\":\"#2a3f5f\",\"gridcolor\":\"#C8D4E3\",\"linecolor\":\"#C8D4E3\",\"minorgridcolor\":\"#C8D4E3\",\"startlinecolor\":\"#2a3f5f\"},\"type\":\"carpet\"}],\"choropleth\":[{\"colorbar\":{\"outlinewidth\":0,\"ticks\":\"\"},\"type\":\"choropleth\"}],\"contourcarpet\":[{\"colorbar\":{\"outlinewidth\":0,\"ticks\":\"\"},\"type\":\"contourcarpet\"}],\"contour\":[{\"colorbar\":{\"outlinewidth\":0,\"ticks\":\"\"},\"colorscale\":[[0.0,\"#0d0887\"],[0.1111111111111111,\"#46039f\"],[0.2222222222222222,\"#7201a8\"],[0.3333333333333333,\"#9c179e\"],[0.4444444444444444,\"#bd3786\"],[0.5555555555555556,\"#d8576b\"],[0.6666666666666666,\"#ed7953\"],[0.7777777777777778,\"#fb9f3a\"],[0.8888888888888888,\"#fdca26\"],[1.0,\"#f0f921\"]],\"type\":\"contour\"}],\"heatmapgl\":[{\"colorbar\":{\"outlinewidth\":0,\"ticks\":\"\"},\"colorscale\":[[0.0,\"#0d0887\"],[0.1111111111111111,\"#46039f\"],[0.2222222222222222,\"#7201a8\"],[0.3333333333333333,\"#9c179e\"],[0.4444444444444444,\"#bd3786\"],[0.5555555555555556,\"#d8576b\"],[0.6666666666666666,\"#ed7953\"],[0.7777777777777778,\"#fb9f3a\"],[0.8888888888888888,\"#fdca26\"],[1.0,\"#f0f921\"]],\"type\":\"heatmapgl\"}],\"heatmap\":[{\"colorbar\":{\"outlinewidth\":0,\"ticks\":\"\"},\"colorscale\":[[0.0,\"#0d0887\"],[0.1111111111111111,\"#46039f\"],[0.2222222222222222,\"#7201a8\"],[0.3333333333333333,\"#9c179e\"],[0.4444444444444444,\"#bd3786\"],[0.5555555555555556,\"#d8576b\"],[0.6666666666666666,\"#ed7953\"],[0.7777777777777778,\"#fb9f3a\"],[0.8888888888888888,\"#fdca26\"],[1.0,\"#f0f921\"]],\"type\":\"heatmap\"}],\"histogram2dcontour\":[{\"colorbar\":{\"outlinewidth\":0,\"ticks\":\"\"},\"colorscale\":[[0.0,\"#0d0887\"],[0.1111111111111111,\"#46039f\"],[0.2222222222222222,\"#7201a8\"],[0.3333333333333333,\"#9c179e\"],[0.4444444444444444,\"#bd3786\"],[0.5555555555555556,\"#d8576b\"],[0.6666666666666666,\"#ed7953\"],[0.7777777777777778,\"#fb9f3a\"],[0.8888888888888888,\"#fdca26\"],[1.0,\"#f0f921\"]],\"type\":\"histogram2dcontour\"}],\"histogram2d\":[{\"colorbar\":{\"outlinewidth\":0,\"ticks\":\"\"},\"colorscale\":[[0.0,\"#0d0887\"],[0.1111111111111111,\"#46039f\"],[0.2222222222222222,\"#7201a8\"],[0.3333333333333333,\"#9c179e\"],[0.4444444444444444,\"#bd3786\"],[0.5555555555555556,\"#d8576b\"],[0.6666666666666666,\"#ed7953\"],[0.7777777777777778,\"#fb9f3a\"],[0.8888888888888888,\"#fdca26\"],[1.0,\"#f0f921\"]],\"type\":\"histogram2d\"}],\"histogram\":[{\"marker\":{\"pattern\":{\"fillmode\":\"overlay\",\"size\":10,\"solidity\":0.2}},\"type\":\"histogram\"}],\"mesh3d\":[{\"colorbar\":{\"outlinewidth\":0,\"ticks\":\"\"},\"type\":\"mesh3d\"}],\"parcoords\":[{\"line\":{\"colorbar\":{\"outlinewidth\":0,\"ticks\":\"\"}},\"type\":\"parcoords\"}],\"pie\":[{\"automargin\":true,\"type\":\"pie\"}],\"scatter3d\":[{\"line\":{\"colorbar\":{\"outlinewidth\":0,\"ticks\":\"\"}},\"marker\":{\"colorbar\":{\"outlinewidth\":0,\"ticks\":\"\"}},\"type\":\"scatter3d\"}],\"scattercarpet\":[{\"marker\":{\"colorbar\":{\"outlinewidth\":0,\"ticks\":\"\"}},\"type\":\"scattercarpet\"}],\"scattergeo\":[{\"marker\":{\"colorbar\":{\"outlinewidth\":0,\"ticks\":\"\"}},\"type\":\"scattergeo\"}],\"scattergl\":[{\"marker\":{\"colorbar\":{\"outlinewidth\":0,\"ticks\":\"\"}},\"type\":\"scattergl\"}],\"scattermapbox\":[{\"marker\":{\"colorbar\":{\"outlinewidth\":0,\"ticks\":\"\"}},\"type\":\"scattermapbox\"}],\"scatterpolargl\":[{\"marker\":{\"colorbar\":{\"outlinewidth\":0,\"ticks\":\"\"}},\"type\":\"scatterpolargl\"}],\"scatterpolar\":[{\"marker\":{\"colorbar\":{\"outlinewidth\":0,\"ticks\":\"\"}},\"type\":\"scatterpolar\"}],\"scatter\":[{\"fillpattern\":{\"fillmode\":\"overlay\",\"size\":10,\"solidity\":0.2},\"type\":\"scatter\"}],\"scatterternary\":[{\"marker\":{\"colorbar\":{\"outlinewidth\":0,\"ticks\":\"\"}},\"type\":\"scatterternary\"}],\"surface\":[{\"colorbar\":{\"outlinewidth\":0,\"ticks\":\"\"},\"colorscale\":[[0.0,\"#0d0887\"],[0.1111111111111111,\"#46039f\"],[0.2222222222222222,\"#7201a8\"],[0.3333333333333333,\"#9c179e\"],[0.4444444444444444,\"#bd3786\"],[0.5555555555555556,\"#d8576b\"],[0.6666666666666666,\"#ed7953\"],[0.7777777777777778,\"#fb9f3a\"],[0.8888888888888888,\"#fdca26\"],[1.0,\"#f0f921\"]],\"type\":\"surface\"}],\"table\":[{\"cells\":{\"fill\":{\"color\":\"#EBF0F8\"},\"line\":{\"color\":\"white\"}},\"header\":{\"fill\":{\"color\":\"#C8D4E3\"},\"line\":{\"color\":\"white\"}},\"type\":\"table\"}]},\"layout\":{\"annotationdefaults\":{\"arrowcolor\":\"#2a3f5f\",\"arrowhead\":0,\"arrowwidth\":1},\"autotypenumbers\":\"strict\",\"coloraxis\":{\"colorbar\":{\"outlinewidth\":0,\"ticks\":\"\"}},\"colorscale\":{\"diverging\":[[0,\"#8e0152\"],[0.1,\"#c51b7d\"],[0.2,\"#de77ae\"],[0.3,\"#f1b6da\"],[0.4,\"#fde0ef\"],[0.5,\"#f7f7f7\"],[0.6,\"#e6f5d0\"],[0.7,\"#b8e186\"],[0.8,\"#7fbc41\"],[0.9,\"#4d9221\"],[1,\"#276419\"]],\"sequential\":[[0.0,\"#0d0887\"],[0.1111111111111111,\"#46039f\"],[0.2222222222222222,\"#7201a8\"],[0.3333333333333333,\"#9c179e\"],[0.4444444444444444,\"#bd3786\"],[0.5555555555555556,\"#d8576b\"],[0.6666666666666666,\"#ed7953\"],[0.7777777777777778,\"#fb9f3a\"],[0.8888888888888888,\"#fdca26\"],[1.0,\"#f0f921\"]],\"sequentialminus\":[[0.0,\"#0d0887\"],[0.1111111111111111,\"#46039f\"],[0.2222222222222222,\"#7201a8\"],[0.3333333333333333,\"#9c179e\"],[0.4444444444444444,\"#bd3786\"],[0.5555555555555556,\"#d8576b\"],[0.6666666666666666,\"#ed7953\"],[0.7777777777777778,\"#fb9f3a\"],[0.8888888888888888,\"#fdca26\"],[1.0,\"#f0f921\"]]},\"colorway\":[\"#636efa\",\"#EF553B\",\"#00cc96\",\"#ab63fa\",\"#FFA15A\",\"#19d3f3\",\"#FF6692\",\"#B6E880\",\"#FF97FF\",\"#FECB52\"],\"font\":{\"color\":\"#2a3f5f\"},\"geo\":{\"bgcolor\":\"white\",\"lakecolor\":\"white\",\"landcolor\":\"white\",\"showlakes\":true,\"showland\":true,\"subunitcolor\":\"#C8D4E3\"},\"hoverlabel\":{\"align\":\"left\"},\"hovermode\":\"closest\",\"mapbox\":{\"style\":\"light\"},\"paper_bgcolor\":\"white\",\"plot_bgcolor\":\"white\",\"polar\":{\"angularaxis\":{\"gridcolor\":\"#EBF0F8\",\"linecolor\":\"#EBF0F8\",\"ticks\":\"\"},\"bgcolor\":\"white\",\"radialaxis\":{\"gridcolor\":\"#EBF0F8\",\"linecolor\":\"#EBF0F8\",\"ticks\":\"\"}},\"scene\":{\"xaxis\":{\"backgroundcolor\":\"white\",\"gridcolor\":\"#DFE8F3\",\"gridwidth\":2,\"linecolor\":\"#EBF0F8\",\"showbackground\":true,\"ticks\":\"\",\"zerolinecolor\":\"#EBF0F8\"},\"yaxis\":{\"backgroundcolor\":\"white\",\"gridcolor\":\"#DFE8F3\",\"gridwidth\":2,\"linecolor\":\"#EBF0F8\",\"showbackground\":true,\"ticks\":\"\",\"zerolinecolor\":\"#EBF0F8\"},\"zaxis\":{\"backgroundcolor\":\"white\",\"gridcolor\":\"#DFE8F3\",\"gridwidth\":2,\"linecolor\":\"#EBF0F8\",\"showbackground\":true,\"ticks\":\"\",\"zerolinecolor\":\"#EBF0F8\"}},\"shapedefaults\":{\"line\":{\"color\":\"#2a3f5f\"}},\"ternary\":{\"aaxis\":{\"gridcolor\":\"#DFE8F3\",\"linecolor\":\"#A2B1C6\",\"ticks\":\"\"},\"baxis\":{\"gridcolor\":\"#DFE8F3\",\"linecolor\":\"#A2B1C6\",\"ticks\":\"\"},\"bgcolor\":\"white\",\"caxis\":{\"gridcolor\":\"#DFE8F3\",\"linecolor\":\"#A2B1C6\",\"ticks\":\"\"}},\"title\":{\"x\":0.05},\"xaxis\":{\"automargin\":true,\"gridcolor\":\"#EBF0F8\",\"linecolor\":\"#EBF0F8\",\"ticks\":\"\",\"title\":{\"standoff\":15},\"zerolinecolor\":\"#EBF0F8\",\"zerolinewidth\":2},\"yaxis\":{\"automargin\":true,\"gridcolor\":\"#EBF0F8\",\"linecolor\":\"#EBF0F8\",\"ticks\":\"\",\"title\":{\"standoff\":15},\"zerolinecolor\":\"#EBF0F8\",\"zerolinewidth\":2}}},\"title\":{\"text\":\"\\u26a1 Smart Home Benefits Summary\"}},                        {\"responsive\": true}                    ).then(function(){\n",
       "                            \n",
       "var gd = document.getElementById('1a42bfc4-848b-461c-ae0b-6400f0b2695a');\n",
       "var x = new MutationObserver(function (mutations, observer) {{\n",
       "        var display = window.getComputedStyle(gd).display;\n",
       "        if (!display || display === 'none') {{\n",
       "            console.log([gd, 'removed!']);\n",
       "            Plotly.purge(gd);\n",
       "            observer.disconnect();\n",
       "        }}\n",
       "}});\n",
       "\n",
       "// Listen for the removal of the full notebook cells\n",
       "var notebookContainer = gd.closest('#notebook-container');\n",
       "if (notebookContainer) {{\n",
       "    x.observe(notebookContainer, {childList: true});\n",
       "}}\n",
       "\n",
       "// Listen for the clearing of the current output cell\n",
       "var outputEl = gd.closest('.output');\n",
       "if (outputEl) {{\n",
       "    x.observe(outputEl, {childList: true});\n",
       "}}\n",
       "\n",
       "                        })                };                });            </script>        </div>"
      ]
     },
     "metadata": {},
     "output_type": "display_data"
    },
    {
     "name": "stdout",
     "output_type": "stream",
     "text": [
      "🎯 Summary\n",
      "   - Total Rooms Visited: 4\n",
      "   - Total LZ-78 Phrases Extracted: 14\n",
      "   - Typical Paths Predicted: 6\n",
      "   - ⚡ Energy Consumed: 1.20 kWh\n",
      "   - 💡 Energy Saved: 2.70 kWh\n",
      "   - 😌 Comfort Score: 1.89/10\n"
     ]
    }
   ],
   "source": [
    "# Imports\n",
    "import plotly.express as px\n",
    "import plotly.graph_objects as go\n",
    "from collections import Counter\n",
    "from mobility_profile import simulate_movement\n",
    "from lz_trie import LZ78Trie\n",
    "from prediction import Predictor\n",
    "from comfort_model import ComfortModel\n",
    "\n",
    "# ✅ UPDATED EnergyManager class with predict_consumption method\n",
    "class EnergyManager:\n",
    "    def __init__(self):\n",
    "        # Estimated power consumption per room (in kWh per hour)\n",
    "        self.room_power = {\n",
    "            'LivingRoom': 0.5,\n",
    "            'Kitchen': 0.8,\n",
    "            'Bedroom': 0.4,\n",
    "            'Bathroom': 0.3,\n",
    "            'Office': 0.6\n",
    "        }\n",
    "\n",
    "    def calculate_savings(self, predicted_paths):\n",
    "        baseline = sum(self.room_power.values()) * 1.5  # Assume 1.5 hours average baseline usage\n",
    "        optimized = 0\n",
    "        usage_time = 1.0  # Assume 1 hour per used room\n",
    "\n",
    "        used_rooms = set(\"\".join(predicted_paths))  # merge all path sequences\n",
    "        for room in used_rooms:\n",
    "            power = self.room_power.get(room, 0.3)\n",
    "            optimized += power * usage_time\n",
    "\n",
    "        savings = baseline - optimized\n",
    "        return round(savings, 2)\n",
    "\n",
    "    def predict_consumption(self, active_paths):\n",
    "        \"\"\"\n",
    "        Estimate total energy consumption for given active paths.\n",
    "        Each room is assumed to be used for a fixed duration.\n",
    "        \"\"\"\n",
    "        usage_time = 1.0  # Assume 1 hour usage per room\n",
    "        total = 0\n",
    "        used_rooms = set(\"\".join(active_paths))\n",
    "\n",
    "        for room in used_rooms:\n",
    "            power = self.room_power.get(room, 0.3)\n",
    "            total += power * usage_time\n",
    "\n",
    "        return round(total, 2)\n",
    "\n",
    "# Main logic\n",
    "def main():\n",
    "    print(\"🏠 SMART HOME VISUAL DASHBOARD\\n\")\n",
    "\n",
    "    # Step 1: Simulate Movement\n",
    "    movements = simulate_movement()\n",
    "    print(\"👣 Movement Sequence:\", \" → \".join(movements[:20]), \"...\" if len(movements) > 20 else \"\")\n",
    "\n",
    "    # 🌐 Room Visit Frequency (Bar Chart)\n",
    "    room_counts = Counter(movements)\n",
    "    fig1 = px.bar(x=list(room_counts.keys()), y=list(room_counts.values()),\n",
    "                  labels={'x': 'Room (Sensor ID)', 'y': 'Visit Count'},\n",
    "                  title='Room Visit Frequency',\n",
    "                  color=list(room_counts.keys()))\n",
    "    fig1.update_layout(template='plotly_white')\n",
    "    fig1.show()\n",
    "\n",
    "    # 🔁 Movement Path Timeline (Line Chart)\n",
    "    steps = list(range(1, len(movements) + 1))\n",
    "    fig2 = go.Figure()\n",
    "    fig2.add_trace(go.Scatter(\n",
    "        x=steps,\n",
    "        y=movements,\n",
    "        mode='lines+markers',\n",
    "        line=dict(shape='hv', color='mediumvioletred'),\n",
    "        marker=dict(size=10),\n",
    "        name='Movement Path'\n",
    "    ))\n",
    "    fig2.update_layout(\n",
    "        title=\"👣 Inhabitant Movement Path Over Time\",\n",
    "        xaxis_title=\"Step\",\n",
    "        yaxis_title=\"Room (Sensor ID)\",\n",
    "        template=\"plotly_white\",\n",
    "        height=400\n",
    "    )\n",
    "    fig2.show()\n",
    "\n",
    "    # 🔀 Room-to-Room Transitions (Sankey Diagram)\n",
    "    transitions = [(movements[i], movements[i+1]) for i in range(len(movements)-1)]\n",
    "    transition_counts = Counter(transitions)\n",
    "    labels = list(set([room for pair in transition_counts for room in pair]))\n",
    "    label_index = {label: i for i, label in enumerate(labels)}\n",
    "    sources = [label_index[a] for (a, b) in transition_counts]\n",
    "    targets = [label_index[b] for (a, b) in transition_counts]\n",
    "    values  = list(transition_counts.values())\n",
    "\n",
    "    fig3 = go.Figure(data=[go.Sankey(\n",
    "        node=dict(label=labels, pad=15, thickness=20),\n",
    "        link=dict(source=sources, target=targets, value=values)\n",
    "    )])\n",
    "    fig3.update_layout(title_text=\"🚪 Room-to-Room Movement Flow\", font_size=12)\n",
    "    fig3.show()\n",
    "\n",
    "    # Step 2: LZ-78 Dictionary\n",
    "    trie = LZ78Trie()\n",
    "    for s in movements:\n",
    "        trie.insert(s)\n",
    "\n",
    "    phrase_data = list(trie.dictionary.items())[:10]\n",
    "    if phrase_data:\n",
    "        phrases, freqs = zip(*phrase_data)\n",
    "        fig4 = px.bar(x=phrases, y=freqs,\n",
    "                      labels={'x': 'LZ-78 Phrase', 'y': 'Frequency'},\n",
    "                      title='Top LZ-78 Phrases',\n",
    "                      color=phrases)\n",
    "        fig4.update_layout(template='plotly_white')\n",
    "        fig4.show()\n",
    "    else:\n",
    "        print(\"❌ No LZ-78 phrases found.\")\n",
    "\n",
    "    # Step 3: Predict Typical Paths\n",
    "    predictor = Predictor(trie)\n",
    "    typical_paths = predictor.get_typical_paths()\n",
    "\n",
    "    if typical_paths:\n",
    "        fig5 = px.bar(x=typical_paths[:10], y=[1]*len(typical_paths[:10]),\n",
    "                      labels={'x': 'Typical Path', 'y': 'Probability'},\n",
    "                      title='Predicted Typical Movement Paths',\n",
    "                      color=typical_paths[:10])\n",
    "        fig5.update_layout(template='plotly_white')\n",
    "        fig5.show()\n",
    "    else:\n",
    "        print(\"❌ No typical paths found.\")\n",
    "\n",
    "    # Step 4: Energy & Comfort\n",
    "    energy_mgr = EnergyManager()\n",
    "    comfort_model = ComfortModel()\n",
    "\n",
    "    saved_energy = energy_mgr.calculate_savings(typical_paths)\n",
    "    energy_consumed = energy_mgr.predict_consumption(typical_paths)\n",
    "    comfort_score = comfort_model.evaluate(temp=72, humidity=60)\n",
    "\n",
    "    fig6 = go.Figure(data=[go.Pie(\n",
    "        labels=['Energy Saved (kWh)', 'Energy Consumed (kWh)', 'Comfort Score (/10)'],\n",
    "        values=[saved_energy, energy_consumed, comfort_score],\n",
    "        hole=0.4,\n",
    "        marker_colors=['gold', 'lightblue', 'lightcoral']\n",
    "    )])\n",
    "    fig6.update_layout(title=\"⚡ Smart Home Benefits Summary\", template='plotly_white')\n",
    "    fig6.show()\n",
    "\n",
    "    # Final Summary\n",
    "    print(\"🎯 Summary\")\n",
    "    print(f\"   - Total Rooms Visited: {len(set(movements))}\")\n",
    "    print(f\"   - Total LZ-78 Phrases Extracted: {len(trie.dictionary)}\")\n",
    "    print(f\"   - Typical Paths Predicted: {len(typical_paths)}\")\n",
    "    print(f\"   - ⚡ Energy Consumed: {energy_consumed:.2f} kWh\")\n",
    "    print(f\"   - 💡 Energy Saved: {saved_energy:.2f} kWh\")\n",
    "    print(f\"   - 😌 Comfort Score: {comfort_score:.2f}/10\")\n",
    "\n",
    "# Run it\n",
    "main()\n"
   ]
  },
  {
   "cell_type": "code",
   "execution_count": null,
   "metadata": {},
   "outputs": [],
   "source": []
  }
 ],
 "metadata": {
  "colab": {
   "provenance": []
  },
  "kernelspec": {
   "display_name": "Python 3 (ipykernel)",
   "language": "python",
   "name": "python3"
  },
  "language_info": {
   "codemirror_mode": {
    "name": "ipython",
    "version": 3
   },
   "file_extension": ".py",
   "mimetype": "text/x-python",
   "name": "python",
   "nbconvert_exporter": "python",
   "pygments_lexer": "ipython3",
   "version": "3.12.4"
  },
  "widgets": {
   "application/vnd.jupyter.widget-state+json": {
    "32dec7c3bc8f4587bb630da0b356ee44": {
     "model_module": "@jupyter-widgets/output",
     "model_module_version": "1.0.0",
     "model_name": "OutputModel",
     "state": {
      "_dom_classes": [],
      "_model_module": "@jupyter-widgets/output",
      "_model_module_version": "1.0.0",
      "_model_name": "OutputModel",
      "_view_count": null,
      "_view_module": "@jupyter-widgets/output",
      "_view_module_version": "1.0.0",
      "_view_name": "OutputView",
      "layout": "IPY_MODEL_5e52295d9cf846cbabc90a835206bca2",
      "msg_id": "",
      "outputs": [
       {
        "name": "stdout",
        "output_type": "stream",
        "text": [
         "🏠 SMART HOME VISUAL DASHBOARD\n",
         "\n"
        ]
       },
       {
        "data": {
         "image/png": "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\n",
         "text/plain": "<Figure size 600x400 with 1 Axes>"
        },
        "metadata": {},
        "output_type": "display_data"
       },
       {
        "data": {
         "image/png": "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\n",
         "text/plain": "<Figure size 800x400 with 1 Axes>"
        },
        "metadata": {},
        "output_type": "display_data"
       },
       {
        "data": {
         "image/png": "iVBORw0KGgoAAAANSUhEUgAAAk4AAAGGCAYAAACNCg6xAAAAOnRFWHRTb2Z0d2FyZQBNYXRwbG90bGliIHZlcnNpb24zLjEwLjAsIGh0dHBzOi8vbWF0cGxvdGxpYi5vcmcvlHJYcgAAAAlwSFlzAAAPYQAAD2EBqD+naQAAJ+RJREFUeJzt3Xl0VGWexvEnawWSVAghgaQNS8IqYNuyKAITVJq0gThy2lGBARQcGGQRmFZB1MjSwiAtKNsMGVmmJ3YcUBiRNLQg9AyINKsDgjQmIFFklwSCZn3nDyZ1KBLgrZhUBfL9nHPPod773nt/N2+RPOe9t275GWOMAAAAcFP+vi4AAADgVkFwAgAAsERwAgAAsERwAgAAsERwAgAAsERwAgAAsERwAgAAsERwAgAAsERwAgAAsERwAm5TzZs311NPPeV6vWXLFvn5+WnLli0+q+la19ZYW/j5+em1116rkX0fO3ZMfn5+Wr58eY3s31PLly+Xn5+fdu3a5etSgFsCwQmoAeV/jMqXkJAQtW7dWmPGjNGpU6d8XZ5HsrKyaixE3MxTTz3l9nO83lIbw9dPVR50y5egoCAlJCRoyJAhysnJ8Xh/ixYtqjVhDbiVBfq6AOB2Nm3aNLVo0UI//vijtm7dqsWLFysrK0sHDhxQ/fr1vVrL3/zN3+iHH35QcHCwR9tlZWVp4cKFPglPI0eOVO/evV2vjx49qldffVUjRoxQz549Xe2JiYnVetwffvhBgYG149fjuHHj1KVLFxUXF2vPnj1asmSJ1q1bp/379ysuLs56P4sWLVKjRo1uy5AJeFPt+M0A3KYefvhhde7cWZL0zDPPKCoqSm+++ab+67/+SwMGDKh0m4KCAoWGhlZ7Lf7+/goJCan2/dakbt26qVu3bq7Xu3bt0quvvqpu3brp7//+72vsuLXp59SzZ0899thjkqSnn35arVu31rhx47RixQpNnjzZx9UBdQ+X6gAvevDBByVdmTmRrlyKCgsLU3Z2tlJSUhQeHq5BgwZJksrKyjRv3jy1b99eISEhaty4sUaOHKnvv//ebZ/GGM2YMUN33HGH6tevrwceeEBffPFFhWNf7x6nHTt2KCUlRZGRkQoNDdVdd92lt956y1XfwoULJcntslG56q7RU5s3b5afn59Wr15dYd27774rPz8/bd++3XUuYWFhysnJUXJyskJDQxUXF6dp06bJGOO2bWX3OH377bcaPny44uLi5HA41KJFC40aNUpFRUWSpPPnz+s3v/mNOnbsqLCwMDmdTj388MP6/PPPf/J5Xu3a99CyZcv04IMPKiYmRg6HQ3feeacWL17stk3z5s31xRdf6M9//rNrDHv16uXWp7CwUBMnTlR0dLRCQ0PVv39/nTlzxq3Prl27lJycrEaNGqlevXpq0aKFhg0bVq3nB9R2zDgBXpSdnS1JioqKcrWVlJQoOTlZPXr00Jw5c1yX8EaOHKnly5fr6aef1rhx43T06FEtWLBAe/fu1bZt2xQUFCRJevXVVzVjxgylpKQoJSVFe/bsUZ8+fVx/0G/k448/Vr9+/RQbG6vnnntOTZo00aFDh/TRRx/pueee08iRI3XixAl9/PHH+v3vf19he2/UeCO9evVSfHy8MjIy1L9/f7d1GRkZSkxMdJuxKi0t1a9+9Svdd999mj17ttavX6+0tDSVlJRo2rRp1z3OiRMn1LVrV124cEEjRoxQ27Zt9e2332rVqlW6fPmygoODlZOTozVr1ujv/u7v1KJFC506dUr/+q//qqSkJB08eNCjy2o3cu17aPHixWrfvr0eeeQRBQYGau3atXr22WdVVlam0aNHS5LmzZunsWPHKiwsTFOmTJEkNW7c2G2/Y8eOVWRkpNLS0nTs2DHNmzdPY8aM0XvvvSdJOn36tPr06aPo6GhNmjRJDRo00LFjx/TBBx9Uy3kBtwwDoNotW7bMSDIbN240Z86cMbm5uSYzM9NERUWZevXqmW+++cYYY8zQoUONJDNp0iS37f/nf/7HSDIZGRlu7evXr3drP336tAkODjZ9+/Y1ZWVlrn4vvfSSkWSGDh3qatu8ebORZDZv3myMMaakpMS0aNHCNGvWzHz//fdux7l6X6NHjzaV/aqoiRpvZufOnUaSWbZsmatt8uTJxuFwmAsXLrjaTp8+bQIDA01aWpqrrfxnPXbsWLfz7Nu3rwkODjZnzpxxtUty23bIkCHG39/f7Ny5s0JN5ef0448/mtLSUrd1R48eNQ6Hw0ybNs2t7dpzqEz5eC1dutScOXPGnDhxwqxbt840b97c+Pn5uWq5fPlyhW2Tk5NNQkKCW1v79u1NUlJShb7l79XevXu7jc+ECRNMQECA6+e6evVqI6nSnwFQl3CpDqhBvXv3VnR0tOLj4/Xkk08qLCxMq1ev1s9+9jO3fqNGjXJ7vXLlSkVEROiXv/ylzp4961o6deqksLAwbd68WZK0ceNGFRUVaezYsW6X0MaPH3/T2vbu3aujR49q/PjxatCggdu6q/d1Pd6o0caQIUNUWFioVatWudree+89lZSUVHof1JgxY1z/9vPz05gxY1RUVKSNGzdWuv+ysjKtWbNGqamprvvVrlZ+Tg6HQ/7+V36llpaW6ty5cwoLC1ObNm20Z8+eKp/fsGHDFB0drbi4OPXt21cFBQVasWKFq5Z69eq5+ubl5ens2bNKSkpSTk6O8vLyrI8zYsQIt/Hp2bOnSktL9fXXX0uS6z3y0Ucfqbi4uMrnA9zquFQH1KCFCxeqdevWCgwMVOPGjdWmTRvXH9dygYGBuuOOO9zajhw5ory8PMXExFS639OnT0uS649aq1at3NZHR0crMjLyhrWVX/Lp0KGD/Ql5uUYbbdu2VZcuXZSRkaHhw4dLunKZ7r777lPLli3d+vr7+yshIcGtrXXr1pKuPF+pMmfOnFF+fv5Nf05lZWV66623tGjRIh09elSlpaWudVdfmvXUq6++qp49eyogIECNGjVSu3bt3D7xt23bNqWlpWn79u26fPmy27Z5eXmKiIiwOk7Tpk3dXpePTfn9aklJSfr1r3+tqVOnau7cuerVq5ceffRRDRw4UA6Ho8rnB9xqCE5ADeratWulsxRXu3qmolxZWZliYmKUkZFR6TbR0dHVVmNV1aYahwwZoueee07ffPONCgsL9dlnn2nBggVeO74kvf7663rllVc0bNgwTZ8+XQ0bNpS/v7/Gjx+vsrKyKu+3Y8eObo9kuFp2drYeeughtW3bVm+++abi4+MVHBysrKwszZ0716PjBgQEVNpu/v/GeT8/P61atUqfffaZ1q5dqw0bNmjYsGH63e9+p88++0xhYWGenxxwCyI4AbVQYmKiNm7cqO7du7tdirlWs2bNJF2Z/bl6JuXMmTMVPtlW2TEk6cCBA9f9wyxd/7KdN2q09eSTT2rixIn6wx/+oB9++EFBQUF64oknKvQrKytTTk6Oa5ZJkv76179KuvLJs8pER0fL6XTqwIEDN6xh1apVeuCBB/TOO++4tV+4cEGNGjXy8IzsrF27VoWFhfrwww/dZozKL5Nezebyq4377rtP9913n37729/q3Xff1aBBg5SZmalnnnmmWvYP1Hbc4wTUQo8//rhKS0s1ffr0CutKSkp04cIFSVfuoQoKCtL8+fPdPlI/b968mx7jnnvuUYsWLTRv3jzX/spdva/yZ0pd28cbNdpq1KiRHn74Yf3Hf/yHMjIy9Ktf/eq6YeXqmShjjBYsWKCgoCA99NBDlfb39/fXo48+qrVr11b6tSTl5xQQEFDhsQYrV67Ut99+W9XTuqnyWaKrj5uXl6dly5ZV6BsaGlphDD3x/fffVzi/u+++W9KVRxkAdQUzTkAtlJSUpJEjR2rmzJnat2+f+vTpo6CgIB05ckQrV67UW2+9pccee0zR0dH6zW9+o5kzZ6pfv35KSUnR3r179cc//vGmsxz+/v5avHixUlNTdffdd+vpp59WbGysvvzyS33xxRfasGGDJKlTp06SrjzBOjk5WQEBAXryySe9UqMnhgwZ4npQZGVhTrryYMv169dr6NChuvfee/XHP/5R69at00svvXTDS4uvv/66/vSnPykpKUkjRoxQu3bt9N1332nlypXaunWrGjRooH79+mnatGl6+umndf/992v//v3KyMiocE9VderTp4+Cg4OVmpqqkSNH6tKlS0pPT1dMTIy+++47t76dOnXS4sWLNWPGDLVs2VIxMTGuZ0LZWLFihRYtWqT+/fsrMTFRFy9eVHp6upxOp1JSUqr71IDay2ef5wNuY+Uf8b7ZR7eHDh1qQkNDr7t+yZIlplOnTqZevXomPDzcdOzY0bzwwgvmxIkTrj6lpaVm6tSpJjY21tSrV8/06tXLHDhwwDRr1uyGjyMot3XrVvPLX/7ShIeHm9DQUHPXXXeZ+fPnu9aXlJSYsWPHmujoaOPn51fh0QTVWePNVPY4gnKFhYUmMjLSREREmB9++KHC+vKfdXZ2tunTp4+pX7++ady4sUlLS6vwGAFd8zgCY4z5+uuvzZAhQ0x0dLRxOBwmISHBjB492hQWFhpjrjyO4J/+6Z9c59i9e3ezfft2k5SU5PYYAE8fR7By5cob9vvwww/NXXfdZUJCQkzz5s3NP//zP5ulS5caSebo0aOufidPnjR9+/Y14eHhRpKrpuu9V699v+zZs8cMGDDANG3a1DgcDhMTE2P69etndu3adcP6gNuNnzHXzL0CwC2opKREcXFxSk1NrXCfkXTlyeGrVq3SpUuXfFAdgNsF9zgBuC2sWbNGZ86c0ZAhQ3xdCoDbGPc4Abil7dixQ//7v/+r6dOn6xe/+IWSkpJ8XRKA2xgzTgBuaYsXL9aoUaMUExOjf//3f/d1OQBuc9zjBAAAYIkZJwAAAEsEJwAAAEu17ubwsrIynThxQuHh4dX2FQEAAADXY4zRxYsXFRcXV+G7Q69V64LTiRMnFB8f7+syAABAHZObm6s77rjjhn1qXXAKDw+XdKV4p9Pp42oAAMDtLj8/X/Hx8a4MciO1LjiVX55zOp0EJwAA4DU2twhxczgAAIAlghMAAIAlghMAAIAlghMAAIAlghMAAIAlghMAAIAlghMAAIAlghMAAIAlghMAAIAlghMAAIAlghMAAIAlghMAAIClWvclv+WyJx1WmCPM12UAAAAfajW3na9LcMOMEwAAgCWCEwAAgCWCEwAAgCWCEwAAgCWCEwAAgCWCEwAAgCWCEwAAgCWCEwAAgCWCEwAAgCWCEwAAgCWCEwAAgCWCEwAAgCWCEwAAgCWCEwAAgCWCEwAAgCWCEwAAgCWCEwAAgCWPg1NhYaHGjRunmJgYhYSEqEePHtq5c6dr/Z///Gd17dpVDodDsbGxmjRpkkpKSqq1aAAAAF/wODi98MILev/997VixQrt2bNHLVu2VHJyss6fP69vv/1WKSkp6tKliz7//HMtXrxY77zzjmbMmHHd/RUWFio/P99tAQAAqI38jDHGtnNBQYEiIyO1fPlyDRw4UJJUXFys5s2ba/z48bpw4YLef/99HTp0SH5+fpKkRYsW6cUXX1ReXp78/SvmtNdee01Tp06t0L5n1F8U5gir6nkBAIDbQKu57Wr8GPn5+YqIiFBeXp6cTucN+3o045Sdna3i4mJ1797d1RYUFKSuXbvq0KFDOnTokLp16+YKTZLUvXt3Xbp0Sd98802l+5w8ebLy8vJcS25uriclAQAAeE2grwtwOBxyOBy+LgMAAOCmPJpxSkxMVHBwsLZt2+ZqKy4u1s6dO3XnnXeqXbt22r59u66++rdt2zaFh4frjjvuqL6qAQAAfMCjGafQ0FCNGjVKzz//vBo2bKimTZtq9uzZunz5soYPH67Lly9r3rx5Gjt2rMaMGaPDhw8rLS1NEydOrPT+JgAAgFuJx5fqZs2apbKyMg0ePFgXL15U586dtWHDBkVGRioyMlJZWVl6/vnn9fOf/1wNGzbU8OHD9fLLL9dE7QAAAF7l0afqvKH8znY+VQcAAG7pT9UBAADUZQQnAAAASwQnAAAASwQnAAAASwQnAAAASwQnAAAASwQnAAAASwQnAAAASwQnAAAASwQnAAAASwQnAAAASwQnAAAASwQnAAAASwQnAAAAS4G+LuB6Eme1kdPp9HUZAAAALsw4AQAAWCI4AQAAWCI4AQAAWCI4AQAAWCI4AQAAWCI4AQAAWCI4AQAAWCI4AQAAWCI4AQAAWKq1Tw7PnnRYYY4wX5cBAAB8qNXcdr4uwQ0zTgAAAJYITgAAAJYITgAAAJYITgAAAJYITgAAAJYITgAAAJYITgAAAJYITgAAAJYITgAAAJYITgAAAJYITgAAAJYITgAAAJYITgAAAJYITgAAAJY8Dk69evXS+PHja6AUAACA2o0ZJwAAAEsEJwAAAEs/OTitW7dOERERysjI0O9//3t17txZ4eHhatKkiQYOHKjTp09XR50AAAA+95OC07vvvqsBAwYoIyNDgwYNUnFxsaZPn67PP/9ca9as0bFjx/TUU0/dcB+FhYXKz893WwAAAGqjwKpuuHDhQk2ZMkVr165VUlKSJGnYsGGu9QkJCXr77bfVpUsXXbp0SWFhYZXuZ+bMmZo6dWpVywAAAPCaKs04rVq1ShMmTNDHH3/sCk2StHv3bqWmpqpp06YKDw93rTt+/Ph19zV58mTl5eW5ltzc3KqUBAAAUOOqFJx+8YtfKDo6WkuXLpUxRpJUUFCg5ORkOZ1OZWRkaOfOnVq9erUkqaio6Lr7cjgccjqdbgsAAEBtVKVLdYmJifrd736nXr16KSAgQAsWLNCXX36pc+fOadasWYqPj5ck7dq1q1qLBQAA8KUq3xzeunVrbd68We+//77Gjx+vpk2bKjg4WPPnz1dOTo4+/PBDTZ8+vTprBQAA8Kkq3xwuSW3atNEnn3zimnlavny5XnrpJb399tu65557NGfOHD3yyCPVVSsAAIBPeRyctmzZ4va6Xbt2OnXqlOv1gAED3NaX3wMFAABwq+PJ4QAAAJYITgAAAJYITgAAAJYITgAAAJYITgAAAJYITgAAAJYITgAAAJYITgAAAJYITgAAAJYITgAAAJYITgAAAJYITgAAAJYITgAAAJYCfV3A9STOaiOn0+nrMgAAAFyYcQIAALBEcAIAALBEcAIAALBEcAIAALBEcAIAALBEcAIAALBEcAIAALBEcAIAALBEcAIAALBEcAIAALBUa79yJXvSYYU5wnxdBgAA8KFWc9v5ugQ3zDgBAABYIjgBAABYIjgBAABYIjgBAABYIjgBAABYIjgBAABYIjgBAABYIjgBAABYIjgBAABYIjgBAABYIjgBAABYIjgBAABYIjgBAABYIjgBAABYIjgBAABYIjgBAABY8jg4rV+/Xj169FCDBg0UFRWlfv36KTs727V+//79evDBB1WvXj1FRUVpxIgRunTpUrUWDQAA4AseB6eCggJNnDhRu3bt0qZNm+Tv76/+/furrKxMBQUFSk5OVmRkpHbu3KmVK1dq48aNGjNmTE3UDgAA4FV+xhjzU3Zw9uxZRUdHa//+/dq+fbtefPFF5ebmKjQ0VJKUlZWl1NRUnThxQo0bN66wfWFhoQoLC12v8/PzFR8frz2j/qIwR9hPKQ0AANziWs1tV+PHyM/PV0REhPLy8uR0Om/Y1+MZpyNHjmjAgAFKSEiQ0+lU8+bNJUnHjx/XoUOH9POf/9wVmiSpe/fuKisr0+HDhyvd38yZMxUREeFa4uPjPS0JAADAKzwOTqmpqTp//rzS09O1Y8cO7dixQ5JUVFRUpQImT56svLw815Kbm1ul/QAAANS0QE86nzt3TocPH1Z6erp69uwpSdq6datrfbt27bR8+XIVFBS4Zp22bdsmf39/tWnTptJ9OhwOORyOqtYPAADgNR7NOEVGRioqKkpLlizRV199pU8++UQTJ050rR80aJBCQkI0dOhQHThwQJs3b9bYsWM1ePDgSu9vAgAAuJV4FJz8/f2VmZmp3bt3q0OHDpowYYLeeOMN1/r69etrw4YNOn/+vLp06aLHHntMDz30kBYsWFDthQMAAHibR5fqJKl37946ePCgW9vVH8zr2LGjPvnkk59eGQAAQC3Dk8MBAAAsEZwAAAAsEZwAAAAsEZwAAAAsEZwAAAAsEZwAAAAsEZwAAAAsEZwAAAAsEZwAAAAsEZwAAAAsEZwAAAAsEZwAAAAsEZwAAAAsEZwAAAAsBfq6gOtJnNVGTqfT12UAAAC4MOMEAABgieAEAABgieAEAABgieAEAABgieAEAABgieAEAABgieAEAABgieAEAABgieAEAABgqdY+OTx70mGFOcJ8XQYAAPChVnPb+boEN8w4AQAAWCI4AQAAWCI4AQAAWCI4AQAAWCI4AQAAWCI4AQAAWCI4AQAAWCI4AQAAWCI4AQAAWCI4AQAAWCI4AQAAWCI4AQAAWCI4AQAAWCI4AQAAWCI4AQAAWCI4AQAAWCI4AQAAWPI4OK1fv149evRQgwYNFBUVpX79+ik7O9u1/sUXX1Tr1q1Vv359JSQk6JVXXlFxcXG1Fg0AAOALHgengoICTZw4Ubt27dKmTZvk7++v/v37q6ysTJIUHh6u5cuX6+DBg3rrrbeUnp6uuXPnVnvhAAAA3uZnjDE/ZQdnz55VdHS09u/frw4dOlRYP2fOHGVmZmrXrl2Vbl9YWKjCwkLX6/z8fMXHx2vPqL8ozBH2U0oDAAC3uFZz29X4MfLz8xUREaG8vDw5nc4b9vV4xunIkSMaMGCAEhIS5HQ61bx5c0nS8ePHJUnvvfeeunfvriZNmigsLEwvv/yya11lZs6cqYiICNcSHx/vaUkAAABe4XFwSk1N1fnz55Wenq4dO3Zox44dkqSioiJt375dgwYNUkpKij766CPt3btXU6ZMUVFR0XX3N3nyZOXl5bmW3Nzcqp8NAABADQr0pPO5c+d0+PBhpaenq2fPnpKkrVu3utZ/+umnatasmaZMmeJq+/rrr2+4T4fDIYfD4UkZAAAAPuFRcIqMjFRUVJSWLFmi2NhYHT9+XJMmTXKtb9WqlY4fP67MzEx16dJF69at0+rVq6u9aAAAAF/w6FKdv7+/MjMztXv3bnXo0EETJkzQG2+84Vr/yCOPaMKECRozZozuvvtuffrpp3rllVeqvWgAAABf+Mmfqqtu5Xe286k6AABwy3+qDgAAoK4iOAEAAFgiOAEAAFgiOAEAAFgiOAEAAFgiOAEAAFgiOAEAAFgiOAEAAFgiOAEAAFgiOAEAAFgiOAEAAFgiOAEAAFgiOAEAAFgiOAEAAFgK9HUB15M4q42cTqevywAAAHBhxgkAAMASwQkAAMASwQkAAMASwQkAAMASwQkAAMASwQkAAMASwQkAAMASwQkAAMASwQkAAMBSrX1yePakwwpzhPm6DAAA4EOt5rbzdQlumHECAACwRHACAACwRHACAACwRHACAACwRHACAACwRHACAACwRHACAACwRHACAACwRHACAACwRHACAACwRHACAACwRHACAACwRHACAACwRHACAACwRHACAACwRHACAACwRHACAACwVCPBqbCwUOPGjVNMTIxCQkLUo0cP7dy5syYOBQAA4DU1EpxeeOEFvf/++1qxYoX27Nmjli1bKjk5WefPn6/Qt7CwUPn5+W4LAABAbVTtwamgoECLFy/WG2+8oYcfflh33nmn0tPTVa9ePb3zzjsV+s+cOVMRERGuJT4+vrpLAgAAqBbVHpyys7NVXFys7t27u9qCgoLUtWtXHTp0qEL/yZMnKy8vz7Xk5uZWd0kAAADVItDXBTgcDjkcDl+XAQAAcFPVPuOUmJio4OBgbdu2zdVWXFysnTt36s4776zuwwEAAHhNtc84hYaGatSoUXr++efVsGFDNW3aVLNnz9bly5c1fPjw6j4cAACA19TIpbpZs2aprKxMgwcP1sWLF9W5c2dt2LBBkZGRNXE4AAAAr6iR4BQSEqK3335bb7/9dk3sHgAAwCd4cjgAAIAlghMAAIAlghMAAIAlghMAAIAlghMAAIAlghMAAIAlghMAAIAlghMAAIAlghMAAIAlghMAAIAlghMAAIAlghMAAIAlghMAAIAlghMAAIClQF8XcD2Js9rI6XT6ugwAAAAXZpwAAAAsEZwAAAAsEZwAAAAsEZwAAAAsEZwAAAAsEZwAAAAsEZwAAAAsEZwAAAAsEZwAAAAs1donh2dPOqwwR5ivywAAAD7Uam47X5fghhknAAAASwQnAAAASwQnAAAASwQnAAAASwQnAAAASwQnAAAASwQnAAAASwQnAAAASwQnAAAASwQnAAAASwQnAAAASwQnAAAASwQnAAAASwQnAAAASwQnAAAASwQnAAAASwQnAAAASzUSnNavX68ePXqoQYMGioqKUr9+/ZSdnV0ThwIAAPCaGglOBQUFmjhxonbt2qVNmzbJ399f/fv3V1lZWYW+hYWFys/Pd1sAAABqo8Ca2Omvf/1rt9dLly5VdHS0Dh48qA4dOritmzlzpqZOnVoTZQAAAFSrGplxOnLkiAYMGKCEhAQ5nU41b95cknT8+PEKfSdPnqy8vDzXkpubWxMlAQAA/GQ1MuOUmpqqZs2aKT09XXFxcSorK1OHDh1UVFRUoa/D4ZDD4aiJMgAAAKpVtQenc+fO6fDhw0pPT1fPnj0lSVu3bq3uwwAAAHhdtQenyMhIRUVFacmSJYqNjdXx48c1adKk6j4MAACA11X7PU7+/v7KzMzU7t271aFDB02YMEFvvPFGdR8GAADA62rkHqfevXvr4MGDbm3GmJo4FAAAgNfw5HAAAABLBCcAAABLBCcAAABLBCcAAABLBCcAAABLBCcAAABLBCcAAABLBCcAAABLBCcAAABLBCcAAABLBCcAAABLBCcAAABLBCcAAABLBCcAAABLgb4u4HoSZ7WR0+n0dRkAAAAuzDgBAABYIjgBAABYIjgBAABYIjgBAABYIjgBAABYIjgBAABYIjgBAABYIjgBAABYIjgBAABYIjgBAABYIjgBAABYIjgBAABYqnVf8muMkSTl5+f7uBIAAFAXlGeO8gxyI7UuOJ07d06SFB8f7+NKAABAXXLx4kVFRETcsE+tC04NGzaUJB0/fvymxcO78vPzFR8fr9zcXDmdTl+Xg2swPrUXY1O7MT61l7fGxhijixcvKi4u7qZ9a11w8ve/cttVREQEb+Bayul0Mja1GONTezE2tRvjU3t5Y2xsJ2u4ORwAAMASwQkAAMBSrQtODodDaWlpcjgcvi4F12BsajfGp/ZibGo3xqf2qo1j42dsPnsHAACA2jfjBAAAUFsRnAAAACwRnAAAACwRnAAAACz5JDgtXLhQzZs3V0hIiO6991795S9/uWH/lStXqm3btgoJCVHHjh2VlZXlpUrrHk/GJj09XT179lRkZKQiIyPVu3fvm44lfhpP/++Uy8zMlJ+fnx599NGaLbAO83RsLly4oNGjRys2NlYOh0OtW7fmd1sN8nR85s2bpzZt2qhevXqKj4/XhAkT9OOPP3qp2rrjv//7v5Wamqq4uDj5+flpzZo1N91my5Ytuueee+RwONSyZUstX768xut0Y7wsMzPTBAcHm6VLl5ovvvjC/MM//INp0KCBOXXqVKX9t23bZgICAszs2bPNwYMHzcsvv2yCgoLM/v37vVz57c/TsRk4cKBZuHCh2bt3rzl06JB56qmnTEREhPnmm2+8XHnd4On4lDt69Kj52c9+Znr27Gn+9m//1jvF1jGejk1hYaHp3LmzSUlJMVu3bjVHjx41W7ZsMfv27fNy5XWDp+OTkZFhHA6HycjIMEePHjUbNmwwsbGxZsKECV6u/PaXlZVlpkyZYj744AMjyaxevfqG/XNyckz9+vXNxIkTzcGDB838+fNNQECAWb9+vXcKNsZ4PTh17drVjB492vW6tLTUxMXFmZkzZ1ba//HHHzd9+/Z1a7v33nvNyJEja7TOusjTsblWSUmJCQ8PNytWrKipEuu0qoxPSUmJuf/++82//du/maFDhxKcaoinY7N48WKTkJBgioqKvFVinebp+IwePdo8+OCDbm0TJ0403bt3r9E66zqb4PTCCy+Y9u3bu7U98cQTJjk5uQYrc+fVS3VFRUXavXu3evfu7Wrz9/dX7969tX379kq32b59u1t/SUpOTr5uf1RNVcbmWpcvX1ZxcbHri5pRfao6PtOmTVNMTIyGDx/ujTLrpKqMzYcffqhu3bpp9OjRaty4sTp06KDXX39dpaWl3iq7zqjK+Nx///3avXu363JeTk6OsrKylJKS4pWacX21IRN49Ut+z549q9LSUjVu3NitvXHjxvryyy8r3ebkyZOV9j958mSN1VkXVWVsrvXiiy8qLi6uwpsaP11Vxmfr1q165513tG/fPi9UWHdVZWxycnL0ySefaNCgQcrKytJXX32lZ599VsXFxUpLS/NG2XVGVcZn4MCBOnv2rHr06CFjjEpKSvSP//iPeumll7xRMm7gepkgPz9fP/zwg+rVq1fjNfCpOlSLWbNmKTMzU6tXr1ZISIivy6nzLl68qMGDBys9PV2NGjXydTm4RllZmWJiYrRkyRJ16tRJTzzxhKZMmaJ/+Zd/8XVp0JWbj19//XUtWrRIe/bs0QcffKB169Zp+vTpvi4NtYBXZ5waNWqkgIAAnTp1yq391KlTatKkSaXbNGnSxKP+qJqqjE25OXPmaNasWdq4caPuuuuumiyzzvJ0fLKzs3Xs2DGlpqa62srKyiRJgYGBOnz4sBITE2u26DqiKv93YmNjFRQUpICAAFdbu3btdPLkSRUVFSk4OLhGa65LqjI+r7zyigYPHqxnnnlGktSxY0cVFBRoxIgRmjJlivz9mXPwletlAqfT6ZXZJsnLM07BwcHq1KmTNm3a5GorKyvTpk2b1K1bt0q36datm1t/Sfr444+v2x9VU5WxkaTZs2dr+vTpWr9+vTp37uyNUuskT8enbdu22r9/v/bt2+daHnnkET3wwAPat2+f4uPjvVn+ba0q/3e6d++ur776yhVmJemvf/2rYmNjCU3VrCrjc/ny5QrhqDzkGr7e1adqRSbw2m3o/y8zM9M4HA6zfPlyc/DgQTNixAjToEEDc/LkSWOMMYMHDzaTJk1y9d+2bZsJDAw0c+bMMYcOHTJpaWk8jqCGeDo2s2bNMsHBwWbVqlXmu+++cy0XL1701Snc1jwdn2vxqbqa4+nYHD9+3ISHh5sxY8aYw4cPm48++sjExMSYGTNm+OoUbmuejk9aWpoJDw83f/jDH0xOTo7505/+ZBITE83jjz/uq1O4bV28eNHs3bvX7N2710gyb775ptm7d6/5+uuvjTHGTJo0yQwePNjVv/xxBM8//7w5dOiQWbhw4e3/OAJjjJk/f75p2rSpCQ4ONl27djWfffaZa11SUpIZOnSoW////M//NK1btzbBwcGmffv2Zt26dV6uuO7wZGyaNWtmJFVY0tLSvF94HeHp/52rEZxqlqdj8+mnn5p7773XOBwOk5CQYH7729+akpISL1ddd3gyPsXFxea1114ziYmJJiQkxMTHx5tnn33WfP/9994v/Da3efPmSv+OlI/H0KFDTVJSUoVt7r77bhMcHGwSEhLMsmXLvFqznzHMOwIAANjgDjcAAABLBCcAAABLBCcAAABLBCcAAABLBCcAAABLBCcAAABLBCcAAABLBCcAAABLBCcAAABLBCcAAABLBCcAAABLBCcAAABL/wdKILuqq7uGnwAAAABJRU5ErkJggg==\n",
         "text/plain": "<Figure size 600x400 with 1 Axes>"
        },
        "metadata": {},
        "output_type": "display_data"
       },
       {
        "data": {
         "image/png": "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\n",
         "text/plain": "<Figure size 500x500 with 1 Axes>"
        },
        "metadata": {},
        "output_type": "display_data"
       },
       {
        "name": "stdout",
        "output_type": "stream",
        "text": [
         "🌡️  Temperature: 66°F\n",
         "💧 Humidity: 65%\n",
         "⚡ Energy Saved: 0.95 kWh\n",
         "😌 Comfort Score: 0.00/10\n"
        ]
       }
      ]
     }
    },
    "5e52295d9cf846cbabc90a835206bca2": {
     "model_module": "@jupyter-widgets/base",
     "model_module_version": "1.2.0",
     "model_name": "LayoutModel",
     "state": {
      "_model_module": "@jupyter-widgets/base",
      "_model_module_version": "1.2.0",
      "_model_name": "LayoutModel",
      "_view_count": null,
      "_view_module": "@jupyter-widgets/base",
      "_view_module_version": "1.2.0",
      "_view_name": "LayoutView",
      "align_content": null,
      "align_items": null,
      "align_self": null,
      "border": null,
      "bottom": null,
      "display": null,
      "flex": null,
      "flex_flow": null,
      "grid_area": null,
      "grid_auto_columns": null,
      "grid_auto_flow": null,
      "grid_auto_rows": null,
      "grid_column": null,
      "grid_gap": null,
      "grid_row": null,
      "grid_template_areas": null,
      "grid_template_columns": null,
      "grid_template_rows": null,
      "height": null,
      "justify_content": null,
      "justify_items": null,
      "left": null,
      "margin": null,
      "max_height": null,
      "max_width": null,
      "min_height": null,
      "min_width": null,
      "object_fit": null,
      "object_position": null,
      "order": null,
      "overflow": null,
      "overflow_x": null,
      "overflow_y": null,
      "padding": null,
      "right": null,
      "top": null,
      "visibility": null,
      "width": null
     }
    },
    "5fd1baca33764de09ca12e9c94e3fd5a": {
     "model_module": "@jupyter-widgets/controls",
     "model_module_version": "1.5.0",
     "model_name": "IntSliderModel",
     "state": {
      "_dom_classes": [],
      "_model_module": "@jupyter-widgets/controls",
      "_model_module_version": "1.5.0",
      "_model_name": "IntSliderModel",
      "_view_count": null,
      "_view_module": "@jupyter-widgets/controls",
      "_view_module_version": "1.5.0",
      "_view_name": "IntSliderView",
      "continuous_update": true,
      "description": "Temperature (°F)",
      "description_tooltip": null,
      "disabled": false,
      "layout": "IPY_MODEL_fedc3fd19f32465aaec8b4e24594f93a",
      "max": 85,
      "min": 60,
      "orientation": "horizontal",
      "readout": true,
      "readout_format": "d",
      "step": 1,
      "style": "IPY_MODEL_674e05f0afdc422bb16264e2ca77faa5",
      "value": 66
     }
    },
    "6499acae046748ea9f801e00669f6aaa": {
     "model_module": "@jupyter-widgets/controls",
     "model_module_version": "1.5.0",
     "model_name": "SliderStyleModel",
     "state": {
      "_model_module": "@jupyter-widgets/controls",
      "_model_module_version": "1.5.0",
      "_model_name": "SliderStyleModel",
      "_view_count": null,
      "_view_module": "@jupyter-widgets/base",
      "_view_module_version": "1.2.0",
      "_view_name": "StyleView",
      "description_width": "",
      "handle_color": null
     }
    },
    "674e05f0afdc422bb16264e2ca77faa5": {
     "model_module": "@jupyter-widgets/controls",
     "model_module_version": "1.5.0",
     "model_name": "SliderStyleModel",
     "state": {
      "_model_module": "@jupyter-widgets/controls",
      "_model_module_version": "1.5.0",
      "_model_name": "SliderStyleModel",
      "_view_count": null,
      "_view_module": "@jupyter-widgets/base",
      "_view_module_version": "1.2.0",
      "_view_name": "StyleView",
      "description_width": "",
      "handle_color": null
     }
    },
    "a847d111dbe1456bb4f2d381b71a6b00": {
     "model_module": "@jupyter-widgets/controls",
     "model_module_version": "1.5.0",
     "model_name": "VBoxModel",
     "state": {
      "_dom_classes": [],
      "_model_module": "@jupyter-widgets/controls",
      "_model_module_version": "1.5.0",
      "_model_name": "VBoxModel",
      "_view_count": null,
      "_view_module": "@jupyter-widgets/controls",
      "_view_module_version": "1.5.0",
      "_view_name": "VBoxView",
      "box_style": "",
      "children": [
       "IPY_MODEL_5fd1baca33764de09ca12e9c94e3fd5a",
       "IPY_MODEL_de20e5255d854c6e8d302fd0d5d697c6"
      ],
      "layout": "IPY_MODEL_f6dc2aa830074334a280208a58221cc0"
     }
    },
    "abc27dc11c4344fdae75c57fc9fc5f36": {
     "model_module": "@jupyter-widgets/base",
     "model_module_version": "1.2.0",
     "model_name": "LayoutModel",
     "state": {
      "_model_module": "@jupyter-widgets/base",
      "_model_module_version": "1.2.0",
      "_model_name": "LayoutModel",
      "_view_count": null,
      "_view_module": "@jupyter-widgets/base",
      "_view_module_version": "1.2.0",
      "_view_name": "LayoutView",
      "align_content": null,
      "align_items": null,
      "align_self": null,
      "border": null,
      "bottom": null,
      "display": null,
      "flex": null,
      "flex_flow": null,
      "grid_area": null,
      "grid_auto_columns": null,
      "grid_auto_flow": null,
      "grid_auto_rows": null,
      "grid_column": null,
      "grid_gap": null,
      "grid_row": null,
      "grid_template_areas": null,
      "grid_template_columns": null,
      "grid_template_rows": null,
      "height": null,
      "justify_content": null,
      "justify_items": null,
      "left": null,
      "margin": null,
      "max_height": null,
      "max_width": null,
      "min_height": null,
      "min_width": null,
      "object_fit": null,
      "object_position": null,
      "order": null,
      "overflow": null,
      "overflow_x": null,
      "overflow_y": null,
      "padding": null,
      "right": null,
      "top": null,
      "visibility": null,
      "width": null
     }
    },
    "de20e5255d854c6e8d302fd0d5d697c6": {
     "model_module": "@jupyter-widgets/controls",
     "model_module_version": "1.5.0",
     "model_name": "IntSliderModel",
     "state": {
      "_dom_classes": [],
      "_model_module": "@jupyter-widgets/controls",
      "_model_module_version": "1.5.0",
      "_model_name": "IntSliderModel",
      "_view_count": null,
      "_view_module": "@jupyter-widgets/controls",
      "_view_module_version": "1.5.0",
      "_view_name": "IntSliderView",
      "continuous_update": true,
      "description": "Humidity (%)",
      "description_tooltip": null,
      "disabled": false,
      "layout": "IPY_MODEL_abc27dc11c4344fdae75c57fc9fc5f36",
      "max": 90,
      "min": 30,
      "orientation": "horizontal",
      "readout": true,
      "readout_format": "d",
      "step": 5,
      "style": "IPY_MODEL_6499acae046748ea9f801e00669f6aaa",
      "value": 65
     }
    },
    "f6dc2aa830074334a280208a58221cc0": {
     "model_module": "@jupyter-widgets/base",
     "model_module_version": "1.2.0",
     "model_name": "LayoutModel",
     "state": {
      "_model_module": "@jupyter-widgets/base",
      "_model_module_version": "1.2.0",
      "_model_name": "LayoutModel",
      "_view_count": null,
      "_view_module": "@jupyter-widgets/base",
      "_view_module_version": "1.2.0",
      "_view_name": "LayoutView",
      "align_content": null,
      "align_items": null,
      "align_self": null,
      "border": null,
      "bottom": null,
      "display": null,
      "flex": null,
      "flex_flow": null,
      "grid_area": null,
      "grid_auto_columns": null,
      "grid_auto_flow": null,
      "grid_auto_rows": null,
      "grid_column": null,
      "grid_gap": null,
      "grid_row": null,
      "grid_template_areas": null,
      "grid_template_columns": null,
      "grid_template_rows": null,
      "height": null,
      "justify_content": null,
      "justify_items": null,
      "left": null,
      "margin": null,
      "max_height": null,
      "max_width": null,
      "min_height": null,
      "min_width": null,
      "object_fit": null,
      "object_position": null,
      "order": null,
      "overflow": null,
      "overflow_x": null,
      "overflow_y": null,
      "padding": null,
      "right": null,
      "top": null,
      "visibility": null,
      "width": null
     }
    },
    "fedc3fd19f32465aaec8b4e24594f93a": {
     "model_module": "@jupyter-widgets/base",
     "model_module_version": "1.2.0",
     "model_name": "LayoutModel",
     "state": {
      "_model_module": "@jupyter-widgets/base",
      "_model_module_version": "1.2.0",
      "_model_name": "LayoutModel",
      "_view_count": null,
      "_view_module": "@jupyter-widgets/base",
      "_view_module_version": "1.2.0",
      "_view_name": "LayoutView",
      "align_content": null,
      "align_items": null,
      "align_self": null,
      "border": null,
      "bottom": null,
      "display": null,
      "flex": null,
      "flex_flow": null,
      "grid_area": null,
      "grid_auto_columns": null,
      "grid_auto_flow": null,
      "grid_auto_rows": null,
      "grid_column": null,
      "grid_gap": null,
      "grid_row": null,
      "grid_template_areas": null,
      "grid_template_columns": null,
      "grid_template_rows": null,
      "height": null,
      "justify_content": null,
      "justify_items": null,
      "left": null,
      "margin": null,
      "max_height": null,
      "max_width": null,
      "min_height": null,
      "min_width": null,
      "object_fit": null,
      "object_position": null,
      "order": null,
      "overflow": null,
      "overflow_x": null,
      "overflow_y": null,
      "padding": null,
      "right": null,
      "top": null,
      "visibility": null,
      "width": null
     }
    }
   }
  }
 },
 "nbformat": 4,
 "nbformat_minor": 4
}
